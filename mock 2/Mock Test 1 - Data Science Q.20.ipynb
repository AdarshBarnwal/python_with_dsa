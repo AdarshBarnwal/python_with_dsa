{
 "cells": [
  {
   "cell_type": "markdown",
   "id": "7bcd4d8f-c650-47ba-ae7f-36cbb37010f9",
   "metadata": {},
   "source": [
    "                                        Mock Test 1 - Data Science"
   ]
  },
  {
   "cell_type": "markdown",
   "id": "bfbb4c4c-5147-4952-b439-768d0395f185",
   "metadata": {},
   "source": [
    "Q.20.Ans:"
   ]
  },
  {
   "cell_type": "code",
   "execution_count": 1,
   "id": "5417e5ec-e39a-4e78-af84-d73600e46410",
   "metadata": {},
   "outputs": [
    {
     "name": "stdout",
     "output_type": "stream",
     "text": [
      "P-value: 0.09434977284243756\n"
     ]
    }
   ],
   "source": [
    "from scipy import stats\n",
    "\n",
    "def perform_hypothesis_test(sample1, sample2):\n",
    "    t_statistic, p_value = stats.ttest_ind(sample1, sample2)\n",
    "    return p_value\n",
    "\n",
    "#Example:-\n",
    "\n",
    "sample1 = [5, 10, 15, 20, 25]\n",
    "sample2 = [10, 20, 30, 40, 50]\n",
    "p_value = perform_hypothesis_test(sample1, sample2)\n",
    "print(\"P-value:\", p_value)"
   ]
  },
  {
   "cell_type": "code",
   "execution_count": null,
   "id": "16e8e340-799f-4719-a8fd-f5a4e30bf904",
   "metadata": {},
   "outputs": [],
   "source": []
  }
 ],
 "metadata": {
  "kernelspec": {
   "display_name": "Python 3 (ipykernel)",
   "language": "python",
   "name": "python3"
  },
  "language_info": {
   "codemirror_mode": {
    "name": "ipython",
    "version": 3
   },
   "file_extension": ".py",
   "mimetype": "text/x-python",
   "name": "python",
   "nbconvert_exporter": "python",
   "pygments_lexer": "ipython3",
   "version": "3.10.8"
  }
 },
 "nbformat": 4,
 "nbformat_minor": 5
}

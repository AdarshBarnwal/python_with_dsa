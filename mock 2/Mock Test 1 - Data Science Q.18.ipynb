{
 "cells": [
  {
   "cell_type": "markdown",
   "id": "7a31bf6d-1d45-43b0-8aef-4192607686d8",
   "metadata": {},
   "source": [
    "                                        Mock Test 1 - Data Science"
   ]
  },
  {
   "cell_type": "markdown",
   "id": "ccc6bee9-3249-44d4-b4c8-1564018b4059",
   "metadata": {},
   "source": [
    "Q.18.Ans:-"
   ]
  },
  {
   "cell_type": "code",
   "execution_count": 1,
   "id": "4483c0ba-80e6-4c20-9649-c9ab9a56b28f",
   "metadata": {},
   "outputs": [
    {
     "name": "stdout",
     "output_type": "stream",
     "text": [
      "Execution time: 2.00206 seconds\n"
     ]
    }
   ],
   "source": [
    "import time\n",
    "\n",
    "def timer(func):\n",
    "    def wrapper(*args, **kwargs):\n",
    "        start_time = time.time()\n",
    "        result = func(*args, **kwargs)\n",
    "        end_time = time.time()\n",
    "        execution_time = end_time - start_time\n",
    "        print(f\"Execution time: {execution_time:.5f} seconds\")\n",
    "        return result\n",
    "    return wrapper\n",
    "\n",
    "import time\n",
    "\n",
    "@timer\n",
    "def my_function():\n",
    "    # Function code goes here\n",
    "    time.sleep(2)\n",
    "\n",
    "my_function()\n",
    "\n"
   ]
  },
  {
   "cell_type": "code",
   "execution_count": null,
   "id": "740c58a8-d1f9-49c0-bf44-95679be4c513",
   "metadata": {},
   "outputs": [],
   "source": []
  }
 ],
 "metadata": {
  "kernelspec": {
   "display_name": "Python 3 (ipykernel)",
   "language": "python",
   "name": "python3"
  },
  "language_info": {
   "codemirror_mode": {
    "name": "ipython",
    "version": 3
   },
   "file_extension": ".py",
   "mimetype": "text/x-python",
   "name": "python",
   "nbconvert_exporter": "python",
   "pygments_lexer": "ipython3",
   "version": "3.10.8"
  }
 },
 "nbformat": 4,
 "nbformat_minor": 5
}

{
 "cells": [
  {
   "cell_type": "markdown",
   "id": "941a49bc-6cf6-446b-825b-b034af2f4bd3",
   "metadata": {},
   "source": [
    "                                            Mock Test 1 - Data Science"
   ]
  },
  {
   "cell_type": "code",
   "execution_count": null,
   "id": "710c35c4-bddc-4659-9f60-8c7fa280da0f",
   "metadata": {},
   "outputs": [],
   "source": [
    "Q.19.Ans:"
   ]
  },
  {
   "cell_type": "code",
   "execution_count": 1,
   "id": "7d0ac859-f8a6-4a18-b194-4fdd117f96eb",
   "metadata": {},
   "outputs": [
    {
     "name": "stdout",
     "output_type": "stream",
     "text": [
      "Mean: 20.0\n"
     ]
    }
   ],
   "source": [
    "def calculate_mean(numbers):\n",
    "    total = sum(numbers)\n",
    "    count = len(numbers)\n",
    "    mean = total / count\n",
    "    return mean\n",
    "\n",
    "#Example:\n",
    "data = [10, 15, 20, 25, 30]\n",
    "mean_value = calculate_mean(data)\n",
    "print(\"Mean:\", mean_value)"
   ]
  },
  {
   "cell_type": "code",
   "execution_count": null,
   "id": "7940e661-5a7d-4413-98e9-3a235da8a1d1",
   "metadata": {},
   "outputs": [],
   "source": []
  }
 ],
 "metadata": {
  "kernelspec": {
   "display_name": "Python 3 (ipykernel)",
   "language": "python",
   "name": "python3"
  },
  "language_info": {
   "codemirror_mode": {
    "name": "ipython",
    "version": 3
   },
   "file_extension": ".py",
   "mimetype": "text/x-python",
   "name": "python",
   "nbconvert_exporter": "python",
   "pygments_lexer": "ipython3",
   "version": "3.10.8"
  }
 },
 "nbformat": 4,
 "nbformat_minor": 5
}

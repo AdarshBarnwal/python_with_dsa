{
 "cells": [
  {
   "cell_type": "markdown",
   "id": "a0b20d52-eb7b-42c9-8c8c-9dd69235115f",
   "metadata": {},
   "source": [
    "                                    Mock Test 1 - Data Science"
   ]
  },
  {
   "cell_type": "markdown",
   "id": "feb0c66a-14df-4219-a7b6-07b36e545f9a",
   "metadata": {},
   "source": [
    "Q.17.Ans:-"
   ]
  },
  {
   "cell_type": "code",
   "execution_count": 2,
   "id": "f5ccc704-f53e-4e23-9979-35acfca5ac26",
   "metadata": {},
   "outputs": [
    {
     "name": "stdout",
     "output_type": "stream",
     "text": [
      "[2, 4, 6, 8, 10]\n"
     ]
    }
   ],
   "source": [
    "def get_even_numbers(input_list):\n",
    "    return [num for num in input_list if num % 2 == 0]\n",
    "\n",
    "\n",
    "input_list = [1, 2, 3, 4, 5, 6, 7, 8, 9, 10]\n",
    "output_list = get_even_numbers(input_list)\n",
    "print(output_list)"
   ]
  },
  {
   "cell_type": "code",
   "execution_count": null,
   "id": "8cfcba55-042a-43f2-bd3e-9aab51fb0638",
   "metadata": {},
   "outputs": [],
   "source": []
  }
 ],
 "metadata": {
  "kernelspec": {
   "display_name": "Python 3 (ipykernel)",
   "language": "python",
   "name": "python3"
  },
  "language_info": {
   "codemirror_mode": {
    "name": "ipython",
    "version": 3
   },
   "file_extension": ".py",
   "mimetype": "text/x-python",
   "name": "python",
   "nbconvert_exporter": "python",
   "pygments_lexer": "ipython3",
   "version": "3.10.8"
  }
 },
 "nbformat": 4,
 "nbformat_minor": 5
}

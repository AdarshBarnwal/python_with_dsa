{
 "cells": [
  {
   "cell_type": "markdown",
   "id": "4616966f-2231-4011-9c05-67b524b2115d",
   "metadata": {},
   "source": [
    "## Part 1: `Theoretical Question.`"
   ]
  },
  {
   "cell_type": "markdown",
   "id": "f83dea31-c5c8-4a87-a520-069241a1ae85",
   "metadata": {},
   "source": [
    "### 1.` What are the different data structures used in Tensorflow?. Give some examples.`"
   ]
  },
  {
   "cell_type": "markdown",
   "id": "5b752048-8aa6-45ed-9005-b911a81781f2",
   "metadata": {},
   "source": [
    "### `In TensorFlow, the two primary data structures are:`\n",
    "\n",
    "1. **Tensors**: Tensors are the fundamental building blocks in TensorFlow and are similar to multi-dimensional arrays or matrices. They represent data as n-dimensional arrays and are the main data structure used for computations. Tensors can have any number of dimensions (rank) and can hold both numeric and non-numeric data:\n",
    "\n",
    "2. **Graphs**: TensorFlow uses a computational graph to define and represent the computations that will be performed. The graph consists of nodes that represent operations and tensors representing data. Each node in the graph represents a mathematical operation, and the edges represent the flow of data (tensors) between operations."
   ]
  },
  {
   "cell_type": "code",
   "execution_count": 4,
   "id": "c60d8b39-a2f3-4366-861f-3ccd2529f1ce",
   "metadata": {},
   "outputs": [
    {
     "name": "stderr",
     "output_type": "stream",
     "text": [
      "2023-07-21 15:24:07.655856: I tensorflow/tsl/cuda/cudart_stub.cc:28] Could not find cuda drivers on your machine, GPU will not be used.\n",
      "2023-07-21 15:24:07.728581: I tensorflow/tsl/cuda/cudart_stub.cc:28] Could not find cuda drivers on your machine, GPU will not be used.\n",
      "2023-07-21 15:24:07.730030: I tensorflow/core/platform/cpu_feature_guard.cc:182] This TensorFlow binary is optimized to use available CPU instructions in performance-critical operations.\n",
      "To enable the following instructions: AVX2 FMA, in other operations, rebuild TensorFlow with the appropriate compiler flags.\n",
      "2023-07-21 15:24:08.986704: W tensorflow/compiler/tf2tensorrt/utils/py_utils.cc:38] TF-TRT Warning: Could not find TensorRT\n"
     ]
    }
   ],
   "source": [
    "#Examples of Tensors:\n",
    "\n",
    "import tensorflow as tf\n",
    "#Scalar (0-dimensional tensor):\n",
    "scalar = tf.constant(5)\n",
    "#Vector (1-dimensional tensor):\n",
    "vector = tf.constant([1, 2, 3, 4, 5])\n",
    "#Matrix (2-dimensional tensor):\n",
    "matrix = tf.constant([[1, 2], [3, 4]])\n",
    "#dimensional tensor:\n",
    "tensor_3d = tf.constant([[[1, 2], [3, 4]], [[5, 6], [7, 8]]])"
   ]
  },
  {
   "cell_type": "code",
   "execution_count": 7,
   "id": "3290f0a2-d579-484c-92ef-f197012646fe",
   "metadata": {},
   "outputs": [
    {
     "name": "stdout",
     "output_type": "stream",
     "text": [
      "WARNING:tensorflow:From /opt/conda/lib/python3.10/site-packages/tensorflow/python/compat/v2_compat.py:107: disable_resource_variables (from tensorflow.python.ops.variable_scope) is deprecated and will be removed in a future version.\n",
      "Instructions for updating:\n",
      "non-resource variables are not supported in the long term\n",
      "5\n"
     ]
    },
    {
     "name": "stderr",
     "output_type": "stream",
     "text": [
      "2023-07-21 15:26:19.480954: I tensorflow/compiler/mlir/mlir_graph_optimization_pass.cc:375] MLIR V1 optimization pass is not enabled\n"
     ]
    }
   ],
   "source": [
    "import tensorflow.compat.v1 as tf\n",
    "tf.disable_v2_behavior()\n",
    "\n",
    "# Define the computational graph\n",
    "a = tf.constant(2)\n",
    "b = tf.constant(3)\n",
    "c = tf.add(a, b)\n",
    "\n",
    "# Create a TensorFlow session to run the graph\n",
    "with tf.Session() as sess:\n",
    "    result = sess.run(c)\n",
    "    print(result)"
   ]
  },
  {
   "cell_type": "markdown",
   "id": "f3ed3de8-89fd-4ebc-a5f2-8a9d291c8922",
   "metadata": {},
   "source": [
    "### 2. `How does the TensorFlow constant differ from a TensorFlow variable? Explain with an example`"
   ]
  },
  {
   "cell_type": "markdown",
   "id": "9d02f057-c7aa-47d4-91f5-61a8f7ff3b30",
   "metadata": {},
   "source": [
    "In TensorFlow, both constants and variables are used to represent data, but they have different characteristics and purposes:\n",
    "\n",
    "1. **TensorFlow Constant**:\n",
    "\n",
    "- A TensorFlow constant is an immutable tensor whose value cannot be changed after its creation.\n",
    "- Once a constant is defined and initialized with a value, it retains that value throughout the computation, and its value remains fixed during the execution of the program.\n",
    "- Constants are typically used to store fixed values that remain constant throughout the computation."
   ]
  },
  {
   "cell_type": "code",
   "execution_count": 8,
   "id": "951f82a0-c94a-446f-8387-7ebb4f7da8f9",
   "metadata": {},
   "outputs": [],
   "source": [
    "#Example of TensorFlow Constant:\n",
    "\n",
    "import tensorflow as tf\n",
    "\n",
    "# Define a TensorFlow constant\n",
    "constant_tensor = tf.constant([1, 2, 3])\n",
    "\n",
    "#In this example, `constant_tensor` is a TensorFlow constant initialized with a 1-dimensional tensor `[1, 2, 3]`.\n",
    " #The value of this constant cannot be modified or updated during the computation."
   ]
  },
  {
   "cell_type": "markdown",
   "id": "bda5477b-2be0-44cc-8a0f-a6a9a8685614",
   "metadata": {},
   "source": [
    "2. **TensorFlow Variable**:\n",
    "\n",
    "- A TensorFlow variable is a mutable tensor that can hold values that can be updated or changed during the computation.\n",
    "- Variables are used to store and update model parameters during the training process. They allow the model to learn and adjust its parameters based on the data and optimization algorithm.\n",
    "- Unlike constants, the value of a variable can be modified using various operations like `assign` or `assign_add`."
   ]
  },
  {
   "cell_type": "code",
   "execution_count": 10,
   "id": "2dace5d5-2cad-4d47-a23c-7904f602dd2b",
   "metadata": {},
   "outputs": [],
   "source": [
    "#Example of TensorFlow Variable:\n",
    "import tensorflow as tf\n",
    "\n",
    "# Define a TensorFlow variable\n",
    "initial_value = tf.random.normal(shape=(3, 3), mean=0, stddev=1)\n",
    "variable_tensor = tf.Variable(initial_value)\n",
    "\n",
    "\n",
    "#In this example, `variable_tensor` is a TensorFlow variable initialized with a 3x3 tensor generated from a normal distribution. \n",
    "#The value of this variable can be updated during the computation using the various assignment operations available in TensorFlow."
   ]
  },
  {
   "cell_type": "markdown",
   "id": "6c6e1f5a-5fbd-4a82-9619-2aa64e035f78",
   "metadata": {},
   "source": [
    "### 3.` Describe the process of matrix addition, multiplication, and elementDwise operations in TensorFlow.`"
   ]
  },
  {
   "cell_type": "markdown",
   "id": "c1d563c1-17a1-45e0-82dd-2e1c27944963",
   "metadata": {},
   "source": [
    "In TensorFlow, matrix addition, multiplication, and element-wise operations are essential mathematical operations used for various computations in deep learning and other machine learning tasks. Let's describe each of these operations in detail:\n",
    "\n",
    "`Matrix Addition:`  Matrix addition is the process of adding corresponding elements of two matrices to create a new matrix with the same shape as the original matrices. For matrix addition to be valid, the two matrices must have the same dimensions (i.e., the same number of rows and columns).\n",
    "\n",
    "In TensorFlow, matrix addition can be performed using the tf.add() function or the + operator.\n",
    "\n",
    "`Matrix Multiplication:` Matrix multiplication is the process of multiplying corresponding elements of two matrices and summing them up to create a new matrix with different dimensions. For matrix multiplication to be valid, the number of columns in the first matrix must be equal to the number of rows in the second matrix.\n",
    "\n",
    "In TensorFlow, matrix multiplication can be performed using the tf.matmul() function or the @ operator.\n",
    "\n",
    "`Element-wise Operations:` Element-wise operations apply an operation between corresponding elements of two tensors or matrices. These operations are performed element by element without considering the shape of the tensors, and they are commonly used in various mathematical computations.\n",
    "\n",
    "In TensorFlow, element-wise operations can be performed using corresponding mathematical functions or operators like tf.add(), tf.subtract(), tf.multiply(), tf.divide(), etc.\n",
    "\n",
    "In summary, matrix addition, multiplication, and element-wise operations are fundamental mathematical operations used in TensorFlow for various computations in deep learning and machine learning. Understanding and utilizing these operations correctly are essential for building and training effective neural networks and other machine learning models."
   ]
  },
  {
   "cell_type": "markdown",
   "id": "3424432d-199b-4754-946b-e8ad2e3c65e9",
   "metadata": {
    "tags": []
   },
   "source": [
    "## Part 2: `Practical Implementation`"
   ]
  },
  {
   "cell_type": "code",
   "execution_count": 4,
   "id": "c925cc55-eb41-48ae-805e-5be003a22690",
   "metadata": {},
   "outputs": [
    {
     "name": "stderr",
     "output_type": "stream",
     "text": [
      "2023-07-21 16:37:38.578892: I tensorflow/tsl/cuda/cudart_stub.cc:28] Could not find cuda drivers on your machine, GPU will not be used.\n",
      "2023-07-21 16:37:38.651175: I tensorflow/tsl/cuda/cudart_stub.cc:28] Could not find cuda drivers on your machine, GPU will not be used.\n",
      "2023-07-21 16:37:38.652308: I tensorflow/core/platform/cpu_feature_guard.cc:182] This TensorFlow binary is optimized to use available CPU instructions in performance-critical operations.\n",
      "To enable the following instructions: AVX2 FMA, in other operations, rebuild TensorFlow with the appropriate compiler flags.\n",
      "2023-07-21 16:37:39.881494: W tensorflow/compiler/tf2tensorrt/utils/py_utils.cc:38] TF-TRT Warning: Could not find TensorRT\n"
     ]
    },
    {
     "name": "stdout",
     "output_type": "stream",
     "text": [
      "[[ 6  8]\n",
      " [10 12]]\n",
      "[[ 6  8]\n",
      " [10 12]]\n",
      "[[19 22]\n",
      " [43 50]]\n",
      "[[19 22]\n",
      " [43 50]]\n"
     ]
    }
   ],
   "source": [
    "import tensorflow as tf\n",
    "\n",
    "matrix1 = tf.constant([[1, 2], [3, 4]])\n",
    "matrix2 = tf.constant([[5, 6], [7, 8]])\n",
    "                                      #Example of Matrix Addition in TensorFlow:\n",
    "result_add = tf.add(matrix1, matrix2)\n",
    "result_add_alt = matrix1 + matrix2\n",
    "                                      #Example of Matrix Multiplication in TensorFlow:\n",
    "result_mul = tf.matmul(matrix1, matrix2)\n",
    "result_mul_alt = matrix1 @ matrix2\n",
    "\n",
    "print(result_add.numpy())\n",
    "print(result_add_alt.numpy())\n",
    "\n",
    "print(result_mul.numpy())\n",
    "print(result_mul_alt.numpy())\n",
    "\n"
   ]
  },
  {
   "cell_type": "code",
   "execution_count": 33,
   "id": "61fd5a7e-f8b4-4e8d-9658-8ba63143b65f",
   "metadata": {},
   "outputs": [
    {
     "name": "stdout",
     "output_type": "stream",
     "text": [
      "[5 7 9]\n",
      "[ 4 10 18]\n"
     ]
    }
   ],
   "source": [
    "#Example of Element-wise Operations in TensorFlow:\n",
    "import tensorflow as tf\n",
    "\n",
    "tensor1 = tf.constant([1, 2, 3])\n",
    "tensor2 = tf.constant([4, 5, 6])\n",
    "\n",
    "result_elementwise_add = tf.add(tensor1, tensor2)\n",
    "\n",
    "result_elementwise_mul = tf.multiply(tensor1, tensor2)\n",
    "\n",
    "print(result_elementwise_add.numpy())\n",
    "print(result_elementwise_mul.numpy())"
   ]
  },
  {
   "cell_type": "markdown",
   "id": "4f7a6c7a-04ec-4335-8684-90e0eb2d7344",
   "metadata": {},
   "source": [
    "## Talk 1: `Creating and Manipulating Matrices.`\n",
    "### 1. Create a normal matrix A with dimensions 3x3, using TensorFlow's random_normal function. Display the values of matrix A.\n",
    "\n",
    "### 2. Create a Gaussian matrix B with dimensions 4x4, using TensorFlow's truncated_normal function. Display the values of matrix B.\n",
    "\n",
    "### 3. Create a matrix C with dimensions 2x2, where the values are drawn from a normal distribution with a mean of 2 and a standard deviation of 0.5, using TensorFlow's random.normal function. Display the values of matrix C.\n",
    "\n",
    "### 4. Perform matrix addition between matrix A and matrix B, and store the result in matrix D.\n",
    "\n",
    "### 5. Perform matrix multiplication between matrix C and matrix D, and store the result in matrix E."
   ]
  },
  {
   "cell_type": "code",
   "execution_count": 34,
   "id": "cb2db091-f353-42c2-abe3-6ef9740fae4b",
   "metadata": {},
   "outputs": [
    {
     "name": "stdout",
     "output_type": "stream",
     "text": [
      "Matrix A:\n",
      "tf.Tensor(\n",
      "[[-0.8692205   0.52161187  0.8716782 ]\n",
      " [-0.6580834  -1.4340438  -0.13840975]\n",
      " [ 2.398869    0.15419838  1.3917272 ]], shape=(3, 3), dtype=float32)\n",
      "Matrix B:\n",
      "tf.Tensor(\n",
      "[[ 1.0836473   0.296019   -0.00317042]\n",
      " [ 1.921282    1.4694746  -0.41864824]\n",
      " [ 0.48359945  1.6313518   0.17777042]], shape=(3, 3), dtype=float32)\n",
      "Matrix C:\n",
      "tf.Tensor(\n",
      "[[1.7150543 1.7728846 2.6744595]\n",
      " [2.452027  1.8459572 2.5308132]], shape=(2, 3), dtype=float32)\n",
      "Matrix D:\n",
      "tf.Tensor(\n",
      "[[ 0.21442676  0.8176309   0.86850774]\n",
      " [ 1.2631986   0.03543079 -0.557058  ]\n",
      " [ 2.8824685   1.7855502   1.5694976 ]], shape=(3, 3), dtype=float32)\n",
      "Matrix E:\n",
      "tf.Tensor(\n",
      "[[10.316303   6.2404776  4.699496 ]\n",
      " [10.15258    6.589151   5.073405 ]], shape=(2, 3), dtype=float32)\n"
     ]
    }
   ],
   "source": [
    "import tensorflow as tf\n",
    "\n",
    "# 1. Create a normal matrix A with dimensions 3x3, using TensorFlow's random_normal function.\n",
    "A = tf.random.normal([3, 3])\n",
    "print(\"Matrix A:\")\n",
    "print(A)\n",
    "\n",
    "# 2. Create a Gaussian matrix B with dimensions 3x3 (to match the dimensions of matrix A).\n",
    "B = tf.random.truncated_normal([3, 3])\n",
    "print(\"Matrix B:\")\n",
    "print(B)\n",
    "\n",
    "# 3. Create a matrix C with dimensions 2x3, where the values are drawn from a normal distribution with a mean of 2 and a standard deviation of 0.5.\n",
    "C = tf.random.normal([2, 3], mean=2, stddev=0.5)\n",
    "print(\"Matrix C:\")\n",
    "print(C)\n",
    "\n",
    "# 4. Perform matrix addition between matrix A and matrix B, and store the result in matrix D.\n",
    "D = tf.add(A, B)\n",
    "print(\"Matrix D:\")\n",
    "print(D)\n",
    "\n",
    "# 5. Perform matrix multiplication between matrix C and matrix D, and store the result in matrix E.\n",
    "E = tf.matmul(C, D)\n",
    "print(\"Matrix E:\")\n",
    "print(E)"
   ]
  },
  {
   "cell_type": "code",
   "execution_count": null,
   "id": "777fb8e1-c3b5-4eaa-85cd-afa9e308c977",
   "metadata": {},
   "outputs": [],
   "source": []
  },
  {
   "cell_type": "markdown",
   "id": "f1c4da2b-9075-479b-82b0-8fedf9049631",
   "metadata": {},
   "source": [
    "## Talk 2: `Performing Additional Matrix Operation.`\n",
    "\n",
    "### 1. Create a matrix F with dimensions 2x2, initialized with random values using TensorFlow's random_uniform function.\n",
    "\n",
    "### 2. Calculate the transpose of matrix F and store the result in matrix G.\n",
    "\n",
    "### 3. Calculate the element-wise exponential of matrix F and store the result in matrix H\n",
    "\n",
    "### 4. Create a matrix I by concatenating matrix F and matrix G horizontally.\n",
    "\n",
    "### 5. Create a matrix J by concatenating matrix F and matrix H vertically."
   ]
  },
  {
   "cell_type": "code",
   "execution_count": 35,
   "id": "5e1c7c16-52c1-45ae-8dd8-bfd73fd9aa03",
   "metadata": {},
   "outputs": [
    {
     "name": "stdout",
     "output_type": "stream",
     "text": [
      "Matrix F:\n",
      "tf.Tensor(\n",
      "[[0.05882573 0.8809929 ]\n",
      " [0.58777726 0.34340692]], shape=(2, 2), dtype=float32)\n",
      "Matrix G:\n",
      "tf.Tensor(\n",
      "[[0.05882573 0.58777726]\n",
      " [0.8809929  0.34340692]], shape=(2, 2), dtype=float32)\n",
      "Matrix H:\n",
      "tf.Tensor(\n",
      "[[1.0605904 2.4132946]\n",
      " [1.799983  1.4097422]], shape=(2, 2), dtype=float32)\n",
      "Matrix I:\n",
      "tf.Tensor(\n",
      "[[0.05882573 0.8809929  0.05882573 0.58777726]\n",
      " [0.58777726 0.34340692 0.8809929  0.34340692]], shape=(2, 4), dtype=float32)\n",
      "Matrix J:\n",
      "tf.Tensor(\n",
      "[[0.05882573 0.8809929 ]\n",
      " [0.58777726 0.34340692]\n",
      " [1.0605904  2.4132946 ]\n",
      " [1.799983   1.4097422 ]], shape=(4, 2), dtype=float32)\n"
     ]
    }
   ],
   "source": [
    "import tensorflow as tf\n",
    "\n",
    "# 1. Create a matrix F with dimensions 2x2, initialized with random values using TensorFlow's random_uniform function.\n",
    "F = tf.random.uniform([2, 2])\n",
    "print(\"Matrix F:\")\n",
    "print(F)\n",
    "\n",
    "# 2. Calculate the transpose of matrix F and store the result in matrix G.\n",
    "G = tf.transpose(F)\n",
    "print(\"Matrix G:\")\n",
    "print(G)\n",
    "\n",
    "# 3. Calculate the element-wise exponential of matrix F and store the result in matrix H.\n",
    "H = tf.exp(F)\n",
    "print(\"Matrix H:\")\n",
    "print(H)\n",
    "\n",
    "# 4. Create a matrix I by concatenating matrix F and matrix G horizontally.\n",
    "I = tf.concat([F, G], axis=1)\n",
    "print(\"Matrix I:\")\n",
    "print(I)\n",
    "\n",
    "# 5. Create a matrix J by concatenating matrix F and matrix H vertically.\n",
    "J = tf.concat([F, H], axis=0)\n",
    "print(\"Matrix J:\")\n",
    "print(J)"
   ]
  },
  {
   "cell_type": "code",
   "execution_count": null,
   "id": "fe6b1dab-af25-48ec-9922-294d8654af75",
   "metadata": {},
   "outputs": [],
   "source": []
  }
 ],
 "metadata": {
  "kernelspec": {
   "display_name": "Python 3 (ipykernel)",
   "language": "python",
   "name": "python3"
  },
  "language_info": {
   "codemirror_mode": {
    "name": "ipython",
    "version": 3
   },
   "file_extension": ".py",
   "mimetype": "text/x-python",
   "name": "python",
   "nbconvert_exporter": "python",
   "pygments_lexer": "ipython3",
   "version": "3.10.8"
  }
 },
 "nbformat": 4,
 "nbformat_minor": 5
}

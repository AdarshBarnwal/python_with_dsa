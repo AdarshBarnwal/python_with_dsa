{
 "cells": [
  {
   "cell_type": "markdown",
   "id": "a6fddd0c-5f20-4e1d-8586-cd5c87f67239",
   "metadata": {},
   "source": [
    "Q1. Write a Python program to reverse a string without using any built-in string reversal functions.\n",
    "\n",
    "Ans:-"
   ]
  },
  {
   "cell_type": "code",
   "execution_count": 1,
   "id": "3b1ebb7d-1a0f-47a1-86e5-fd9749f8bfb3",
   "metadata": {},
   "outputs": [
    {
     "name": "stdout",
     "output_type": "stream",
     "text": [
      "!dlroW ,olleH\n"
     ]
    }
   ],
   "source": [
    "def reverse_string(string):\n",
    "    reversed_string = ''\n",
    "    for i in range(len(string) - 1, -1, -1):\n",
    "        reversed_string += string[i]\n",
    "    return reversed_string\n",
    "\n",
    "# Example usage:\n",
    "input_string = 'Hello, World!'\n",
    "reversed_string = reverse_string(input_string)\n",
    "print(reversed_string)"
   ]
  },
  {
   "cell_type": "code",
   "execution_count": null,
   "id": "02ce1bf6-c96e-46d2-bae6-96e967a6b1c8",
   "metadata": {},
   "outputs": [],
   "source": []
  },
  {
   "cell_type": "markdown",
   "id": "933ea53b-67e1-42eb-bebe-c7cffe00d599",
   "metadata": {},
   "source": [
    "Q2. Implement a function to check if a given string is a palindrome.\n",
    "\n",
    "Ans:-"
   ]
  },
  {
   "cell_type": "code",
   "execution_count": 7,
   "id": "362d4693-3bb4-4ca2-a57f-fcc5891dd1cf",
   "metadata": {},
   "outputs": [
    {
     "name": "stdout",
     "output_type": "stream",
     "text": [
      "False\n"
     ]
    }
   ],
   "source": [
    "def is_palindrome(string):\n",
    "    reversed_string = \"\"\n",
    "    for i in range(len(string) - 1, -1, -1):\n",
    "        reversed_string += string[i]\n",
    "        return string == reversed_string\n",
    "    string =\"A man, a plan, a canal: Panama\"\n",
    "print(is_palindrome(string))"
   ]
  },
  {
   "cell_type": "code",
   "execution_count": null,
   "id": "d13c7434-28b0-4792-862e-a845350e5f37",
   "metadata": {},
   "outputs": [],
   "source": []
  },
  {
   "cell_type": "markdown",
   "id": "18825597-b75d-424e-a9bd-acac5178f5b4",
   "metadata": {},
   "source": [
    "Q3.Write a program to find the largest element in a given list.\n",
    "\n",
    "Ans:-"
   ]
  },
  {
   "cell_type": "code",
   "execution_count": 18,
   "id": "9f0f8590-e480-4e0f-a0bc-f32e7b49c14c",
   "metadata": {},
   "outputs": [
    {
     "name": "stdout",
     "output_type": "stream",
     "text": [
      "The largest element in the list is 10\n"
     ]
    }
   ],
   "source": [
    "def find_largest_element(list_of_numbers):\n",
    "    largest_element = list_of_numbers[0]\n",
    "    for number in list_of_numbers:\n",
    "        if number > largest_element:\n",
    "            largest_element = number\n",
    "    return largest_element\n",
    "list_of_numbers = [10, 4, 2, 9, 7, 5, 1, 3, 6, 8]\n",
    "largest_element = find_largest_element(list_of_numbers)\n",
    "print(f\"The largest element in the list is {largest_element}\")"
   ]
  },
  {
   "cell_type": "code",
   "execution_count": null,
   "id": "3835c4b4-3925-4edf-84f7-d82f5a6e4ebc",
   "metadata": {},
   "outputs": [],
   "source": []
  },
  {
   "cell_type": "markdown",
   "id": "a216bd48-11a7-4eb5-ae41-8dc274619dba",
   "metadata": {},
   "source": [
    "Q4.Implement a function to count the occurrence of each element in a list.\n",
    "\n",
    "Ans:-"
   ]
  },
  {
   "cell_type": "code",
   "execution_count": 20,
   "id": "0f61074d-2b65-4d3b-b3c2-30a677bd2d34",
   "metadata": {},
   "outputs": [
    {
     "name": "stdout",
     "output_type": "stream",
     "text": [
      "The occurrence counts are: {1: 2, 2: 2, 3: 2, 4: 1, 5: 1, 6: 1, 7: 1}\n"
     ]
    }
   ],
   "source": [
    "def count_occurrences(lst):\n",
    "    occurrence_counts = {}\n",
    "    for element in list_of_elements:\n",
    "        if element in occurrence_counts:\n",
    "            occurrence_counts[element] += 1\n",
    "        else:\n",
    "            occurrence_counts[element] = 1\n",
    "    return occurrence_counts\n",
    "\n",
    "\n",
    "\n",
    "list_of_elements = [1, 2, 3, 1, 2, 3, 4, 5, 6, 7]\n",
    "occurrence_counts = count_occurrences(list_of_elements)\n",
    "print(f\"The occurrence counts are: {occurrence_counts}\")"
   ]
  },
  {
   "cell_type": "code",
   "execution_count": null,
   "id": "5a541758-8811-4f6e-84af-26ab31b2d3fd",
   "metadata": {},
   "outputs": [],
   "source": []
  },
  {
   "cell_type": "markdown",
   "id": "1d2d7457-fb29-4de7-bcce-b7ffb8d62b84",
   "metadata": {},
   "source": [
    "Q5.Write a Python program to find the second largest number in a list.\n",
    "\n",
    "Ans:-"
   ]
  },
  {
   "cell_type": "code",
   "execution_count": 23,
   "id": "89060ec8-af2c-4dd9-9412-fd038af905aa",
   "metadata": {},
   "outputs": [
    {
     "name": "stdout",
     "output_type": "stream",
     "text": [
      "The second largest number in the list is 9\n"
     ]
    }
   ],
   "source": [
    "def find_second_largest_number(list_of_numbers):\n",
    "    list_of_numbers.sort(reverse=True)\n",
    "    second_largest_number = list_of_numbers[1]\n",
    "    return second_largest_number\n",
    "list_of_numbers = [10, 4, 2, 9, 7, 5, 1, 3, 6, 8]\n",
    "second_largest_number = find_second_largest_number(list_of_numbers)\n",
    "print(f\"The second largest number in the list is {second_largest_number}\")"
   ]
  },
  {
   "cell_type": "code",
   "execution_count": null,
   "id": "cef2cdeb-6ea0-4d05-a29f-8f14f2244eb1",
   "metadata": {},
   "outputs": [],
   "source": []
  },
  {
   "cell_type": "markdown",
   "id": "78717db1-64ec-4a6c-9359-43675e3b02e1",
   "metadata": {},
   "source": [
    "Q6.Implement a function to remove duplicate elements from a list.\n",
    "\n",
    "Ans:-"
   ]
  },
  {
   "cell_type": "code",
   "execution_count": 29,
   "id": "85f87670-f8b8-4b85-b76a-d5e30d2ed126",
   "metadata": {},
   "outputs": [
    {
     "name": "stdout",
     "output_type": "stream",
     "text": [
      "New List: [1, 2, 3, 4, 5]\n"
     ]
    }
   ],
   "source": [
    "def remove_duplicates(lst):\n",
    "    return list(set(lst))\n",
    "\n",
    "# Example\n",
    "my_list = [1, 2, 2, 3, 4, 4, 5]\n",
    "new_list = remove_duplicates(my_list)\n",
    "print(\"New List:\", new_list)"
   ]
  },
  {
   "cell_type": "code",
   "execution_count": null,
   "id": "75eb82be-f4bb-42d4-a09a-a930f47d77fb",
   "metadata": {},
   "outputs": [],
   "source": []
  },
  {
   "cell_type": "markdown",
   "id": "08513def-eb3d-48ff-bd0e-bdebe89c198f",
   "metadata": {},
   "source": [
    "Q7.Write a program to calculate the factorial of a given number.\n",
    "\n",
    "Ans:-"
   ]
  },
  {
   "cell_type": "code",
   "execution_count": 30,
   "id": "35ee7177-ef2d-497f-994f-8958bb80c043",
   "metadata": {},
   "outputs": [
    {
     "name": "stdout",
     "output_type": "stream",
     "text": [
      "Factorial of 5 is 120\n"
     ]
    }
   ],
   "source": [
    "def factorial(n):\n",
    "    if n == 0:\n",
    "        return 1\n",
    "    else:\n",
    "        return n * factorial(n - 1)\n",
    "#example\n",
    "num = 5\n",
    "result = factorial(num)\n",
    "print(\"Factorial of\", num, \"is\", result)"
   ]
  },
  {
   "cell_type": "code",
   "execution_count": null,
   "id": "a9a99362-b0ec-4687-b864-334096be7239",
   "metadata": {},
   "outputs": [],
   "source": []
  },
  {
   "cell_type": "markdown",
   "id": "3cab2092-828a-410e-b062-898d748f1f9e",
   "metadata": {},
   "source": [
    "Q8. Implement a function to check if a given number is prime.\n",
    "\n",
    "Ans:-"
   ]
  },
  {
   "cell_type": "code",
   "execution_count": 60,
   "id": "40cfa249-b5e8-445b-a460-e5ce64a61594",
   "metadata": {},
   "outputs": [
    {
     "name": "stdout",
     "output_type": "stream",
     "text": [
      "15 is not prime\n",
      "Is 7 a prime number? True\n"
     ]
    }
   ],
   "source": [
    "def is_prime(num):\n",
    "    if num <= 1:\n",
    "        return False\n",
    "    for i in range(2, int(num ** 0.5) + 1):\n",
    "        if num % i == 0:\n",
    "            return False\n",
    "    return True\n",
    "\n",
    "# Example\n",
    "num = 15\n",
    "if is_prime(num):\n",
    "    print(num, \"is prime\")\n",
    "else:\n",
    "    print(num, \"is not prime\")\n",
    "\n",
    "    \n",
    "number = 7\n",
    "is_prime_number = is_prime(number)\n",
    "print(f\"Is {number} a prime number? {is_prime_number}\")"
   ]
  },
  {
   "cell_type": "code",
   "execution_count": null,
   "id": "e939ffb3-bd4b-43b0-84c1-885efcf8ed0f",
   "metadata": {},
   "outputs": [],
   "source": []
  },
  {
   "cell_type": "markdown",
   "id": "a28b700c-d3c7-48db-a8d3-2b44e3420933",
   "metadata": {},
   "source": [
    "Q9. Write a Python program to sort a list of integers in ascending order.\n",
    "\n",
    "Ans:-"
   ]
  },
  {
   "cell_type": "code",
   "execution_count": 63,
   "id": "203778ee-7e23-4bb2-ab1d-e5cf8ee632f6",
   "metadata": {},
   "outputs": [
    {
     "name": "stdout",
     "output_type": "stream",
     "text": [
      "[1, 2, 3, 4, 5, 7, 8, 9]\n"
     ]
    }
   ],
   "source": [
    "def sort_list(nums):\n",
    "    nums.sort()\n",
    "    return nums\n",
    "# Example\n",
    "numbers = [9, 5, 7, 1, 4, 2, 8, 3]\n",
    "sorted_numbers = sort_list(numbers)\n",
    "print(sorted_numbers)\n"
   ]
  },
  {
   "cell_type": "code",
   "execution_count": null,
   "id": "539403e3-3291-45c2-b225-e79c1da3955d",
   "metadata": {},
   "outputs": [],
   "source": []
  },
  {
   "cell_type": "markdown",
   "id": "e035f29e-9bf7-47fb-8884-b4551e904222",
   "metadata": {},
   "source": [
    "Q10.Implement a function to find the sum of all numbers in a list.\n",
    "\n",
    "Ans:-"
   ]
  },
  {
   "cell_type": "code",
   "execution_count": 70,
   "id": "84bf7540-01f7-4a38-bc90-c734fbbfa21f",
   "metadata": {},
   "outputs": [
    {
     "name": "stdout",
     "output_type": "stream",
     "text": [
      "The sum of the numbers in the list is 55\n"
     ]
    }
   ],
   "source": [
    "def sum_of_list(numbers):\n",
    "    total = 0\n",
    "    for num in numbers:\n",
    "        total += num\n",
    "    return total\n",
    "\n",
    "# Example\n",
    "list_of_numbers = [10, 4, 2, 9, 7, 5, 1, 3, 6, 8]\n",
    "sum_of_numbers = sum_of_list(list_of_numbers)\n",
    "print(f\"The sum of the numbers in the list is {sum_of_numbers}\")"
   ]
  },
  {
   "cell_type": "code",
   "execution_count": null,
   "id": "baad1abc-c2c2-4200-8aff-d117fdfbb468",
   "metadata": {},
   "outputs": [],
   "source": []
  },
  {
   "cell_type": "markdown",
   "id": "e5735433-3f79-47f7-a530-d813c550b23d",
   "metadata": {},
   "source": [
    "Q11. Write a program to find the common elements between two lists.\n",
    "\n",
    "Ans:-"
   ]
  },
  {
   "cell_type": "code",
   "execution_count": 5,
   "id": "55d1af80-876f-4d31-9ded-baaa0bb2a150",
   "metadata": {},
   "outputs": [
    {
     "name": "stdout",
     "output_type": "stream",
     "text": [
      "The common elements between the two lists are:\n",
      "[2, 3, 5]\n"
     ]
    }
   ],
   "source": [
    "def find_common_elements(list1, list2):\n",
    "    common_elements = []\n",
    "    for element in list1:\n",
    "        if element in list2:\n",
    "            common_elements.append(element)\n",
    "    return common_elements\n",
    "\n",
    "#Example -\n",
    "list1 = [1, 2, 3, 4, 5]\n",
    "list2 = [2, 3, 5, 6, 7]\n",
    "common_elements = find_common_elements(list1, list2)\n",
    "print(\"The common elements between the two lists are:\")\n",
    "print(common_elements)"
   ]
  },
  {
   "cell_type": "code",
   "execution_count": null,
   "id": "87866672-85e2-42cf-a77d-59055ba7b64e",
   "metadata": {},
   "outputs": [],
   "source": []
  },
  {
   "cell_type": "markdown",
   "id": "2744b73e-9f0a-44c9-a913-a2f9d3c26512",
   "metadata": {},
   "source": [
    "Q12.Implement a function to check if a given string is an anagram of another string.\n",
    "\n",
    "Ans:-"
   ]
  },
  {
   "cell_type": "code",
   "execution_count": 32,
   "id": "98b4ac98-9b2f-421f-a80e-d1f488333d8e",
   "metadata": {},
   "outputs": [
    {
     "name": "stdout",
     "output_type": "stream",
     "text": [
      "The two strings are anagrams: True\n"
     ]
    }
   ],
   "source": [
    "def is_anagram(string1, string2):\n",
    "    if len(string1) != len(string2):\n",
    "        return False\n",
    "\n",
    "    character_counts = {}\n",
    "    for character in string1:\n",
    "        if character in character_counts:\n",
    "            character_counts[character] += 1\n",
    "        else:  \n",
    "            character_counts[character] = 1\n",
    "    for character in string2:\n",
    "        if character not in character_counts:\n",
    "            return False\n",
    "        else:\n",
    "            character_counts[character] -= 1\n",
    "    for count in character_counts.values():\n",
    "        if count != 0:\n",
    "            return False\n",
    "    return True\n",
    "#example-   (for true)\n",
    "string1 = \"adarsh\"\n",
    "string2 = \"hdrasa\"\n",
    "is_anagram_result = is_anagram(string1, string2)\n",
    "print(\"The two strings are anagrams:\", is_anagram_result)"
   ]
  },
  {
   "cell_type": "code",
   "execution_count": 33,
   "id": "e5150996-a0a8-40ab-b4c7-0de5730a1336",
   "metadata": {},
   "outputs": [
    {
     "name": "stdout",
     "output_type": "stream",
     "text": [
      "The two strings are anagrams: False\n"
     ]
    }
   ],
   "source": [
    "#example- (for false)\n",
    "string1 = \"adarsh\"\n",
    "string2 = \"hdrasi\"\n",
    "is_anagram_result = is_anagram(string1, string2)\n",
    "print(\"The two strings are anagrams:\", is_anagram_result)"
   ]
  },
  {
   "cell_type": "code",
   "execution_count": null,
   "id": "5676e86f-bd3f-433f-9a1c-9bdfda49b290",
   "metadata": {},
   "outputs": [],
   "source": []
  },
  {
   "cell_type": "markdown",
   "id": "8130a6e5-4a96-4e5d-93f3-8362ec16a0fd",
   "metadata": {},
   "source": [
    "Q13.Write a Python program to generate all permutations of a given string.\n",
    "\n",
    "Ans:-"
   ]
  },
  {
   "cell_type": "code",
   "execution_count": 40,
   "id": "327d613e-6276-49dd-9494-08a309e47f76",
   "metadata": {},
   "outputs": [
    {
     "name": "stdout",
     "output_type": "stream",
     "text": [
      "All permutations of ad:\n",
      "ad\n",
      "da\n"
     ]
    }
   ],
   "source": [
    "def permutations(string):\n",
    "    if len(string) == 1:\n",
    "        return [string]\n",
    "    perms = [] \n",
    "    for i in range(len(string)):\n",
    "        char = string[i]\n",
    "        remaining_chars = string[:i] + string[i+1:]\n",
    "        for perm in permutations(remaining_chars):\n",
    "            perms.append(char + perm)\n",
    "\n",
    "    return perms\n",
    "\n",
    "\n",
    "# Example-\n",
    "string = \"ad\"\n",
    "perms = permutations(string)\n",
    "print(f\"All permutations of {string}:\")\n",
    "for perm in perms:\n",
    "    print(perm)"
   ]
  },
  {
   "cell_type": "code",
   "execution_count": null,
   "id": "f0882cbb-c0fb-4ca7-a0a9-35f2bf4dd41e",
   "metadata": {},
   "outputs": [],
   "source": []
  },
  {
   "cell_type": "markdown",
   "id": "7a5141d7-8a1b-4023-833c-53e196ada540",
   "metadata": {},
   "source": [
    "Q14.Implement a function to calculate the Fibonacci sequence up to a given number of terms.\n",
    "\n",
    "Ans:-"
   ]
  },
  {
   "cell_type": "code",
   "execution_count": 43,
   "id": "02436413-ac4a-4571-a2e0-9d678cb70156",
   "metadata": {},
   "outputs": [
    {
     "name": "stdout",
     "output_type": "stream",
     "text": [
      "The Fibonacci numbers up to 10 are:\n",
      "0\n",
      "1\n",
      "1\n",
      "2\n",
      "3\n",
      "5\n",
      "8\n",
      "13\n",
      "21\n",
      "34\n"
     ]
    }
   ],
   "source": [
    "def fibonacci(n):\n",
    "    if n == 0:\n",
    "        return [0]\n",
    "    elif n == 1:\n",
    "        return [0, 1]\n",
    "    else:\n",
    "        fibonacci_numbers = [0, 1]\n",
    "        for i in range(2, n):\n",
    "            fibonacci_numbers.append(fibonacci_numbers[i - 1] + fibonacci_numbers[i - 2])\n",
    "\n",
    "    return fibonacci_numbers\n",
    "\n",
    "\n",
    "n = 10\n",
    "\n",
    "fibonacci_numbers = fibonacci(n)\n",
    "\n",
    "print(\"The Fibonacci numbers up to\", n, \"are:\")\n",
    "for fibonacci_number in fibonacci_numbers:\n",
    "    print(fibonacci_number)"
   ]
  },
  {
   "cell_type": "code",
   "execution_count": null,
   "id": "54fcfc2e-b836-4b1f-95ba-66210e721f19",
   "metadata": {},
   "outputs": [],
   "source": []
  },
  {
   "cell_type": "markdown",
   "id": "b2108df5-f716-47df-abbf-1e9b1f250c51",
   "metadata": {},
   "source": [
    "Q15.Write a program to find the median of a list of numbers.\n",
    "\n",
    "Ans:-"
   ]
  },
  {
   "cell_type": "code",
   "execution_count": 46,
   "id": "5579a11d-a72c-46b4-90b4-e28dc90cdd28",
   "metadata": {},
   "outputs": [
    {
     "name": "stdout",
     "output_type": "stream",
     "text": [
      "List: [3, 1, 7, 9, 5, 2, 6]\n",
      "Median: 5\n"
     ]
    }
   ],
   "source": [
    "def find_median(nums):\n",
    "    sorted_nums = sorted(nums)\n",
    "    n = len(sorted_nums)\n",
    "    if n % 2 == 1:\n",
    "        median = sorted_nums[n // 2]\n",
    "    else:\n",
    "        mid_right = n // 2\n",
    "        mid_left = mid_right - 1\n",
    "        median = (sorted_nums[mid_left] + sorted_nums[mid_right]) / 2\n",
    "    \n",
    "    return median\n",
    "\n",
    "# Example -\n",
    "numbers = [3, 1, 7, 9, 5, 2, 6]\n",
    "median = find_median(numbers)\n",
    "print(\"List:\", numbers)\n",
    "print(\"Median:\", median)"
   ]
  },
  {
   "cell_type": "code",
   "execution_count": null,
   "id": "6e09b268-5cee-480d-b0c9-5971b178d639",
   "metadata": {},
   "outputs": [],
   "source": []
  },
  {
   "cell_type": "markdown",
   "id": "5bc0815f-8829-437d-9438-69cbc29cdf74",
   "metadata": {},
   "source": [
    "Q16. Implement a function to check if a given list is sorted in non-decreasing order.\n",
    "\n",
    " Ans:-"
   ]
  },
  {
   "cell_type": "code",
   "execution_count": 48,
   "id": "d5578034-6d3d-4a5f-a70e-b0c4558ac607",
   "metadata": {},
   "outputs": [
    {
     "name": "stdout",
     "output_type": "stream",
     "text": [
      "The list is sorted in non-decreasing order: True\n"
     ]
    }
   ],
   "source": [
    "def is_sorted_non_decreasing(list):\n",
    "    for i in range(len(list) - 1):\n",
    "        if list[i] > list[i + 1]:           \n",
    "            return False\n",
    "    return True\n",
    "#example-\n",
    "list = [1, 2, 3, 4, 5]\n",
    "is_sorted_result = is_sorted_non_decreasing(list)\n",
    "print(\"The list is sorted in non-decreasing order:\", is_sorted_result)"
   ]
  },
  {
   "cell_type": "code",
   "execution_count": null,
   "id": "034b83d0-4510-477c-b818-8fa3e06451d3",
   "metadata": {},
   "outputs": [],
   "source": []
  },
  {
   "cell_type": "markdown",
   "id": "bca230b8-d467-4a75-a982-c65c44a2af00",
   "metadata": {},
   "source": [
    "Q17.Write a Python program to find the intersection of two lists.\n",
    " \n",
    "Ans:-"
   ]
  },
  {
   "cell_type": "code",
   "execution_count": 64,
   "id": "3fd98e45-ca91-4522-a06d-823c82f29095",
   "metadata": {},
   "outputs": [
    {
     "name": "stdout",
     "output_type": "stream",
     "text": [
      "The intersection of the two lists is:\n",
      "[2, 3, 5]\n"
     ]
    }
   ],
   "source": [
    "def find_intersection(list1, list2):\n",
    "    intersection = []\n",
    "    for element in list1:\n",
    "        if element in list2:\n",
    "            intersection.append(element)\n",
    "\n",
    "    return intersection\n",
    "list1 = [1, 2, 3, 4, 5]\n",
    "list2 = [2, 3, 5, 6, 7]\n",
    "intersection = find_intersection(list1, list2)\n",
    "\n",
    "print(\"The intersection of the two lists is:\")\n",
    "print(intersection)"
   ]
  },
  {
   "cell_type": "code",
   "execution_count": null,
   "id": "e4666217-48dd-4ec7-a77c-2b84c20e9008",
   "metadata": {},
   "outputs": [],
   "source": []
  },
  {
   "cell_type": "markdown",
   "id": "414743ee-f4d8-48b4-9b50-f4e964e26ff1",
   "metadata": {},
   "source": [
    "Q18.Implement a function to find the maximum subarray sum in a given list.\n",
    "\n",
    " Ans:-"
   ]
  },
  {
   "cell_type": "code",
   "execution_count": 66,
   "id": "d742ca95-59db-4d46-bbb4-af53a70b26b1",
   "metadata": {},
   "outputs": [
    {
     "name": "stdout",
     "output_type": "stream",
     "text": [
      "List: [-2, 1, -3, 4, -1, 2, 1, -5, 4]\n",
      "Maximum Subarray Sum: 6\n"
     ]
    }
   ],
   "source": [
    "def max_subarray_sum(nums):\n",
    "    if not nums:\n",
    "        return 0\n",
    "\n",
    "    current_sum = nums[0]\n",
    "    max_sum = nums[0]\n",
    "\n",
    "    for i in range(1, len(nums)):\n",
    "        current_sum = max(nums[i], current_sum + nums[i])\n",
    "        max_sum = max(max_sum, current_sum)\n",
    "\n",
    "    return max_sum\n",
    "\n",
    "\n",
    "# Example -\n",
    "nums = [-2, 1, -3, 4, -1, 2, 1, -5, 4]\n",
    "print(\"List:\", nums)\n",
    "print(\"Maximum Subarray Sum:\", max_subarray_sum(nums))"
   ]
  },
  {
   "cell_type": "code",
   "execution_count": null,
   "id": "9318eabb-ff16-42ef-b83f-741d02be105d",
   "metadata": {},
   "outputs": [],
   "source": []
  },
  {
   "cell_type": "markdown",
   "id": "64fda010-370f-4410-ba28-5e4895aedbb4",
   "metadata": {},
   "source": [
    "Q19.Write a program to remove all vowels from a given string.\n",
    " \n",
    "    Ans:-"
   ]
  },
  {
   "cell_type": "code",
   "execution_count": 67,
   "id": "160438e5-8670-4d9e-96a3-0a034615dabb",
   "metadata": {},
   "outputs": [
    {
     "name": "stdout",
     "output_type": "stream",
     "text": [
      "Original String: Adarsh, Barnwal\n",
      "String without Vowels: drsh, Brnwl\n"
     ]
    }
   ],
   "source": [
    "def remove_vowels(string):\n",
    "    vowels = ['a', 'e', 'i', 'o', 'u']\n",
    "    result = \"\"\n",
    "\n",
    "    for char in string:\n",
    "        if char.lower() not in vowels:\n",
    "            result += char\n",
    "\n",
    "    return result\n",
    "\n",
    "\n",
    "# Example :-\n",
    "input_string = \"Adarsh, Barnwal\"\n",
    "print(\"Original String:\", input_string)\n",
    "print(\"String without Vowels:\", remove_vowels(input_string))"
   ]
  },
  {
   "cell_type": "code",
   "execution_count": null,
   "id": "6461b4ef-77f6-448c-a605-c6731897c305",
   "metadata": {},
   "outputs": [],
   "source": []
  },
  {
   "cell_type": "markdown",
   "id": "30b2ac6d-51e3-4e36-ac02-0f6edfb88a61",
   "metadata": {},
   "source": [
    "Q20.Implement a function to reverse the order of words in a given sentence.\n",
    "\n",
    " Ans:-"
   ]
  },
  {
   "cell_type": "code",
   "execution_count": 69,
   "id": "19102ba6-2e68-42f5-90d0-651e6114588c",
   "metadata": {},
   "outputs": [
    {
     "name": "stdout",
     "output_type": "stream",
     "text": [
      "Original Sentence: I have to goto patna\n",
      "Reversed Sentence: patna goto to have I\n"
     ]
    }
   ],
   "source": [
    "def reverse_sentence(sentence):\n",
    "    words = sentence.split()\n",
    "    reversed_words = words[::-1]\n",
    "    reversed_sentence = ' '.join(reversed_words)\n",
    "    return reversed_sentence\n",
    "# Example:-\n",
    "input_sentence = \"I have to goto patna\"\n",
    "print(\"Original Sentence:\", input_sentence)\n",
    "print(\"Reversed Sentence:\", reverse_sentence(input_sentence))"
   ]
  },
  {
   "cell_type": "code",
   "execution_count": null,
   "id": "ca8ed7c3-efa7-451d-9141-eb67d1685a79",
   "metadata": {},
   "outputs": [],
   "source": []
  },
  {
   "cell_type": "markdown",
   "id": "eed9dd25-e0d7-4726-9afe-c6401fae9ca0",
   "metadata": {},
   "source": [
    "Q21.Write a Python program to check if two strings are anagrams of each other.\n",
    "\n",
    "Ans:-"
   ]
  },
  {
   "cell_type": "code",
   "execution_count": 3,
   "id": "1f2b3f36-2a7e-4ffe-bdb2-39822ca14f52",
   "metadata": {},
   "outputs": [
    {
     "name": "stdout",
     "output_type": "stream",
     "text": [
      "True\n"
     ]
    }
   ],
   "source": [
    "def isAnagram(s1, s2):\n",
    "    return sorted(s1) == sorted(s2)\n",
    "#example-\n",
    "string1 = \"listen\"\n",
    "string2 = \"silent\"\n",
    "result = isAnagram(string1, string2)\n",
    "print(result)"
   ]
  },
  {
   "cell_type": "code",
   "execution_count": null,
   "id": "e2f1d7af-4d07-40b8-a929-bc4e8e166ec4",
   "metadata": {},
   "outputs": [],
   "source": []
  },
  {
   "cell_type": "markdown",
   "id": "cce3a353-5b2b-4c5b-b149-c3b68bbd7bda",
   "metadata": {},
   "source": [
    "Q22.Implement a function to find the first non-repeating character in a string.\n",
    "\n",
    "Ans:-"
   ]
  },
  {
   "cell_type": "code",
   "execution_count": 8,
   "id": "55c89c7c-3bbe-41ce-a91c-3562deb4e108",
   "metadata": {},
   "outputs": [
    {
     "name": "stdout",
     "output_type": "stream",
     "text": [
      "p\n",
      "c\n"
     ]
    }
   ],
   "source": [
    "def firstNonRepeatingChar(s):\n",
    "    char_count = {}\n",
    "    for char in s:\n",
    "        char_count[char] = char_count.get(char, 0) + 1\n",
    "    for char in s:\n",
    "        if char_count[char] == 1:\n",
    "            return char\n",
    "    return None\n",
    "\n",
    "#function \n",
    "#Example- 1\n",
    "string = \"programming\"\n",
    "result = firstNonRepeatingChar(string)\n",
    "print(result)\n",
    "#examle- 2\n",
    "string = \"abacabad\"\n",
    "result = firstNonRepeatingChar(string)\n",
    "print(result)"
   ]
  },
  {
   "cell_type": "code",
   "execution_count": null,
   "id": "e9aec168-a16f-4224-9169-e3f2c4aa757a",
   "metadata": {},
   "outputs": [],
   "source": []
  },
  {
   "cell_type": "markdown",
   "id": "4a759ba0-432a-4c7e-a485-479a3c882ab2",
   "metadata": {},
   "source": [
    "Q23.Write a program to find the prime factors of a given number.\n",
    "\n",
    "Ans:-"
   ]
  },
  {
   "cell_type": "code",
   "execution_count": 10,
   "id": "fc44def9-5b53-4318-915c-19e86bf4c2ea",
   "metadata": {},
   "outputs": [
    {
     "name": "stdout",
     "output_type": "stream",
     "text": [
      "[2, 2, 3, 7]\n",
      "[2, 2, 19]\n"
     ]
    }
   ],
   "source": [
    "import math\n",
    "\n",
    "def findPrimeFactors(number):\n",
    "    prime_factors = []\n",
    "    for i in range(2, int(math.sqrt(number)) + 1):\n",
    "        while number % i == 0:\n",
    "            prime_factors.append(i)\n",
    "            number //= i\n",
    "    if number > 1:\n",
    "        prime_factors.append(number)\n",
    "    return prime_factors\n",
    "\n",
    "#example- 1\n",
    "number = 84\n",
    "result = findPrimeFactors(number)\n",
    "print(result)\n",
    "#example- 2\n",
    "number = 76\n",
    "result = findPrimeFactors(number)\n",
    "print(result)"
   ]
  },
  {
   "cell_type": "code",
   "execution_count": null,
   "id": "27e1aa0b-e583-4a16-9223-f27069dae4c0",
   "metadata": {},
   "outputs": [],
   "source": []
  },
  {
   "cell_type": "markdown",
   "id": "a0c65db4-1bd8-4626-b926-565a82ac492e",
   "metadata": {},
   "source": [
    "Q24.Implement a function to check if a given number is a power of two.\n",
    "\n",
    "Ans:-"
   ]
  },
  {
   "cell_type": "code",
   "execution_count": 11,
   "id": "501acac0-989e-4e26-9ad6-8a0e0a476603",
   "metadata": {},
   "outputs": [
    {
     "name": "stdout",
     "output_type": "stream",
     "text": [
      "True\n",
      "False\n",
      "True\n",
      "False\n"
     ]
    }
   ],
   "source": [
    "def isPowerOfTwo(number):\n",
    "    if number <= 0:\n",
    "        return False\n",
    "\n",
    "    return (number & (number - 1)) == 0\n",
    "#function Example-\n",
    "print(isPowerOfTwo(4))\n",
    "print(isPowerOfTwo(6))  \n",
    "print(isPowerOfTwo(16)) \n",
    "print(isPowerOfTwo(0)) "
   ]
  },
  {
   "cell_type": "code",
   "execution_count": null,
   "id": "e8f8f087-479b-4542-8056-01f22e94106c",
   "metadata": {},
   "outputs": [],
   "source": []
  },
  {
   "cell_type": "markdown",
   "id": "b9a9866f-dabd-4639-aaba-66403ba82bcf",
   "metadata": {},
   "source": [
    "Q25. Write a Python program to merge two sorted lists into a single sorted list\n",
    "\n",
    "Ans:-"
   ]
  },
  {
   "cell_type": "code",
   "execution_count": 1,
   "id": "429fd51c-c810-4d62-a38a-33fbfde24f32",
   "metadata": {},
   "outputs": [
    {
     "name": "stdout",
     "output_type": "stream",
     "text": [
      "List 1: [1, 3, 5, 7, 9]\n",
      "List 2: [2, 4, 6, 8, 10]\n",
      "Merged List: [1, 2, 3, 4, 5, 6, 7, 8, 9, 10]\n"
     ]
    }
   ],
   "source": [
    "def merge_sorted_lists(list1, list2):\n",
    "    merged_list = []\n",
    "    i, j = 0, 0\n",
    "    while i < len(list1) and j < len(list2):\n",
    "        if list1[i] < list2[j]:\n",
    "            merged_list.append(list1[i])\n",
    "            i += 1\n",
    "        else:\n",
    "            merged_list.append(list2[j])\n",
    "            j += 1\n",
    "    while i < len(list1):\n",
    "        merged_list.append(list1[i])\n",
    "        i += 1\n",
    "    while j < len(list2):\n",
    "        merged_list.append(list2[j])\n",
    "        j += 1\n",
    "\n",
    "    return merged_list\n",
    "\n",
    "\n",
    "# Example\n",
    "list1 = [1, 3, 5, 7, 9]\n",
    "list2 = [2, 4, 6, 8, 10]\n",
    "print(\"List 1:\", list1)\n",
    "print(\"List 2:\", list2)\n",
    "print(\"Merged List:\", merge_sorted_lists(list1, list2))"
   ]
  },
  {
   "cell_type": "code",
   "execution_count": null,
   "id": "a098c495-45c2-43b8-8526-375e2b8a31fd",
   "metadata": {},
   "outputs": [],
   "source": []
  },
  {
   "cell_type": "markdown",
   "id": "b0933044-c526-4607-812c-c7cb6d74202f",
   "metadata": {},
   "source": [
    "Q26.Implement a function to find the mode of a list of numbers.\n",
    "\n",
    "Ans:-"
   ]
  },
  {
   "cell_type": "code",
   "execution_count": 5,
   "id": "bcda2304-3800-461c-ac04-a82cc9ba08d2",
   "metadata": {},
   "outputs": [
    {
     "name": "stdout",
     "output_type": "stream",
     "text": [
      "List: [1, 2, 2, 3, 4, 4, 4, 5]\n",
      "Mode: [4]\n"
     ]
    }
   ],
   "source": [
    "def find_mode(nums):\n",
    "    if not nums:\n",
    "        return None\n",
    "\n",
    "    num_count = {}\n",
    "    for num in nums:\n",
    "        if num in num_count:\n",
    "            num_count[num] += 1\n",
    "        else:\n",
    "            num_count[num] = 1\n",
    "\n",
    "    max_count = max(num_count.values())\n",
    "    mode = [num for num, count in num_count.items() if count == max_count]\n",
    "\n",
    "    return mode\n",
    "\n",
    "\n",
    "# Example -\n",
    "numbers = [1, 2, 2, 3, 4, 4, 4, 5]\n",
    "print(\"List:\", numbers)\n",
    "print(\"Mode:\", find_mode(numbers))"
   ]
  },
  {
   "cell_type": "code",
   "execution_count": null,
   "id": "2c785b33-0a5c-44ea-a8f7-caee1073f7f6",
   "metadata": {},
   "outputs": [],
   "source": []
  },
  {
   "cell_type": "markdown",
   "id": "4b3beca1-de4b-4ae5-b80e-c10a2bc1e3af",
   "metadata": {},
   "source": [
    "Q27. Write a program to find the greatest common divisor (GCD) of two numbers\n",
    "\n",
    "Ans:-"
   ]
  },
  {
   "cell_type": "code",
   "execution_count": 3,
   "id": "67a05c0c-0a71-4d10-b18c-d51d49b3dfce",
   "metadata": {},
   "outputs": [
    {
     "name": "stdout",
     "output_type": "stream",
     "text": [
      "Number 1: 24\n",
      "Number 2: 36\n",
      "GCD: 12\n"
     ]
    }
   ],
   "source": [
    "def gcd(a, b):\n",
    "    while b != 0:\n",
    "        a, b = b, a % b\n",
    "    return a\n",
    "\n",
    "\n",
    "# Example-\n",
    "num1 = 24\n",
    "num2 = 36\n",
    "\n",
    "print(\"Number 1:\", num1)\n",
    "print(\"Number 2:\", num2)\n",
    "print(\"GCD:\", gcd(num1, num2))"
   ]
  },
  {
   "cell_type": "code",
   "execution_count": null,
   "id": "e3ceb209-de7c-4d84-86b3-e80349a46617",
   "metadata": {},
   "outputs": [],
   "source": []
  },
  {
   "cell_type": "markdown",
   "id": "abbea0a0-1df5-4526-9361-0deef2428dc7",
   "metadata": {},
   "source": [
    "Q28.Implement a function to calculate the square root of a given number.\n",
    "\n",
    "Ans:-"
   ]
  },
  {
   "cell_type": "code",
   "execution_count": 1,
   "id": "2a1d6f3c-9b41-4455-92fa-ac1f53143297",
   "metadata": {},
   "outputs": [
    {
     "name": "stdout",
     "output_type": "stream",
     "text": [
      "Square root of 16 is: 4.0\n"
     ]
    }
   ],
   "source": [
    "def square_root(x):\n",
    "    if x < 0:\n",
    "        raise ValueError(\"Cannot calculate square root of a negative number.\")\n",
    "    \n",
    "    if x == 0:\n",
    "        return 0\n",
    "\n",
    "    left, right = 0, x\n",
    "\n",
    "    while left <= right:\n",
    "        mid = (left + right) / 2\n",
    "        square = mid * mid\n",
    "\n",
    "        if abs(square - x) < 1e-6:\n",
    "            return mid\n",
    "        elif square < x:\n",
    "            left = mid\n",
    "        else:\n",
    "            right = mid\n",
    "\n",
    "    return left  # Return the result with desired precision\n",
    "\n",
    "\n",
    "# Example usage:\n",
    "num = 16\n",
    "print(\"Square root of\", num, \"is:\", square_root(num))\n"
   ]
  },
  {
   "cell_type": "code",
   "execution_count": null,
   "id": "5f202ce2-a869-4b05-b69b-805926250343",
   "metadata": {},
   "outputs": [],
   "source": []
  },
  {
   "cell_type": "markdown",
   "id": "560b04fd-dca4-41c0-a492-575f842186c6",
   "metadata": {},
   "source": [
    "Q29.Write a Python program to check if a given string is a valid palindrome ignoring non-alphanumeric characters.\n",
    "\n",
    "Ans:- "
   ]
  },
  {
   "cell_type": "code",
   "execution_count": 4,
   "id": "32c50381-35bc-46c4-9fd9-9595343918a4",
   "metadata": {},
   "outputs": [
    {
     "name": "stdout",
     "output_type": "stream",
     "text": [
      "True\n"
     ]
    }
   ],
   "source": [
    "def is_valid_palindrome(s):\n",
    "    clean_s = ''.join(char.lower() for char in s if char.isalnum())\n",
    "\n",
    "    return clean_s == clean_s[::-1]\n",
    "\n",
    "\n",
    "# Example -\n",
    "input_string = \"A man, a plan, a canal: Panama\"\n",
    "print(is_valid_palindrome(input_string)) "
   ]
  },
  {
   "cell_type": "code",
   "execution_count": null,
   "id": "d91dc16d-b70c-4a90-9d61-ea45dea11933",
   "metadata": {},
   "outputs": [],
   "source": []
  },
  {
   "cell_type": "markdown",
   "id": "a4ba9164-6a1a-4e14-ab57-8234dca3476f",
   "metadata": {},
   "source": [
    "Q30.Implement a function to find the minimum element in a rotated sorted list.\n",
    "\n",
    "Ans:-"
   ]
  },
  {
   "cell_type": "code",
   "execution_count": 6,
   "id": "43dd67b7-a15a-4f32-8290-ac3c1963c3e2",
   "metadata": {},
   "outputs": [
    {
     "name": "stdout",
     "output_type": "stream",
     "text": [
      "1\n"
     ]
    }
   ],
   "source": [
    "def find_minimum(nums):\n",
    "    left = 0\n",
    "    right = len(nums) - 1\n",
    "\n",
    "    while left < right:\n",
    "        mid = (left + right) // 2\n",
    "\n",
    "        if nums[mid] > nums[right]:\n",
    "            left = mid + 1\n",
    "        else:\n",
    "            right = mid\n",
    "    return nums[left]\n",
    "\n",
    "# Example -\n",
    "input_list = [4, 5, 6, 7, 1, 2]\n",
    "print(find_minimum(input_list))  "
   ]
  },
  {
   "cell_type": "code",
   "execution_count": null,
   "id": "a8f8eb55-57df-41e4-a0db-c5f082b512d7",
   "metadata": {},
   "outputs": [],
   "source": []
  },
  {
   "cell_type": "markdown",
   "id": "b4f52ac6-291d-46a8-995c-924f842b9be4",
   "metadata": {},
   "source": [
    "Q31. Write a program to find the sum of all even numbers in a list.\n",
    "\n",
    "Ans:-"
   ]
  },
  {
   "cell_type": "code",
   "execution_count": 7,
   "id": "a7b59193-c979-49cb-af91-578578bdcba0",
   "metadata": {},
   "outputs": [
    {
     "name": "stdout",
     "output_type": "stream",
     "text": [
      "30\n"
     ]
    }
   ],
   "source": [
    "def sum_even_numbers(numbers):\n",
    "    sum_even = 0\n",
    "    for num in numbers:\n",
    "        if num % 2 == 0:\n",
    "            sum_even += num\n",
    "    return sum_even\n",
    "\n",
    "# Example -\n",
    "input_list = [1, 2, 3, 4, 5, 6, 7, 8, 9, 10]\n",
    "print(sum_even_numbers(input_list))"
   ]
  },
  {
   "cell_type": "code",
   "execution_count": null,
   "id": "babe41e4-550b-4978-9a85-91ec65ca0084",
   "metadata": {},
   "outputs": [],
   "source": []
  },
  {
   "cell_type": "markdown",
   "id": "2043fd25-bf55-41a0-9cd4-ddae1e9c2a21",
   "metadata": {},
   "source": [
    "Q32.  Implement a function to calculate the power of a number using recursion.\n",
    "\n",
    "Ans:-"
   ]
  },
  {
   "cell_type": "code",
   "execution_count": 12,
   "id": "bb1acfb1-2fc9-4910-a61b-e21600573c8b",
   "metadata": {},
   "outputs": [
    {
     "name": "stdout",
     "output_type": "stream",
     "text": [
      "27\n"
     ]
    }
   ],
   "source": [
    "def power(base, exponent):\n",
    "    \n",
    "\n",
    "    if exponent == 0:\n",
    "        return 1\n",
    "    else:\n",
    "        return base * power(base, exponent - 1)\n",
    "base = 3\n",
    "exponent = 3\n",
    "power_of_base = power(base, exponent)\n",
    "print(power_of_base)\n"
   ]
  },
  {
   "cell_type": "code",
   "execution_count": null,
   "id": "6fae321a-f0c0-4386-b5ca-5b1614938d64",
   "metadata": {},
   "outputs": [],
   "source": []
  },
  {
   "cell_type": "markdown",
   "id": "36ecb7f5-d2f6-4e72-8763-64111e67a72c",
   "metadata": {},
   "source": [
    "Q33.Write a Python program to remove duplicates from a list while preserving the order.\n",
    "\n",
    "Ans:-"
   ]
  },
  {
   "cell_type": "code",
   "execution_count": 13,
   "id": "1f8c89d8-3ea4-4b1f-bb44-57e895665c16",
   "metadata": {},
   "outputs": [
    {
     "name": "stdout",
     "output_type": "stream",
     "text": [
      "[1, 2, 3, 4, 5, 6]\n"
     ]
    }
   ],
   "source": [
    "def remove_duplicates(lst):\n",
    "    seen = set()\n",
    "    result = []\n",
    "    for item in lst:\n",
    "        if item not in seen:\n",
    "            seen.add(item)\n",
    "            result.append(item)\n",
    "    return result\n",
    "#Example-\n",
    "numbers = [1, 2, 3, 2, 4, 1, 5, 3, 6, 4]\n",
    "result = remove_duplicates(numbers)\n",
    "print(result)"
   ]
  },
  {
   "cell_type": "code",
   "execution_count": null,
   "id": "9cc92f54-96e8-44f1-906a-3c1e18debb78",
   "metadata": {},
   "outputs": [],
   "source": []
  },
  {
   "cell_type": "markdown",
   "id": "e0ba910b-e171-42d6-8111-2d643b1998cc",
   "metadata": {},
   "source": [
    "Q34.Implement a function to find the longest common prefix among a list of strings.\n",
    "\n",
    "Ans:-"
   ]
  },
  {
   "cell_type": "code",
   "execution_count": 14,
   "id": "c553fcf9-40ff-45e9-b51e-f5e2c6d85c26",
   "metadata": {},
   "outputs": [
    {
     "name": "stdout",
     "output_type": "stream",
     "text": [
      "fl\n"
     ]
    }
   ],
   "source": [
    "def longest_common_prefix(strs):\n",
    "    if not strs:\n",
    "        return \"\"\n",
    "    \n",
    "    prefix = strs[0]\n",
    "    for string in strs[1:]:\n",
    "        while string[:len(prefix)] != prefix:\n",
    "            prefix = prefix[:-1]\n",
    "            if not prefix:\n",
    "                return \"\"\n",
    "    \n",
    "    return prefix\n",
    "#example-\n",
    "strings = [\"flower\", \"flow\", \"flight\"]\n",
    "result = longest_common_prefix(strings)\n",
    "print(result)"
   ]
  },
  {
   "cell_type": "code",
   "execution_count": null,
   "id": "6aff0271-2d16-4831-9a23-2934bd6a3786",
   "metadata": {},
   "outputs": [],
   "source": []
  },
  {
   "cell_type": "markdown",
   "id": "4cd666c4-c7c7-41a3-b42a-d1f37f136b69",
   "metadata": {},
   "source": [
    "Q35.Write a program to check if a given number is a perfect square.\n",
    "\n",
    "Ans:-"
   ]
  },
  {
   "cell_type": "code",
   "execution_count": 18,
   "id": "c5568b71-8323-4807-abef-ce73a2615d19",
   "metadata": {},
   "outputs": [
    {
     "name": "stdout",
     "output_type": "stream",
     "text": [
      "True\n"
     ]
    }
   ],
   "source": [
    "def is_perfect_square(num):\n",
    "    if num < 0:\n",
    "        return False\n",
    "    \n",
    "    if num == 0 or num == 1:\n",
    "        return True\n",
    "    \n",
    "    left = 1\n",
    "    right = num // 2\n",
    "    \n",
    "    while left <= right:\n",
    "        mid = (left + right) // 2\n",
    "        square = mid * mid\n",
    "        \n",
    "        if square == num:\n",
    "            return True\n",
    "        elif square < num:\n",
    "            left = mid + 1\n",
    "        else:\n",
    "            right = mid - 1\n",
    "    \n",
    "    return False\n",
    "#Example:-\n",
    "number = 81\n",
    "result = is_perfect_square(number)\n",
    "print(result)"
   ]
  },
  {
   "cell_type": "code",
   "execution_count": null,
   "id": "a6fad00a-0782-420a-8ea6-428f7de07391",
   "metadata": {},
   "outputs": [],
   "source": []
  },
  {
   "cell_type": "markdown",
   "id": "40b20ddf-d800-4234-98f3-1c37d1aea014",
   "metadata": {},
   "source": [
    "Q36.Implement a function to calculate the product of all elements in a list.\n",
    "\n",
    "Ans:-"
   ]
  },
  {
   "cell_type": "code",
   "execution_count": 20,
   "id": "55b32564-cd14-424d-ae64-b7453d34e37d",
   "metadata": {},
   "outputs": [
    {
     "name": "stdout",
     "output_type": "stream",
     "text": [
      "120\n"
     ]
    }
   ],
   "source": [
    "def calculate_product(lst):\n",
    "    product = 1\n",
    "    for num in lst:\n",
    "        product *= num\n",
    "    return product\n",
    "#example-\n",
    "numbers = [2, 3, 4, 5]\n",
    "result = calculate_product(numbers)\n",
    "print(result) "
   ]
  },
  {
   "cell_type": "code",
   "execution_count": null,
   "id": "cae41016-a05a-45c6-854c-198bf0ee8c1a",
   "metadata": {},
   "outputs": [],
   "source": []
  },
  {
   "cell_type": "markdown",
   "id": "860dab52-88e9-4ca8-8739-c6eba5c54f62",
   "metadata": {},
   "source": [
    "Q37. Write a Python program to reverse the order of words in a sentence while preserving the word order.\n",
    "\n",
    "Ans:-"
   ]
  },
  {
   "cell_type": "code",
   "execution_count": 22,
   "id": "67a8e376-c93a-4ed0-abf5-0079aeea60aa",
   "metadata": {},
   "outputs": [
    {
     "name": "stdout",
     "output_type": "stream",
     "text": [
      "pwskills. in master science data prusing am I\n"
     ]
    }
   ],
   "source": [
    "def reverse_words(sentence):\n",
    "    words = sentence.split()\n",
    "    reversed_words = ' '.join(reversed(words))\n",
    "    return reversed_words\n",
    "#example-\n",
    "sentence = \"I am prusing data science master in pwskills.\"\n",
    "reversed_sentence = reverse_words(sentence)\n",
    "print(reversed_sentence)"
   ]
  },
  {
   "cell_type": "code",
   "execution_count": null,
   "id": "f7002e79-569b-4214-8a90-877387cb5124",
   "metadata": {},
   "outputs": [],
   "source": []
  },
  {
   "cell_type": "markdown",
   "id": "10c4dbf0-1f31-4081-aff1-e37cd539ad6e",
   "metadata": {},
   "source": [
    "Q38.Implement a function to find the missing number in a given list of consecutive numbers.\n",
    "\n",
    "Ans:-"
   ]
  },
  {
   "cell_type": "code",
   "execution_count": 24,
   "id": "60f74657-37a9-47ba-9c5c-fbe00e199a97",
   "metadata": {},
   "outputs": [
    {
     "name": "stdout",
     "output_type": "stream",
     "text": [
      "3\n"
     ]
    }
   ],
   "source": [
    "def find_missing_number(nums):\n",
    "    n = len(nums) + 1\n",
    "    expected_sum = n * (n + 1) // 2\n",
    "    actual_sum = sum(nums)\n",
    "    missing_number = expected_sum - actual_sum\n",
    "    return missing_number\n",
    "#example-nums = [1, 2, 4, 5, 6]\n",
    "nums = [1, 2, 4, 5, 6]\n",
    "missing_number = find_missing_number(nums)\n",
    "print(missing_number)"
   ]
  },
  {
   "cell_type": "code",
   "execution_count": null,
   "id": "5891f1df-08fb-4936-a005-0578ade9f34e",
   "metadata": {},
   "outputs": [],
   "source": []
  },
  {
   "cell_type": "markdown",
   "id": "541a0777-4c81-4263-9601-c5e63f622569",
   "metadata": {},
   "source": [
    "Q39.Write a program to find the sum of digits of a given number.\n",
    "\n",
    "Ans:-"
   ]
  },
  {
   "cell_type": "code",
   "execution_count": 25,
   "id": "cb220b1c-5202-4b1e-9979-6c9e81bea970",
   "metadata": {},
   "outputs": [
    {
     "name": "stdout",
     "output_type": "stream",
     "text": [
      "15\n"
     ]
    }
   ],
   "source": [
    "def sum_of_digits(number):\n",
    "    digit_sum = 0\n",
    "    while number > 0:\n",
    "        digit = number % 10\n",
    "        digit_sum += digit\n",
    "        number //= 10\n",
    "    return digit_sum\n",
    "#example-\n",
    "number = 12345\n",
    "digit_sum = sum_of_digits(number)\n",
    "print(digit_sum)"
   ]
  },
  {
   "cell_type": "code",
   "execution_count": null,
   "id": "795531eb-3d31-4789-88c9-b9d238a5a23f",
   "metadata": {},
   "outputs": [],
   "source": []
  },
  {
   "cell_type": "markdown",
   "id": "230537c5-4885-40bc-866e-847bdca6bc39",
   "metadata": {},
   "source": [
    "Q40. Implement a function to check if a given string is a valid palindrome considering case sensitivity.\n",
    "\n",
    "Ans:-"
   ]
  },
  {
   "cell_type": "code",
   "execution_count": 26,
   "id": "9d14e89f-5355-435e-8e21-65fb2c948d1c",
   "metadata": {},
   "outputs": [
    {
     "name": "stdout",
     "output_type": "stream",
     "text": [
      "True\n"
     ]
    }
   ],
   "source": [
    "def is_valid_palindrome(string):\n",
    "    \n",
    "    cleaned_string = ''.join(c for c in string if c.isalnum()).lower()\n",
    "    \n",
    "    return cleaned_string == cleaned_string[::-1]\n",
    "#example-\n",
    "string = \"A man, a plan, a canal: Panama\"\n",
    "print(is_valid_palindrome(string))"
   ]
  },
  {
   "cell_type": "code",
   "execution_count": null,
   "id": "7d25318e-0031-4bb3-a3f9-35a5a5868a4c",
   "metadata": {},
   "outputs": [],
   "source": []
  },
  {
   "cell_type": "markdown",
   "id": "2901b7da-298d-494a-897e-993fd98e4ed4",
   "metadata": {},
   "source": [
    "Q41.Write a Python program to find the smallest missing positive integer in a list.\n",
    "\n",
    "Ans:-"
   ]
  },
  {
   "cell_type": "code",
   "execution_count": 27,
   "id": "df72b740-5958-44f2-a7bf-e25291d781c2",
   "metadata": {},
   "outputs": [
    {
     "name": "stdout",
     "output_type": "stream",
     "text": [
      "2\n"
     ]
    }
   ],
   "source": [
    "def first_missing_positive(nums):\n",
    "    n = len(nums)\n",
    "\n",
    "    for i in range(n):\n",
    "        if nums[i] <= 0:\n",
    "            nums[i] = n + 1\n",
    "\n",
    "    for i in range(n):\n",
    "        num = abs(nums[i])\n",
    "        if num <= n:\n",
    "            nums[num - 1] = -abs(nums[num - 1])\n",
    "    for i in range(n):\n",
    "        if nums[i] > 0:\n",
    "            return i + 1\n",
    "    return n + 1\n",
    "\n",
    "# Example -\n",
    "nums = [3, 4, -1, 1]\n",
    "print(first_missing_positive(nums))"
   ]
  },
  {
   "cell_type": "code",
   "execution_count": null,
   "id": "e54d2eef-7470-4617-81ab-25e42835da8b",
   "metadata": {},
   "outputs": [],
   "source": []
  },
  {
   "cell_type": "markdown",
   "id": "678761e5-5813-4fef-bd0d-e5f5597f203d",
   "metadata": {},
   "source": [
    "Q42.Implement a function to find the longest palindrome substring in a given string.\n",
    "\n",
    "Ans:-"
   ]
  },
  {
   "cell_type": "code",
   "execution_count": 30,
   "id": "dba2c7b3-cced-4d83-893a-ef11f8581a82",
   "metadata": {},
   "outputs": [
    {
     "name": "stdout",
     "output_type": "stream",
     "text": [
      "bab\n"
     ]
    }
   ],
   "source": [
    "def longest_palindrome(s):\n",
    "    def expand_around_center(left, right):\n",
    "        while left >= 0 and right < len(s) and s[left] == s[right]:\n",
    "            left -= 1\n",
    "            right += 1\n",
    "        return s[left + 1:right]\n",
    "\n",
    "    longest = \"\"\n",
    "    for i in range(len(s)):\n",
    "        # Palindrome with odd length\n",
    "        palindrome1 = expand_around_center(i, i)\n",
    "        if len(palindrome1) > len(longest):\n",
    "            longest = palindrome1\n",
    "\n",
    "        # Palindrome with even length\n",
    "        palindrome2 = expand_around_center(i, i + 1)\n",
    "        if len(palindrome2) > len(longest):\n",
    "            longest = palindrome2\n",
    "\n",
    "    return longest\n",
    "\n",
    "# Example usage:\n",
    "s = \"babad\"\n",
    "print(longest_palindrome(s))  # Output: \"bab\" or \"aba\"\n"
   ]
  },
  {
   "cell_type": "code",
   "execution_count": null,
   "id": "1b0c3136-756c-495b-a2c7-00df7e3cddd6",
   "metadata": {},
   "outputs": [],
   "source": []
  },
  {
   "cell_type": "markdown",
   "id": "fe9db013-5c8e-4153-9adf-9819240c49b7",
   "metadata": {},
   "source": [
    "Q43.Write a program to find the number of occurrences of a given element in a list.\n",
    "\n",
    "Ans:-"
   ]
  },
  {
   "cell_type": "code",
   "execution_count": 31,
   "id": "9c14221e-9d9a-438e-8928-18783472a942",
   "metadata": {},
   "outputs": [
    {
     "name": "stdout",
     "output_type": "stream",
     "text": [
      "4\n"
     ]
    }
   ],
   "source": [
    "def count_occurrences(nums, target):\n",
    "    count = 0\n",
    "    for num in nums:\n",
    "        if num == target:\n",
    "            count += 1\n",
    "    return count\n",
    "\n",
    "# Example -\n",
    "nums = [1, 2, 3, 4, 2, 2, 5, 2]\n",
    "target = 2\n",
    "print(count_occurrences(nums, target))"
   ]
  },
  {
   "cell_type": "code",
   "execution_count": null,
   "id": "9c643ba0-b106-45ec-a674-66bf0fbc9709",
   "metadata": {},
   "outputs": [],
   "source": []
  },
  {
   "cell_type": "markdown",
   "id": "b620dcfa-e119-4d96-add8-aff3d723f130",
   "metadata": {},
   "source": [
    "Q44.Implement a function to check if a given number is a perfect number.\n",
    "\n",
    "Ans:-"
   ]
  },
  {
   "cell_type": "code",
   "execution_count": 32,
   "id": "9e3f4f15-581f-4e41-be12-b0e1f6ca54ee",
   "metadata": {},
   "outputs": [
    {
     "name": "stdout",
     "output_type": "stream",
     "text": [
      "True\n"
     ]
    }
   ],
   "source": [
    "def is_perfect_number(num):\n",
    "    if num <= 0:\n",
    "        return False\n",
    "\n",
    "    divisors = []\n",
    "    for i in range(1, num):\n",
    "        if num % i == 0:\n",
    "            divisors.append(i)\n",
    "\n",
    "    if sum(divisors) == num:\n",
    "        return True\n",
    "    else:\n",
    "        return False\n",
    "#example-\n",
    "num = 28\n",
    "print(is_perfect_number(num))"
   ]
  },
  {
   "cell_type": "code",
   "execution_count": null,
   "id": "142ba378-c0ff-4346-92f5-616bbcfffd3e",
   "metadata": {},
   "outputs": [],
   "source": []
  },
  {
   "cell_type": "markdown",
   "id": "59ff7253-f6a1-4131-9845-0283e6af4c24",
   "metadata": {},
   "source": [
    "Q45. Write a Python program to remove all duplicates from a string.\n",
    "\n",
    "Ans:-"
   ]
  },
  {
   "cell_type": "code",
   "execution_count": 33,
   "id": "c02e944d-cdd1-4b69-b722-4f345e95e69a",
   "metadata": {},
   "outputs": [
    {
     "name": "stdout",
     "output_type": "stream",
     "text": [
      "True\n"
     ]
    }
   ],
   "source": [
    "def is_perfect_number(num):\n",
    "    if num <= 0:\n",
    "        return False\n",
    "\n",
    "    divisors = []\n",
    "    for i in range(1, num):\n",
    "        if num % i == 0:\n",
    "            divisors.append(i)\n",
    "\n",
    "    if sum(divisors) == num:\n",
    "        return True\n",
    "    else:\n",
    "        return False\n",
    "\n",
    "# Example-\n",
    "num = 28\n",
    "print(is_perfect_number(num))"
   ]
  },
  {
   "cell_type": "code",
   "execution_count": null,
   "id": "69ebdeb5-e551-4a69-b6e3-a75bd605657e",
   "metadata": {},
   "outputs": [],
   "source": []
  },
  {
   "cell_type": "markdown",
   "id": "74849c92-3162-4226-b97a-1fd986b24d1f",
   "metadata": {},
   "source": [
    "Q46. Implement a function to find the first missing positive\n",
    "\n",
    "Ans:-"
   ]
  },
  {
   "cell_type": "code",
   "execution_count": 34,
   "id": "5d775fe6-d84d-479a-b07d-40d0b47ce5a2",
   "metadata": {},
   "outputs": [
    {
     "name": "stdout",
     "output_type": "stream",
     "text": [
      "2\n"
     ]
    }
   ],
   "source": [
    "def first_missing_positive(nums):\n",
    "    n = len(nums)\n",
    "\n",
    "    for i in range(n):\n",
    "        if nums[i] <= 0:\n",
    "            nums[i] = n + 1\n",
    "    for i in range(n):\n",
    "        num = abs(nums[i])\n",
    "        if num <= n:\n",
    "            nums[num - 1] = -abs(nums[num - 1])\n",
    "\n",
    "    for i in range(n):\n",
    "        if nums[i] > 0:\n",
    "            return i + 1\n",
    "\n",
    "    return n + 1\n",
    "\n",
    "# Example -\n",
    "nums = [3, 4, -1, 1]\n",
    "print(first_missing_positive(nums))"
   ]
  },
  {
   "cell_type": "code",
   "execution_count": null,
   "id": "7cd8545b-295d-4ffe-bd9b-5ecc58f1e630",
   "metadata": {},
   "outputs": [],
   "source": []
  }
 ],
 "metadata": {
  "kernelspec": {
   "display_name": "Python 3 (ipykernel)",
   "language": "python",
   "name": "python3"
  },
  "language_info": {
   "codemirror_mode": {
    "name": "ipython",
    "version": 3
   },
   "file_extension": ".py",
   "mimetype": "text/x-python",
   "name": "python",
   "nbconvert_exporter": "python",
   "pygments_lexer": "ipython3",
   "version": "3.10.8"
  }
 },
 "nbformat": 4,
 "nbformat_minor": 5
}

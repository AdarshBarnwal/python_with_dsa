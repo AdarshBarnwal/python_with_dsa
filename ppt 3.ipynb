{
 "cells": [
  {
   "cell_type": "markdown",
   "id": "acaf42cb-d8e3-4f00-bbdc-5b64207ec30e",
   "metadata": {},
   "source": [
    "Q1. Ans"
   ]
  },
  {
   "cell_type": "code",
   "execution_count": 8,
   "id": "b818600d-3ba8-4475-a9d2-c442a61a73aa",
   "metadata": {},
   "outputs": [
    {
     "name": "stdout",
     "output_type": "stream",
     "text": [
      "2\n"
     ]
    }
   ],
   "source": [
    "def Closest_sum(nums, target):\n",
    "    nums.sort()  # Sort the array in ascending order\n",
    "    n = len(nums)\n",
    "    closest_sum = float('inf')  # Initialize the closest sum to a large value    \n",
    "    for i in range(n-2):\n",
    "        left = i + 1  # Pointer for the element to the right of nums[i]\n",
    "        right = n - 1  # Pointer for the last element in the array     \n",
    "        while left < right:\n",
    "            curr_sum = nums[i] + nums[left] + nums[right]         \n",
    "            if curr_sum == target:\n",
    "                return target  # If the sum is equal to the target, return it\n",
    "            if abs(curr_sum - target) < abs(closest_sum - target):\n",
    "                closest_sum = curr_sum       \n",
    "            if curr_sum < target:\n",
    "                left += 1 \n",
    "            else:\n",
    "                right -= 1   \n",
    "    return closest_sum\n",
    "\n",
    "#example\n",
    "nums = [-1, 2, 1, -4]\n",
    "target = 1\n",
    "print(Closest_sum(nums, target))\n"
   ]
  },
  {
   "cell_type": "code",
   "execution_count": null,
   "id": "3f4cdcd3-8947-4261-9945-6e393b41cb1c",
   "metadata": {},
   "outputs": [],
   "source": []
  },
  {
   "cell_type": "markdown",
   "id": "907a5b9d-299c-4247-ae52-a91bf19e33e1",
   "metadata": {},
   "source": [
    "Q2.Ans"
   ]
  },
  {
   "cell_type": "code",
   "execution_count": 12,
   "id": "7368e7b8-5d13-454c-9f9f-ec302ad0e7f9",
   "metadata": {},
   "outputs": [
    {
     "name": "stdout",
     "output_type": "stream",
     "text": [
      "[[-2, -1, 1, 2], [-2, 0, 0, 2], [-1, 0, 0, 1]]\n"
     ]
    }
   ],
   "source": [
    "def fourSum(nums, target):\n",
    "    nums.sort()\n",
    "    n = len(nums)\n",
    "    quadruplets = [] \n",
    "    for i in range(n-3):\n",
    "        if i > 0 and nums[i] == nums[i-1]:\n",
    "            continue \n",
    "        for j in range(i+1, n-2):\n",
    "            if j > i+1 and nums[j] == nums[j-1]:\n",
    "                continue \n",
    "            left = j + 1 \n",
    "            right = n - 1 \n",
    "            while left < right:\n",
    "                curr_sum = nums[i] + nums[j] + nums[left] + nums[right]\n",
    "                if curr_sum == target:\n",
    "                    quadruplets.append([nums[i], nums[j], nums[left], nums[right]])\n",
    "                    while left < right and nums[left] == nums[left+1]:\n",
    "                        left += 1 \n",
    "                    while left < right and nums[right] == nums[right-1]:\n",
    "                        right -= 1 \n",
    "                    left += 1\n",
    "                    right -= 1\n",
    "                elif curr_sum < target:\n",
    "                    left += 1\n",
    "                else:\n",
    "                    right -= 1  \n",
    "    return quadruplets\n",
    "#Example\n",
    "nums = [1, 0, -1, 0, -2, 2]\n",
    "target = 0\n",
    "result = fourSum(nums, target)\n",
    "print(result)"
   ]
  },
  {
   "cell_type": "code",
   "execution_count": null,
   "id": "988e8413-5455-4ae0-9e4d-469017c7b58a",
   "metadata": {},
   "outputs": [],
   "source": []
  },
  {
   "cell_type": "markdown",
   "id": "6d7f92b5-c344-4944-b586-1e1ea80778d4",
   "metadata": {},
   "source": [
    "Q3. Ans"
   ]
  },
  {
   "cell_type": "code",
   "execution_count": 16,
   "id": "13271023-cffd-49e8-9fc1-401c47e58564",
   "metadata": {},
   "outputs": [
    {
     "name": "stdout",
     "output_type": "stream",
     "text": [
      "[1, 3, 2]\n"
     ]
    }
   ],
   "source": [
    "def nextPermutation(nums):\n",
    "    i = len(nums) - 2\n",
    "    while i >= 0 and nums[i] >= nums[i+1]:\n",
    "        i -= 1\n",
    "    if i >= 0:\n",
    "        j = len(nums) - 1\n",
    "        while j > i and nums[j] <= nums[i]:\n",
    "            j -= 1\n",
    "        nums[i], nums[j] = nums[j], nums[i]\n",
    "    left = i + 1\n",
    "    right = len(nums) - 1\n",
    "    while left < right:\n",
    "        nums[left], nums[right] = nums[right], nums[left]\n",
    "        left += 1\n",
    "        right -= 1\n",
    "\n",
    "# Example\n",
    "nums = [1, 2, 3]\n",
    "nextPermutation(nums)\n",
    "print(nums)\n"
   ]
  },
  {
   "cell_type": "code",
   "execution_count": null,
   "id": "5163274c-f921-4805-9c08-97cb5d3e69bd",
   "metadata": {},
   "outputs": [],
   "source": []
  },
  {
   "cell_type": "markdown",
   "id": "a965df50-d01b-4547-b888-5b8038a7b71c",
   "metadata": {},
   "source": [
    "Q4. Ans"
   ]
  },
  {
   "cell_type": "code",
   "execution_count": 13,
   "id": "1b223f06-d55f-4c27-be54-8d7832f4c850",
   "metadata": {},
   "outputs": [
    {
     "name": "stdout",
     "output_type": "stream",
     "text": [
      "2\n"
     ]
    }
   ],
   "source": [
    "def searchInsert(nums, target):\n",
    "    left, right = 0, len(nums) - 1\n",
    "    \n",
    "    while left <= right:\n",
    "        mid = (left + right) // 2\n",
    "        \n",
    "        if nums[mid] == target:\n",
    "            return mid\n",
    "        elif nums[mid] < target:\n",
    "            left = mid + 1\n",
    "        else:\n",
    "            right = mid - 1\n",
    "    \n",
    "    return left\n",
    "\n",
    "#Example\n",
    "nums = [1, 3, 5, 6]\n",
    "target = 5\n",
    "print(searchInsert(nums, target))"
   ]
  },
  {
   "cell_type": "code",
   "execution_count": null,
   "id": "e7bcd1f0-6101-41cc-a1df-304899f05345",
   "metadata": {},
   "outputs": [],
   "source": []
  },
  {
   "cell_type": "markdown",
   "id": "f7f022c3-7b21-4f29-906d-42fce7e8f958",
   "metadata": {},
   "source": [
    "Q5.Ans"
   ]
  },
  {
   "cell_type": "code",
   "execution_count": 17,
   "id": "2088b1eb-2943-49dc-bc5c-0cd551957b5a",
   "metadata": {},
   "outputs": [
    {
     "name": "stdout",
     "output_type": "stream",
     "text": [
      "[1, 2, 4]\n"
     ]
    }
   ],
   "source": [
    "def incriment(digits):\n",
    "    n = len(digits)\n",
    "    i = n - 1\n",
    "\n",
    "    while i >= 0:\n",
    "        if digits[i] < 9:\n",
    "            digits[i] += 1\n",
    "            return digits\n",
    "        else:\n",
    "            digits[i] = 0\n",
    "            i -= 1\n",
    "    digits.insert(0, 1)\n",
    "    return digits\n",
    "\n",
    "#Example\n",
    "digits = [1, 2, 3]\n",
    "result = incriment(digits)\n",
    "print(result)"
   ]
  },
  {
   "cell_type": "code",
   "execution_count": null,
   "id": "b0c55c25-d7f9-4c31-b181-28df714b0be3",
   "metadata": {},
   "outputs": [],
   "source": []
  },
  {
   "cell_type": "markdown",
   "id": "c343fafe-e8f4-4513-8780-97d3641ac487",
   "metadata": {},
   "source": [
    "Q6. Ans"
   ]
  },
  {
   "cell_type": "code",
   "execution_count": 21,
   "id": "94b423d9-4aeb-4dc4-89d0-530ea4181374",
   "metadata": {},
   "outputs": [
    {
     "name": "stdout",
     "output_type": "stream",
     "text": [
      "1\n"
     ]
    }
   ],
   "source": [
    "def single_Number(nums):\n",
    "    result = 0\n",
    "    for num in nums:\n",
    "        result ^= num\n",
    "    return result\n",
    "\n",
    "# Test the function\n",
    "nums = [2, 2, 1]\n",
    "result = single_Number(nums)\n",
    "print(result)\n"
   ]
  },
  {
   "cell_type": "code",
   "execution_count": null,
   "id": "4ab0602c-7f92-46ba-accf-f1fa0409ffe5",
   "metadata": {},
   "outputs": [],
   "source": []
  },
  {
   "cell_type": "markdown",
   "id": "a1036087-4599-488f-a0bb-56e510522a61",
   "metadata": {},
   "source": [
    "Q7. Ans"
   ]
  },
  {
   "cell_type": "code",
   "execution_count": 22,
   "id": "e0446ffc-545b-40c1-8d39-22819129e4ff",
   "metadata": {},
   "outputs": [
    {
     "name": "stdout",
     "output_type": "stream",
     "text": [
      "['2', '4->49', '51->74', '76->99']\n"
     ]
    }
   ],
   "source": [
    "def findMissingRanges(nums, lower, upper):\n",
    "    missingRanges = []\n",
    "    prev = lower - 1\n",
    "    \n",
    "    for num in nums + [upper + 1]:\n",
    "        if num - prev > 1:\n",
    "            missingRanges.append(formatRange(prev + 1, num - 1))\n",
    "        prev = num\n",
    "    \n",
    "    return missingRanges\n",
    "\n",
    "def formatRange(start, end):\n",
    "    if start == end:\n",
    "        return str(start)\n",
    "    else:\n",
    "        return str(start) + \"->\" + str(end)\n",
    "\n",
    "# Test the function\n",
    "nums = [0, 1, 3, 50, 75]\n",
    "lower = 0\n",
    "upper = 99\n",
    "result = findMissingRanges(nums, lower, upper)\n",
    "print(result)\n"
   ]
  },
  {
   "cell_type": "code",
   "execution_count": null,
   "id": "319a7c6e-87e1-4c04-a92d-70929ec08855",
   "metadata": {},
   "outputs": [],
   "source": []
  },
  {
   "cell_type": "markdown",
   "id": "9b2c1297-a263-46dc-a237-a07ff201626b",
   "metadata": {},
   "source": [
    "Q8. Ans"
   ]
  },
  {
   "cell_type": "code",
   "execution_count": 23,
   "id": "da03c181-7f55-483b-b2fb-c84ce7248a78",
   "metadata": {},
   "outputs": [
    {
     "name": "stdout",
     "output_type": "stream",
     "text": [
      "False\n"
     ]
    }
   ],
   "source": [
    "def canAttendMeetings(intervals):\n",
    "    intervals.sort(key=lambda x: x[0])\n",
    "    \n",
    "    for i in range(1, len(intervals)):\n",
    "        if intervals[i][0] < intervals[i-1][1]:\n",
    "            return False\n",
    "    \n",
    "    return True\n",
    "\n",
    "# Example\n",
    "intervals = [[0, 30], [5, 10], [15, 20]]\n",
    "result = canAttendMeetings(intervals)\n",
    "print(result)\n"
   ]
  },
  {
   "cell_type": "code",
   "execution_count": null,
   "id": "2cf61217-cf12-470c-804e-725687e3e31e",
   "metadata": {},
   "outputs": [],
   "source": []
  }
 ],
 "metadata": {
  "kernelspec": {
   "display_name": "Python 3 (ipykernel)",
   "language": "python",
   "name": "python3"
  },
  "language_info": {
   "codemirror_mode": {
    "name": "ipython",
    "version": 3
   },
   "file_extension": ".py",
   "mimetype": "text/x-python",
   "name": "python",
   "nbconvert_exporter": "python",
   "pygments_lexer": "ipython3",
   "version": "3.10.8"
  }
 },
 "nbformat": 4,
 "nbformat_minor": 5
}

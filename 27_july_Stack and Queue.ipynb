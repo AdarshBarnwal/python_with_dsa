{
 "cells": [
  {
   "cell_type": "markdown",
   "id": "d2991887-cbef-47b9-8c15-85314b5b9282",
   "metadata": {},
   "source": [
    "### 1.`Make the String Great`"
   ]
  },
  {
   "cell_type": "code",
   "execution_count": 7,
   "id": "c83ff0c0-6466-45ec-b8eb-9d84e4893c13",
   "metadata": {},
   "outputs": [
    {
     "name": "stdout",
     "output_type": "stream",
     "text": [
      "leetcode\n",
      "\n",
      "s\n"
     ]
    }
   ],
   "source": [
    "def makeGood(s):\n",
    "    stack = []\n",
    "    for char in s:\n",
    "        if stack and abs(ord(stack[-1]) - ord(char)) == 32:\n",
    "            stack.pop()\n",
    "        else:\n",
    "            stack.append(char)\n",
    "    return ''.join(stack)\n",
    "\n",
    "# Test the function\n",
    "print(makeGood(\"leEeetcode\"))\n",
    "print(makeGood(\"abBAcC\"))\n",
    "print(makeGood(\"s\"))"
   ]
  },
  {
   "cell_type": "markdown",
   "id": "1bd01813-33d0-4b6d-9417-3df456d59888",
   "metadata": {},
   "source": [
    "### 2.`Remove All Adjacent Duplicates In String`"
   ]
  },
  {
   "cell_type": "code",
   "execution_count": 11,
   "id": "182adbb1-62c4-4f7d-83a2-7f4449dbb559",
   "metadata": {},
   "outputs": [
    {
     "name": "stdout",
     "output_type": "stream",
     "text": [
      "ca\n",
      "ay\n"
     ]
    }
   ],
   "source": [
    "def removeDuplicates(s):\n",
    "    stack = []\n",
    "    for char in s:\n",
    "        if stack and stack[-1] == char:\n",
    "            stack.pop()\n",
    "        else:\n",
    "            stack.append(char)\n",
    "    return ''.join(stack)\n",
    "\n",
    "# Test the function\n",
    "print(removeDuplicates(\"abbaca\"))\n",
    "print(removeDuplicates(\"azxxzy\"))"
   ]
  },
  {
   "cell_type": "markdown",
   "id": "6e081603-b5b4-444e-b87b-be546423a5f4",
   "metadata": {},
   "source": [
    "### 3. `Online Stock Span`"
   ]
  },
  {
   "cell_type": "code",
   "execution_count": 18,
   "id": "a94b699a-8a45-4973-87e1-2eece0f4f336",
   "metadata": {},
   "outputs": [
    {
     "name": "stdout",
     "output_type": "stream",
     "text": [
      "1\n",
      "1\n",
      "1\n",
      "2\n",
      "1\n",
      "4\n",
      "6\n"
     ]
    }
   ],
   "source": [
    "class StockSpanner:\n",
    "\n",
    "    def __init__(self):\n",
    "        self.prices = [] \n",
    "        self.spans = []  \n",
    "\n",
    "    def next(self, price: int) -> int:\n",
    "        span = 1\n",
    "        \n",
    "        while self.prices and self.prices[-1] <= price:\n",
    "            self.prices.pop()\n",
    "            span += self.spans.pop()\n",
    "        \n",
    "        self.prices.append(price)\n",
    "        self.spans.append(span)\n",
    "\n",
    "        return span\n",
    "\n",
    "# Test the function:\n",
    "stockSpanner = StockSpanner()\n",
    "print(stockSpanner.next(100))  \n",
    "print(stockSpanner.next(80))  \n",
    "print(stockSpanner.next(60))  \n",
    "print(stockSpanner.next(70))  \n",
    "print(stockSpanner.next(60))  \n",
    "print(stockSpanner.next(75))  \n",
    "print(stockSpanner.next(85)) \n"
   ]
  },
  {
   "cell_type": "markdown",
   "id": "c1ff2a17-825b-4239-8fca-742c201818d9",
   "metadata": {},
   "source": [
    "### 4. `Time Needed to buy tickets`"
   ]
  },
  {
   "cell_type": "code",
   "execution_count": 16,
   "id": "679ca348-12f5-4c88-8fe9-7e9064680093",
   "metadata": {},
   "outputs": [
    {
     "name": "stdout",
     "output_type": "stream",
     "text": [
      "7\n",
      "8\n"
     ]
    }
   ],
   "source": [
    "def timeRequiredToBuy(tickets, k):\n",
    "    n = len(tickets)\n",
    "    queue = [(tickets[i], i) for i in range(n)]\n",
    "\n",
    "    time_taken = 0\n",
    "    while True:\n",
    "        tickets_left, position = queue[0]\n",
    "\n",
    "        if position == k and tickets_left == 0:\n",
    "            break\n",
    "\n",
    "        tickets_bought = min(tickets_left, 1)\n",
    "        queue.pop(0)\n",
    "        queue.append((tickets_left - tickets_bought, position))\n",
    "\n",
    "        time_taken += tickets_bought\n",
    "\n",
    "    return time_taken\n",
    "\n",
    "# Test cases\n",
    "print(timeRequiredToBuy([2, 3, 2], 2))\n",
    "print(timeRequiredToBuy([5, 1, 1, 1], 0))"
   ]
  },
  {
   "cell_type": "markdown",
   "id": "ebbca904-c572-421d-827c-3ccb200e8351",
   "metadata": {},
   "source": [
    "### 5. `Product of the last K Numbers`"
   ]
  },
  {
   "cell_type": "code",
   "execution_count": 22,
   "id": "c71b2b95-c1de-4652-a82e-f930fcf927fe",
   "metadata": {},
   "outputs": [
    {
     "name": "stdout",
     "output_type": "stream",
     "text": [
      "20\n",
      "40\n",
      "0\n",
      "32\n"
     ]
    }
   ],
   "source": [
    "class ProductOfNumbers:\n",
    "\n",
    "    def __init__(self):\n",
    "        self.stream = [1]\n",
    "        self.products = [1]\n",
    "        self.last_zero_index = -1\n",
    "        self.running_product = 1\n",
    "\n",
    "    def add(self, num: int) -> None:\n",
    "        if num == 0:\n",
    "            self.last_zero_index = len(self.stream)\n",
    "            self.running_product = 1\n",
    "        else:\n",
    "            self.running_product *= num\n",
    "\n",
    "        self.stream.append(num)\n",
    "        self.products.append(self.running_product)\n",
    "\n",
    "    def getProduct(self, k: int) -> int:\n",
    "        last_index = len(self.stream) - 1\n",
    "\n",
    "        if last_index - k < self.last_zero_index:\n",
    "            return 0\n",
    "        else:\n",
    "            return self.products[-1] // self.products[-k - 1]\n",
    "\n",
    "# Test the function:\n",
    "productOfNumbers = ProductOfNumbers()\n",
    "productOfNumbers.add(3)\n",
    "productOfNumbers.add(0)\n",
    "productOfNumbers.add(2)\n",
    "productOfNumbers.add(5)\n",
    "productOfNumbers.add(4)\n",
    "print(productOfNumbers.getProduct(2))\n",
    "print(productOfNumbers.getProduct(3))\n",
    "print(productOfNumbers.getProduct(4))\n",
    "productOfNumbers.add(8)\n",
    "print(productOfNumbers.getProduct(2))"
   ]
  },
  {
   "cell_type": "markdown",
   "id": "f0d66093-87f8-4826-b8ca-f2ed9d7f1114",
   "metadata": {},
   "source": [
    "### 6. `Largest Rectangle in Histogram`"
   ]
  },
  {
   "cell_type": "code",
   "execution_count": 23,
   "id": "fe5ea540-ad1c-4ebf-a26e-aa2bd540092a",
   "metadata": {},
   "outputs": [
    {
     "name": "stdout",
     "output_type": "stream",
     "text": [
      "10\n",
      "4\n"
     ]
    }
   ],
   "source": [
    "def largestRectangleArea(heights):\n",
    "    stack = [] \n",
    "    max_area = 0 \n",
    "\n",
    "    for i in range(len(heights)):\n",
    "        while stack and heights[i] < heights[stack[-1]]:\n",
    "            height = heights[stack.pop()]\n",
    "            width = i if not stack else i - stack[-1] - 1\n",
    "            max_area = max(max_area, height * width)\n",
    "        stack.append(i)\n",
    "\n",
    "    while stack:\n",
    "        height = heights[stack.pop()]\n",
    "        width = len(heights) if not stack else len(heights) - stack[-1] - 1\n",
    "        max_area = max(max_area, height * width)\n",
    "\n",
    "    return max_area\n",
    "\n",
    "# Test the function\n",
    "print(largestRectangleArea([2, 1, 5, 6, 2, 3]))\n",
    "print(largestRectangleArea([2, 4]))"
   ]
  },
  {
   "cell_type": "markdown",
   "id": "94a8e65a-3aae-493a-bd72-edf5270e67b5",
   "metadata": {},
   "source": [
    "### 7. `Sliding Window Maximum`"
   ]
  },
  {
   "cell_type": "code",
   "execution_count": 31,
   "id": "f5cc98a7-ed3e-420b-b587-598a24545c07",
   "metadata": {},
   "outputs": [
    {
     "name": "stdout",
     "output_type": "stream",
     "text": [
      "[3, 3, 5, 5, 6, 7]\n",
      "[1]\n"
     ]
    }
   ],
   "source": [
    "from collections import deque\n",
    "\n",
    "def maxSlidingWindow(nums, k):\n",
    "    n = len(nums)\n",
    "    if n == 0 or k == 0:\n",
    "        return []\n",
    "\n",
    "    result = []\n",
    "    window = deque()\n",
    "\n",
    "    for i in range(n):\n",
    "        while window and window[0] < i - k + 1:\n",
    "            window.popleft()\n",
    "\n",
    "        while window and nums[window[-1]] <= nums[i]:\n",
    "            window.pop()\n",
    "        window.append(i)\n",
    "        if i >= k - 1:\n",
    "            result.append(nums[window[0]])\n",
    "\n",
    "    return result\n",
    "\n",
    "# Test the function\n",
    "print(maxSlidingWindow([1, 3, -1, -3, 5, 3, 6, 7], 3))\n",
    "print(maxSlidingWindow([1], 1))\n"
   ]
  },
  {
   "cell_type": "markdown",
   "id": "aa09a8f6-bf2b-4511-b0fe-9de2172df080",
   "metadata": {},
   "source": [
    "### 8. `Design a circular queue data structure with the following operations: enQueue, deQueue, Front, Rear, and isEmpty.`"
   ]
  },
  {
   "cell_type": "code",
   "execution_count": 32,
   "id": "6f1c4b56-7844-4853-b87d-9037b57b9998",
   "metadata": {},
   "outputs": [
    {
     "name": "stdout",
     "output_type": "stream",
     "text": [
      "True\n",
      "True\n",
      "True\n",
      "False\n",
      "3\n",
      "True\n",
      "True\n",
      "True\n",
      "4\n"
     ]
    }
   ],
   "source": [
    "class CircularQueue:\n",
    "\n",
    "    def __init__(self, k: int):\n",
    "        self.queue = [0] * k\n",
    "        self.front = self.rear = -1\n",
    "        self.size = k\n",
    "\n",
    "    def enQueue(self, value: int) -> bool:\n",
    "        if self.isFull():\n",
    "            return False\n",
    "\n",
    "        if self.isEmpty():\n",
    "            self.front = self.rear = 0\n",
    "        else:\n",
    "            self.rear = (self.rear + 1) % self.size\n",
    "\n",
    "        self.queue[self.rear] = value\n",
    "        return True\n",
    "\n",
    "    def deQueue(self) -> bool:\n",
    "        if self.isEmpty():\n",
    "            return False\n",
    "\n",
    "        if self.front == self.rear:\n",
    "            self.front = self.rear = -1\n",
    "        else:\n",
    "            self.front = (self.front + 1) % self.size\n",
    "\n",
    "        return True\n",
    "\n",
    "    def Front(self) -> int:\n",
    "        if self.isEmpty():\n",
    "            return -1\n",
    "        return self.queue[self.front]\n",
    "\n",
    "    def Rear(self) -> int:\n",
    "        if self.isEmpty():\n",
    "            return -1\n",
    "        return self.queue[self.rear]\n",
    "\n",
    "    def isEmpty(self) -> bool:\n",
    "        return self.front == -1 and self.rear == -1\n",
    "\n",
    "    def isFull(self) -> bool:\n",
    "        return (self.rear + 1) % self.size == self.front\n",
    "\n",
    "# Test case\n",
    "circularQueue = CircularQueue(3)\n",
    "print(circularQueue.enQueue(1))  # Output: True\n",
    "print(circularQueue.enQueue(2))  # Output: True\n",
    "print(circularQueue.enQueue(3))  # Output: True\n",
    "print(circularQueue.enQueue(4))  # Output: False (Queue is full)\n",
    "print(circularQueue.Rear())     # Output: 3\n",
    "print(circularQueue.isFull())   # Output: True\n",
    "print(circularQueue.deQueue())  # Output: True\n",
    "print(circularQueue.enQueue(4))  # Output: True\n",
    "print(circularQueue.Rear())     # Output: 4"
   ]
  }
 ],
 "metadata": {
  "kernelspec": {
   "display_name": "Python 3 (ipykernel)",
   "language": "python",
   "name": "python3"
  },
  "language_info": {
   "codemirror_mode": {
    "name": "ipython",
    "version": 3
   },
   "file_extension": ".py",
   "mimetype": "text/x-python",
   "name": "python",
   "nbconvert_exporter": "python",
   "pygments_lexer": "ipython3",
   "version": "3.10.8"
  }
 },
 "nbformat": 4,
 "nbformat_minor": 5
}

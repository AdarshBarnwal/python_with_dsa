{
 "cells": [
  {
   "cell_type": "code",
   "execution_count": 17,
   "metadata": {},
   "outputs": [],
   "source": [
    "import numpy as np\n",
    "from scipy import stats\n",
    "import warnings\n",
    "warnings.filterwarnings(\"ignore\")"
   ]
  },
  {
   "cell_type": "markdown",
   "metadata": {},
   "source": [
    "1. Scenario: A company wants to analyze the sales performance of its products in different regions. They have collected the following data:\n",
    "   Region A: [10, 15, 12, 8, 14]\n",
    "   Region B: [18, 20, 16, 22, 25]\n",
    "   Calculate the mean sales for each region."
   ]
  },
  {
   "cell_type": "code",
   "execution_count": 10,
   "metadata": {},
   "outputs": [
    {
     "name": "stdout",
     "output_type": "stream",
     "text": [
      "Mean of Region A is: 11.8\n",
      "Mean of Region B is: 20.2\n"
     ]
    }
   ],
   "source": [
    "A = [10, 15, 12, 8, 14]\n",
    "B = [18, 20, 16, 22, 25]\n",
    "print(f\"Mean of Region A is: {np.mean(A)}\")\n",
    "print(f\"Mean of Region B is: {np.mean(B)}\")"
   ]
  },
  {
   "cell_type": "markdown",
   "metadata": {},
   "source": [
    "2. Scenario: A survey is conducted to measure customer satisfaction on a scale of 1 to 5. The data collected is as follows:\n",
    "   [4, 5, 2, 3, 5, 4, 3, 2, 4, 5]\n",
    "   Calculate the mode of the survey responses."
   ]
  },
  {
   "cell_type": "code",
   "execution_count": 18,
   "metadata": {},
   "outputs": [
    {
     "name": "stdout",
     "output_type": "stream",
     "text": [
      "The mode of the survey is: 4\n"
     ]
    }
   ],
   "source": [
    "survey=[4, 5, 2, 3, 5, 4, 3, 2, 4, 5]\n",
    "print(f\"The mode of the survey is: {stats.mode(survey)[0][0]}\")"
   ]
  },
  {
   "cell_type": "markdown",
   "metadata": {},
   "source": [
    "3. Scenario: A company wants to compare the salaries of two departments. The salary data for Department A and Department B are as follows:\n",
    "   Department A: [5000, 6000, 5500, 7000]\n",
    "   Department B: [4500, 5500, 5800, 6000, 5200]\n",
    "   Calculate the median salary for each department."
   ]
  },
  {
   "cell_type": "code",
   "execution_count": 19,
   "metadata": {},
   "outputs": [
    {
     "name": "stdout",
     "output_type": "stream",
     "text": [
      "The median salary for Department A is: 5750.0\n",
      "The median salary for Department B is: 5500.0\n"
     ]
    }
   ],
   "source": [
    "A = [5000, 6000, 5500, 7000]\n",
    "B = [4500, 5500, 5800, 6000, 5200]\n",
    "print(f\"The median salary for Department A is: {np.median(A)}\")\n",
    "print(f\"The median salary for Department B is: {np.median(B)}\")"
   ]
  },
  {
   "cell_type": "markdown",
   "metadata": {},
   "source": [
    "4. Scenario: A data analyst wants to determine the variability in the daily stock prices of a company. The data collected is as follows:\n",
    "   [25.5, 24.8, 26.1, 25.3, 24.9]\n",
    "   Calculate the range of the stock prices."
   ]
  },
  {
   "cell_type": "code",
   "execution_count": 25,
   "metadata": {},
   "outputs": [
    {
     "name": "stdout",
     "output_type": "stream",
     "text": [
      "Range of stock prices is: 1.3\n"
     ]
    }
   ],
   "source": [
    "A = [25.5, 24.8, 26.1, 25.3, 24.9]\n",
    "print(f\"Range of stock prices is: {round((max(A) - min(A)),2)}\")"
   ]
  },
  {
   "cell_type": "markdown",
   "metadata": {},
   "source": [
    "5. Scenario: A study is conducted to compare the performance of two different teaching methods. The test scores of the students in each group are as follows:\n",
    "   Group A: [85, 90, 92, 88, 91]\n",
    "   Group B: [82, 88, 90, 86, 87]\n",
    "   Perform a t-test to determine if there is a significant difference in the mean scores between the two groups."
   ]
  },
  {
   "cell_type": "code",
   "execution_count": 30,
   "metadata": {},
   "outputs": [
    {
     "name": "stdout",
     "output_type": "stream",
     "text": [
      "P value is 0.19023970239078333: Failed to reject Null hypothesis. There is no significant difference in the mean scores between the groups\n"
     ]
    }
   ],
   "source": [
    "A = [85, 90, 92, 88, 91]\n",
    "B = [82, 88, 90, 86, 87]\n",
    "_ , p_val = stats.ttest_ind(A,B)\n",
    "alpha = 0.05\n",
    "if p_val < alpha:\n",
    "    print(f\"P value is {p_val}: Null hypothesis rejected . There is a significant difference in the mean scores between the groups\")\n",
    "else:\n",
    "    print(f\"P value is {p_val}: Failed to reject Null hypothesis. There is no significant difference in the mean scores between the groups\")"
   ]
  },
  {
   "cell_type": "markdown",
   "metadata": {},
   "source": [
    "6. Scenario: A company wants to analyze the relationship between advertising expenditure and sales. The data collected is as follows:\n",
    "   Advertising Expenditure (in thousands): [10, 15, 12, 8, 14]\n",
    "   Sales (in thousands): [25, 30, 28, 20, 26]\n",
    "   Calculate the correlation coefficient between advertising expenditure and sales."
   ]
  },
  {
   "cell_type": "code",
   "execution_count": 33,
   "metadata": {},
   "outputs": [
    {
     "name": "stdout",
     "output_type": "stream",
     "text": [
      "The correlation coefficient between the Advertising Expenditure and the Sales is: 0.8757511375750132\n"
     ]
    }
   ],
   "source": [
    "ad_exp = [10, 15, 12, 8, 14]\n",
    "sales = [25, 30, 28, 20, 26]\n",
    "c = np.corrcoef(ad_exp,sales)\n",
    "print(f\"The correlation coefficient between the Advertising Expenditure and the Sales is: {c[0][1]}\")"
   ]
  },
  {
   "cell_type": "markdown",
   "metadata": {},
   "source": [
    "7. Scenario: A survey is conducted to measure the heights of a group of people. The data collected is as follows:\n",
    "   [160, 170, 165, 155, 175, 180, 170]\n",
    "   Calculate the standard deviation of the heights."
   ]
  },
  {
   "cell_type": "code",
   "execution_count": 35,
   "metadata": {},
   "outputs": [
    {
     "name": "stdout",
     "output_type": "stream",
     "text": [
      "The standard deviation of the height is :7.953949089757174\n"
     ]
    }
   ],
   "source": [
    "height = [160, 170, 165, 155, 175, 180, 170]\n",
    "print(f\"The standard deviation of the height is :{np.std(height)}\")"
   ]
  },
  {
   "cell_type": "markdown",
   "metadata": {},
   "source": [
    "8. Scenario: A company wants to analyze the relationship between employee tenure and job satisfaction. The data collected is as follows:\n",
    "   Employee Tenure (in years): [2, 3, 5, 4, 6, 2, 4]\n",
    "   Job Satisfaction (on a scale of 1 to 10): [7, 8, 6, 9, 5, 7, 6]\n",
    "   Perform a linear regression analysis to predict job satisfaction based on employee tenure."
   ]
  },
  {
   "cell_type": "code",
   "execution_count": 43,
   "metadata": {},
   "outputs": [
    {
     "name": "stdout",
     "output_type": "stream",
     "text": [
      "The linear equation for prediction of Job Satisfaction from Employee Tenure by ordinary least squares is:\n",
      "Job Satisfaction = -0.4680851063829787* Employee Tenure + 8.595744680851062\n",
      "The p-values is: 0.23095550952297988\n"
     ]
    }
   ],
   "source": [
    "Tenure = [2, 3, 5, 4, 6, 2, 4]\n",
    "Satisfaction = [7, 8, 6, 9, 5, 7, 6]\n",
    "result = stats.linregress(Tenure,Satisfaction)\n",
    "print(\"The linear equation for prediction of Job Satisfaction from Employee Tenure by ordinary least squares is:\")\n",
    "print(f\"Job Satisfaction = {result.slope}* Employee Tenure + {result.intercept}\")\n",
    "print(f\"The p-values is: {result.pvalue}\")"
   ]
  },
  {
   "cell_type": "markdown",
   "metadata": {},
   "source": [
    "9. Scenario: A study is conducted to compare the effectiveness of two different medications. The recovery times of the patients in each group are as follows:\n",
    "   Medication A: [10, 12, 14, 11, 13]\n",
    "   Medication B: [15, 17, 16, 14, 18]\n",
    "   Perform an analysis of variance (ANOVA) to determine if there is a significant difference in the mean recovery times between the two medications."
   ]
  },
  {
   "cell_type": "code",
   "execution_count": 45,
   "metadata": {},
   "outputs": [
    {
     "name": "stdout",
     "output_type": "stream",
     "text": [
      "P value is 0.003949772803445326: Null hypothesis rejected . There is a significant difference in the mean recovery times between the two medications.\n"
     ]
    }
   ],
   "source": [
    "med_A = [10, 12, 14, 11, 13]\n",
    "med_B = [15, 17, 16, 14, 18]\n",
    "_ , p_val = stats.f_oneway(med_A, med_B)\n",
    "alpha = 0.05\n",
    "if p_val < alpha:\n",
    "    print(f\"P value is {p_val}: Null hypothesis rejected . There is a significant difference in the mean recovery times between the two medications.\")\n",
    "else:\n",
    "    print(f\"P value is {p_val}: Failed to reject Null hypothesis. There is no significant difference in the mean recovery times between the two medications.\")"
   ]
  },
  {
   "cell_type": "markdown",
   "metadata": {},
   "source": [
    "10. Scenario: A company wants to analyze customer feedback ratings on a scale of 1 to 10. The data collected is as follows:\n",
    "    [8, 9, 7, 6, 8, 10, 9, 8, 7, 8]\n",
    "    Calculate the 75th percentile of the feedback ratings."
   ]
  },
  {
   "cell_type": "code",
   "execution_count": 48,
   "metadata": {},
   "outputs": [
    {
     "name": "stdout",
     "output_type": "stream",
     "text": [
      "The 75th percentile is: 8.75\n"
     ]
    }
   ],
   "source": [
    "rating = [8, 9, 7, 6, 8, 10, 9, 8, 7, 8]\n",
    "print(f\"The 75th percentile is: {np.percentile(rating,75)}\")"
   ]
  },
  {
   "cell_type": "markdown",
   "metadata": {},
   "source": [
    "11. Scenario: A quality control department wants to test the weight consistency of a product. The weights of a sample of products are as follows:\n",
    "    [10.2, 9.8, 10.0, 10.5, 10.3, 10.1]\n",
    "    Perform a hypothesis test to determine if the mean weight differs significantly from 10 grams."
   ]
  },
  {
   "cell_type": "code",
   "execution_count": 49,
   "metadata": {},
   "outputs": [
    {
     "name": "stdout",
     "output_type": "stream",
     "text": [
      "P value is 0.19077595151110102: Failed to reject Null hypothesis. Mean weight does not differ significantly from 10 grams.\n"
     ]
    }
   ],
   "source": [
    "weight = [10.2, 9.8, 10.0, 10.5, 10.3, 10.1]\n",
    "result = stats.ttest_1samp(weight , 10)\n",
    "alpha = 0.05\n",
    "if result.pvalue < alpha: \n",
    "    print(f\"P value is {result.pvalue}: Null hypothesis rejected . Mean weight differs significantly from 10 grams.\")\n",
    "else:\n",
    "    print(f\"P value is {result.pvalue}: Failed to reject Null hypothesis. Mean weight does not differ significantly from 10 grams.\")"
   ]
  },
  {
   "cell_type": "markdown",
   "metadata": {},
   "source": [
    "12. Scenario: A company wants to analyze the click-through rates of two different website designs. The number of clicks for each design is as follows:\n",
    "    Design A: [100, 120, 110, 90, 95]\n",
    "    Design B: [80, 85, 90, 95, 100]\n",
    "    Perform a chi-square test to determine if there is a significant difference in the click-through rates between the two designs."
   ]
  },
  {
   "cell_type": "code",
   "execution_count": 51,
   "metadata": {},
   "outputs": [
    {
     "name": "stdout",
     "output_type": "stream",
     "text": [
      "P value is 1.0: Failed to reject Null hypothesis. There is no significant difference in the click-through rates between the two designs\n"
     ]
    }
   ],
   "source": [
    "A = [100, 120, 110, 90, 95]\n",
    "B = [80, 85, 90, 95, 100]\n",
    "result = stats.chi2_contingency(A, B)\n",
    "alpha = 0.05\n",
    "if result.pvalue < alpha: \n",
    "    print(f\"P value is {result.pvalue}: Null hypothesis rejected . There is a significant difference in the click-through rates between the two designs.\")\n",
    "else:\n",
    "    print(f\"P value is {result.pvalue}: Failed to reject Null hypothesis. There is no significant difference in the click-through rates between the two designs\")"
   ]
  },
  {
   "cell_type": "markdown",
   "metadata": {},
   "source": [
    "13. Scenario: A survey is conducted to measure customer satisfaction with a product on a scale of 1 to 10. The data collected is as follows:\n",
    "    [7, 9, 6, 8, 10, 7, 8, 9, 7, 8]\n",
    "    Calculate the 95% confidence interval for the population mean satisfaction score."
   ]
  },
  {
   "cell_type": "code",
   "execution_count": 53,
   "metadata": {},
   "outputs": [
    {
     "data": {
      "text/plain": [
       "(7.043561120599888, 8.756438879400113)"
      ]
     },
     "execution_count": 53,
     "metadata": {},
     "output_type": "execute_result"
    }
   ],
   "source": [
    "# Since the data is small (<30) we will be using the t-distribution to calculate the 95% confidence interval\n",
    "survey = [7, 9, 6, 8, 10, 7, 8, 9, 7, 8]\n",
    "stats.t.interval(alpha = .95 , df = len(survey)-1,\n",
    "                 loc = np.mean(survey),\n",
    "                 scale = stats.sem(survey))"
   ]
  },
  {
   "cell_type": "markdown",
   "metadata": {},
   "source": [
    "14. Scenario: A company wants to analyze the effect of temperature on product performance. The data collected is as follows:\n",
    "    Temperature (in degrees Celsius): [20, 22, 23, 19, 21]\n",
    "    Performance (on a scale of 1 to 10): [8, 7, 9, 6, 8]\n",
    "    Perform a simple linear regression to predict performance based on temperature."
   ]
  },
  {
   "cell_type": "code",
   "execution_count": 56,
   "metadata": {},
   "outputs": [
    {
     "name": "stdout",
     "output_type": "stream",
     "text": [
      "The linear equation for prediction of Performance from Temperature by ordinary least squares is:\n",
      "Performance = 0.5* Temperature  -2.9000000000000004\n",
      "The p-values is: 0.19417134561205843\n"
     ]
    }
   ],
   "source": [
    "temp = [20, 22, 23, 19, 21]\n",
    "perf = [8, 7, 9, 6, 8]\n",
    "result = stats.linregress(temp,perf)\n",
    "print(\"The linear equation for prediction of Performance from Temperature by ordinary least squares is:\")\n",
    "print(f\"Performance = {result.slope}* Temperature  {result.intercept}\")\n",
    "print(f\"The p-values is: {result.pvalue}\")"
   ]
  },
  {
   "cell_type": "markdown",
   "metadata": {},
   "source": [
    "15. Scenario: A study is conducted to compare the preferences of two groups of participants. The preferences are measured on a Likert scale from 1 to 5. The data collected is as follows:\n",
    "    Group A: [4, 3, 5, 2, 4]\n",
    "    Group B: [3, 2, 4, 3, 3]\n",
    "    Perform a Mann-Whitney U test to determine if there is a significant difference in the median preferences between the two groups."
   ]
  },
  {
   "cell_type": "code",
   "execution_count": 58,
   "metadata": {},
   "outputs": [
    {
     "name": "stdout",
     "output_type": "stream",
     "text": [
      "P value is 0.380836480306712: Failed to reject Null hypothesis. There is no significant difference in the median preferences between the two groups\n"
     ]
    }
   ],
   "source": [
    "A = [4, 3, 5, 2, 4]\n",
    "B = [3, 2, 4, 3, 3]\n",
    "result = stats.mannwhitneyu(A, B)\n",
    "if result.pvalue < alpha: \n",
    "    print(f\"P value is {result.pvalue}: Null hypothesis rejected . There is a significant difference in the median preferences between the two groups.\")\n",
    "else:\n",
    "    print(f\"P value is {result.pvalue}: Failed to reject Null hypothesis. There is no significant difference in the median preferences between the two groups\")"
   ]
  },
  {
   "cell_type": "markdown",
   "metadata": {},
   "source": [
    "16. Scenario: A company wants to analyze the distribution of customer ages. The data collected is as follows:\n",
    "    [25, 30, 35, 40, 45, 50, 55, 60, 65, 70]\n",
    "    Calculate the interquartile range (IQR) of the ages."
   ]
  },
  {
   "cell_type": "code",
   "execution_count": 62,
   "metadata": {},
   "outputs": [
    {
     "name": "stdout",
     "output_type": "stream",
     "text": [
      "The IQR is: 20.0\n"
     ]
    }
   ],
   "source": [
    "age = [25, 30, 35, 40, 45, 50, 55, 60, 65, 70]\n",
    "print(f\"The IQR is: {stats.iqr(age , interpolation='midpoint')}\")"
   ]
  },
  {
   "cell_type": "markdown",
   "metadata": {},
   "source": [
    "17. Scenario: A study is conducted to compare the performance of three different machine learning algorithms. The accuracy scores for each algorithm are as follows:\n",
    "    Algorithm A: [0.85, 0.80, 0.82, 0.87, 0.83]\n",
    "    Algorithm B: [0.78, 0.82, 0.84, 0.80, 0.79]\n",
    "    Algorithm C: [0.90, 0.88, 0.89, 0.86, 0.87]\n",
    "    Perform a Kruskal-Wallis test to determine if there is a significant difference in the median accuracy scores between the algorithms."
   ]
  },
  {
   "cell_type": "code",
   "execution_count": 64,
   "metadata": {},
   "outputs": [
    {
     "name": "stdout",
     "output_type": "stream",
     "text": [
      "P value is 0.007840333026249539: Null hypothesis rejected . There is a significant difference in the median accuracy scores between the algorithms.\n"
     ]
    }
   ],
   "source": [
    "A = [0.85, 0.80, 0.82, 0.87, 0.83]\n",
    "B = [0.78, 0.82, 0.84, 0.80, 0.79]\n",
    "C = [0.90, 0.88, 0.89, 0.86, 0.87]\n",
    "_ , p_val = stats.kruskal(A,B,C)\n",
    "alpha = 0.05\n",
    "if p_val < alpha: \n",
    "    print(f\"P value is {p_val}: Null hypothesis rejected . There is a significant difference in the median accuracy scores between the algorithms.\")\n",
    "else:\n",
    "    print(f\"P value is {p_val}: Failed to reject Null hypothesis. There is no significant difference in the median accuracy scores between the algorithms\")"
   ]
  },
  {
   "cell_type": "markdown",
   "metadata": {},
   "source": [
    "18. Scenario: A company wants to analyze the effect of price on sales. The data collected is as follows:\n",
    "    Price (in dollars): [10, 15, 12, 8, 14]\n",
    "    Sales: [100, 80, 90, 110, 95]\n",
    "    Perform a simple linear regression to predict sales based on price."
   ]
  },
  {
   "cell_type": "code",
   "execution_count": 66,
   "metadata": {},
   "outputs": [
    {
     "name": "stdout",
     "output_type": "stream",
     "text": [
      "The linear equation for prediction of Sales from Price by ordinary least squares is:\n",
      "Sales = -3.506097560975609* Price +  136.3719512195122\n",
      "The p-values is: 0.03850178234753776\n"
     ]
    }
   ],
   "source": [
    "Price = [10, 15, 12, 8, 14]\n",
    "Sales = [100, 80, 90, 110, 95]\n",
    "result = stats.linregress(Price,Sales)\n",
    "print(\"The linear equation for prediction of Sales from Price by ordinary least squares is:\")\n",
    "print(f\"Sales = {result.slope}* Price +  {result.intercept}\")\n",
    "print(f\"The p-values is: {result.pvalue}\")"
   ]
  },
  {
   "cell_type": "markdown",
   "metadata": {},
   "source": [
    "9. Scenario: A survey is conducted to measure the satisfaction levels of customers with a new product. The data collected is as follows:\n",
    "    [7, 8, 9, 6, 8, 7, 9, 7, 8, 7]\n",
    "    Calculate the standard error of the mean satisfaction score."
   ]
  },
  {
   "cell_type": "code",
   "execution_count": 68,
   "metadata": {},
   "outputs": [
    {
     "name": "stdout",
     "output_type": "stream",
     "text": [
      "The standard error of mean is : 0.30550504633038933\n"
     ]
    }
   ],
   "source": [
    "survey = [7, 8, 9, 6, 8, 7, 9, 7, 8, 7]\n",
    "print(f\"The standard error of mean is : {stats.sem(survey)}\")"
   ]
  },
  {
   "cell_type": "markdown",
   "metadata": {},
   "source": [
    "20. Scenario: A company wants to analyze the relationship between advertising expenditure and sales. The data collected is as follows:\n",
    "    Advertising Expenditure (in thousands): [10, 15, 12, 8, 14]\n",
    "    Sales (in thousands): [25, 30, 28, 20, 26]\n",
    "    Perform a multiple regression analysis to predict sales based on advertising expenditure."
   ]
  },
  {
   "cell_type": "code",
   "execution_count": 70,
   "metadata": {},
   "outputs": [
    {
     "name": "stdout",
     "output_type": "stream",
     "text": [
      "The linear equation for prediction of Sales from Advertising Expenditure by ordinary least squares is:\n",
      "Sales = 1.1524390243902436 * Advertising Expenditure +   12.201219512195125\n",
      "The p-values is: 0.051583194188217135\n"
     ]
    }
   ],
   "source": [
    "ad_exp =  [10, 15, 12, 8, 14]\n",
    "sales =  [25, 30, 28, 20, 26]\n",
    "result = stats.linregress(ad_exp,sales)\n",
    "print(\"The linear equation for prediction of Sales from Advertising Expenditure by ordinary least squares is:\")\n",
    "print(f\"Sales = {result.slope} * Advertising Expenditure +   {result.intercept}\")\n",
    "print(f\"The p-values is: {result.pvalue}\")"
   ]
  }
 ],
 "metadata": {
  "kernelspec": {
   "display_name": "Python 3 (ipykernel)",
   "language": "python",
   "name": "python3"
  },
  "language_info": {
   "codemirror_mode": {
    "name": "ipython",
    "version": 3
   },
   "file_extension": ".py",
   "mimetype": "text/x-python",
   "name": "python",
   "nbconvert_exporter": "python",
   "pygments_lexer": "ipython3",
   "version": "3.10.8"
  }
 },
 "nbformat": 4,
 "nbformat_minor": 4
}

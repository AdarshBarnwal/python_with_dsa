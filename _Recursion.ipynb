{
 "cells": [
  {
   "cell_type": "markdown",
   "id": "1927d4f0-97f4-48ee-a080-5d2f754167c8",
   "metadata": {},
   "source": [
    "Q1.\n",
    "Ans:-"
   ]
  },
  {
   "cell_type": "code",
   "execution_count": 3,
   "id": "099cd85c-9271-41a6-9e43-33cad0a0aafe",
   "metadata": {},
   "outputs": [
    {
     "name": "stdout",
     "output_type": "stream",
     "text": [
      "231\n"
     ]
    }
   ],
   "source": [
    "def minimumDeleteSum(s1, s2):\n",
    "    m, n = len(s1), len(s2)\n",
    "    dp = [[0] * (n+1) for _ in range(m+1)]\n",
    "\n",
    "    for i in range(1, m+1):\n",
    "        dp[i][0] = dp[i-1][0] + ord(s1[i-1])\n",
    "\n",
    "    for j in range(1, n+1):\n",
    "        dp[0][j] = dp[0][j-1] + ord(s2[j-1])\n",
    "\n",
    "    for i in range(1, m+1):\n",
    "        for j in range(1, n+1):\n",
    "            if s1[i-1] == s2[j-1]:\n",
    "                dp[i][j] = dp[i-1][j-1]\n",
    "            else:\n",
    "                dp[i][j] = min(dp[i-1][j] + ord(s1[i-1]), dp[i][j-1] + ord(s2[j-1]))\n",
    "\n",
    "    return dp[m][n]\n",
    "\n",
    "#Example:-\n",
    "s1 = \"sea\"\n",
    "s2 = \"eat\"\n",
    "result = minimumDeleteSum(s1, s2)\n",
    "print(result)"
   ]
  },
  {
   "cell_type": "markdown",
   "id": "3929b311-e79d-47fe-8e5b-122e1bbe9240",
   "metadata": {},
   "source": [
    "Q2. Ans:-"
   ]
  },
  {
   "cell_type": "code",
   "execution_count": 4,
   "id": "63ad0849-d8ac-4c96-bb8d-54e3509c4dc7",
   "metadata": {},
   "outputs": [
    {
     "name": "stdout",
     "output_type": "stream",
     "text": [
      "True\n"
     ]
    }
   ],
   "source": [
    "def is_valid(s):\n",
    "    left = 0\n",
    "    right = 0\n",
    "    for c in s:\n",
    "        if c == '(':\n",
    "            left += 1\n",
    "        elif c == ')':\n",
    "            right += 1\n",
    "        elif c == '*':\n",
    "            if left > 0:\n",
    "                left -= 1\n",
    "            elif right > 0:\n",
    "                right -= 1\n",
    "    return left == right\n",
    "\n",
    "s = \"()\"\n",
    "print(is_valid(s))"
   ]
  },
  {
   "cell_type": "markdown",
   "id": "dbb81476-352e-4e3c-be21-f88cb1f87b00",
   "metadata": {},
   "source": [
    "Q3. Ans:-"
   ]
  },
  {
   "cell_type": "code",
   "execution_count": 13,
   "id": "314d61e1-c7bb-4a3e-8e86-2679dbc92ee0",
   "metadata": {},
   "outputs": [
    {
     "name": "stdout",
     "output_type": "stream",
     "text": [
      "2\n"
     ]
    }
   ],
   "source": [
    "def min_steps(word1, word2):\n",
    "    n = len(word1) + 1\n",
    "    m = len(word2) + 1\n",
    "    dp = [[0 for j in range(m)] for i in range(n)]\n",
    "    for i in range(n):\n",
    "        for j in range(m):\n",
    "            if i == 0 or j == 0:\n",
    "                \n",
    "                dp[i][j] = i + j\n",
    "            elif word1[i - 1] == word2[j - 1]:\n",
    "                dp[i][j] = dp[i - 1][j - 1]\n",
    "            else:\n",
    "                dp[i][j] = min(dp[i - 1][j] + 1, dp[i][j - 1] + 1)\n",
    "    return dp[n - 1][m - 1]\n",
    "#example-  \n",
    "word1 = \"sea\"\n",
    "word2 = \"eat\"\n",
    "print(min_steps(word1, word2))"
   ]
  },
  {
   "cell_type": "markdown",
   "id": "75243aa4-5244-462f-9dae-e917a065c3bd",
   "metadata": {},
   "source": [
    "Q4. Ans-"
   ]
  },
  {
   "cell_type": "code",
   "execution_count": 17,
   "id": "1005c66b-06be-45c6-880e-60e30b767b07",
   "metadata": {},
   "outputs": [
    {
     "name": "stdout",
     "output_type": "stream",
     "text": [
      "4 2 3 1 6 5 "
     ]
    }
   ],
   "source": [
    "class TreeNode:\n",
    "    def __init__(self, val=0, left=None, right=None):\n",
    "        self.val = val\n",
    "        self.left = left\n",
    "        self.right = right\n",
    "\n",
    "def str2tree(s):\n",
    "    if not s:\n",
    "        return None\n",
    "\n",
    "    opening = s.find('(')\n",
    "    if opening == -1:\n",
    "        return TreeNode(int(s))\n",
    "\n",
    "    root = TreeNode(int(s[:opening]))\n",
    "    closing = find_matching_parenthesis(s, opening)\n",
    "\n",
    "    root.left = str2tree(s[opening+1:closing])\n",
    "    root.right = str2tree(s[closing+2:-1])\n",
    "\n",
    "    return root\n",
    "\n",
    "def find_matching_parenthesis(s, opening):\n",
    "    count = 0\n",
    "    for i in range(opening, len(s)):\n",
    "        if s[i] == '(':\n",
    "            count += 1\n",
    "        elif s[i] == ')':\n",
    "            count -= 1\n",
    "            if count == 0:\n",
    "                return i\n",
    "    return -1\n",
    "#Example-\n",
    "s = \"4(2(3)(1))(6(5))\"\n",
    "tree = str2tree(s)\n",
    "\n",
    "# Function to print the tree in preorder traversal\n",
    "def print_preorder(root):\n",
    "    if root:\n",
    "        print(root.val, end=' ')\n",
    "        print_preorder(root.left)\n",
    "        print_preorder(root.right)\n",
    "\n",
    "print_preorder(tree)"
   ]
  },
  {
   "cell_type": "markdown",
   "id": "5931057a-e0b6-4f34-84c6-40a1a38e33a6",
   "metadata": {},
   "source": [
    "Q5. Ans:-"
   ]
  },
  {
   "cell_type": "code",
   "execution_count": 18,
   "id": "60797f3f-acf1-4012-8630-b4a81f25d10c",
   "metadata": {},
   "outputs": [
    {
     "name": "stdout",
     "output_type": "stream",
     "text": [
      "6\n",
      "['a', '2', 'b', '2', 'c', '3']\n"
     ]
    }
   ],
   "source": [
    "def compress(chars):\n",
    "    read = write = 0\n",
    "    count = 1\n",
    "\n",
    "    for i in range(1, len(chars) + 1):\n",
    "        if i < len(chars) and chars[i] == chars[i - 1]:\n",
    "            count += 1\n",
    "        else:\n",
    "            chars[write] = chars[read]\n",
    "            write += 1\n",
    "            if count > 1:\n",
    "                count_str = str(count)\n",
    "                chars[write:write + len(count_str)] = count_str\n",
    "                write += len(count_str)\n",
    "                count = 1\n",
    "            read = i\n",
    "\n",
    "    return write\n",
    "#Example-\n",
    "chars = [\"a\", \"a\", \"b\", \"b\", \"c\", \"c\", \"c\"]\n",
    "length = compress(chars)\n",
    "compressed_chars = chars[:length]\n",
    "\n",
    "print(length)\n",
    "print(compressed_chars)"
   ]
  },
  {
   "cell_type": "markdown",
   "id": "ca36af27-0837-4e64-ae67-7bc2558abda6",
   "metadata": {},
   "source": [
    "Q6. Ans:-"
   ]
  },
  {
   "cell_type": "code",
   "execution_count": 20,
   "id": "4425ca11-c460-4903-9b2c-a8ee0a502388",
   "metadata": {},
   "outputs": [
    {
     "name": "stdout",
     "output_type": "stream",
     "text": [
      "[0, 6]\n"
     ]
    }
   ],
   "source": [
    "from collections import Counter\n",
    "\n",
    "def findAnagrams(s, p):\n",
    "    result = []\n",
    "    p_freq = Counter(p)\n",
    "    left = right = 0\n",
    "    count = len(p)\n",
    "\n",
    "    while right < len(s):\n",
    "        if p_freq[s[right]] > 0:\n",
    "            count -= 1\n",
    "        p_freq[s[right]] -= 1\n",
    "        right += 1\n",
    "\n",
    "        if count == 0:\n",
    "            result.append(left)\n",
    "\n",
    "        if right - left == len(p):\n",
    "            if p_freq[s[left]] >= 0:\n",
    "                count += 1\n",
    "            p_freq[s[left]] += 1\n",
    "            left += 1\n",
    "\n",
    "    return result\n",
    "#example-\n",
    "s = \"cbaebabacd\"\n",
    "p = \"abc\"\n",
    "result = findAnagrams(s, p)\n",
    "print(result)"
   ]
  },
  {
   "cell_type": "markdown",
   "id": "80372987-4189-4638-b8e2-1f3d773495b0",
   "metadata": {},
   "source": [
    "Q7. Ans:-"
   ]
  },
  {
   "cell_type": "code",
   "execution_count": 1,
   "id": "f4a9d4c9-0e77-4bbc-a80d-064e258d874d",
   "metadata": {},
   "outputs": [
    {
     "name": "stdout",
     "output_type": "stream",
     "text": [
      "aaabcbc\n"
     ]
    }
   ],
   "source": [
    "def decodeString(s):\n",
    "    stack = []\n",
    "    curr_str = ''\n",
    "    repeat_count = 0\n",
    "\n",
    "    for char in s:\n",
    "        if char.isalpha():\n",
    "            curr_str += char\n",
    "        elif char.isdigit():\n",
    "            repeat_count = repeat_count * 10 + int(char)\n",
    "        elif char == '[':\n",
    "            stack.append((curr_str, repeat_count))\n",
    "            curr_str = ''\n",
    "            repeat_count = 0\n",
    "        elif char == ']':\n",
    "            prev_str, prev_repeat = stack.pop()\n",
    "            curr_str = prev_str + curr_str * prev_repeat\n",
    "\n",
    "    return curr_str\n",
    "#example-\n",
    "s = \"3[a]2[bc]\"\n",
    "result = decodeString(s)\n",
    "print(result)  # Output: \"aaabcbc\""
   ]
  },
  {
   "cell_type": "markdown",
   "id": "2fea4bc2-b1a0-4c90-8b1a-65e0ffe20b04",
   "metadata": {},
   "source": [
    "Q8. Ans:-"
   ]
  },
  {
   "cell_type": "code",
   "execution_count": 2,
   "id": "0e05939e-1487-43bb-88fc-664653958920",
   "metadata": {},
   "outputs": [
    {
     "name": "stdout",
     "output_type": "stream",
     "text": [
      "True\n"
     ]
    }
   ],
   "source": [
    "def buddyStrings(s, goal):\n",
    "    if len(s) != len(goal):\n",
    "        return False\n",
    "\n",
    "    mismatch_count = 0\n",
    "    mismatch_indices = []\n",
    "\n",
    "    for i in range(len(s)):\n",
    "        if s[i] != goal[i]:\n",
    "            mismatch_count += 1\n",
    "            mismatch_indices.append(i)\n",
    "\n",
    "        if mismatch_count > 2:\n",
    "            return False\n",
    "\n",
    "    if mismatch_count == 0:\n",
    "        # Check if s has any repeated characters\n",
    "        return len(set(s)) < len(s)\n",
    "    elif mismatch_count == 2:\n",
    "        i, j = mismatch_indices\n",
    "        return s[i] == goal[j] and s[j] == goal[i]\n",
    "    else:\n",
    "        return False\n",
    "#Example\n",
    "s = \"ab\"\n",
    "goal = \"ba\"\n",
    "result = buddyStrings(s, goal)\n",
    "print(result)"
   ]
  },
  {
   "cell_type": "code",
   "execution_count": null,
   "id": "edda39d9-3790-4c97-a648-3e4335205bbe",
   "metadata": {},
   "outputs": [],
   "source": []
  }
 ],
 "metadata": {
  "kernelspec": {
   "display_name": "Python 3 (ipykernel)",
   "language": "python",
   "name": "python3"
  },
  "language_info": {
   "codemirror_mode": {
    "name": "ipython",
    "version": 3
   },
   "file_extension": ".py",
   "mimetype": "text/x-python",
   "name": "python",
   "nbconvert_exporter": "python",
   "pygments_lexer": "ipython3",
   "version": "3.10.8"
  }
 },
 "nbformat": 4,
 "nbformat_minor": 5
}

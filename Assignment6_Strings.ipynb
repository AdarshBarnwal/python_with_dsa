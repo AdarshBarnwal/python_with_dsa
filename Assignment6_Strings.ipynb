{
 "cells": [
  {
   "cell_type": "markdown",
   "id": "22a87d90-0c01-4cbd-b107-59e147efa048",
   "metadata": {},
   "source": [
    "                                            Assignment 6 - Strings"
   ]
  },
  {
   "cell_type": "markdown",
   "id": "0c0cd969-c7f8-4f0d-8bb9-3a1986b60385",
   "metadata": {},
   "source": [
    "Q1.Ans"
   ]
  },
  {
   "cell_type": "code",
   "execution_count": 1,
   "id": "f4750c75-1756-4409-8108-b3c55bb7bbc8",
   "metadata": {},
   "outputs": [
    {
     "name": "stdout",
     "output_type": "stream",
     "text": [
      "[0, 4, 1, 3, 2]\n"
     ]
    }
   ],
   "source": [
    "def reconstruct_permutation(s):\n",
    "    n = len(s)\n",
    "    perm = [0] * (n + 1)\n",
    "    low, high = 0, n\n",
    "\n",
    "    for i, c in enumerate(s):\n",
    "        if c == 'I':\n",
    "            perm[i] = low\n",
    "            low += 1\n",
    "        elif c == 'D':\n",
    "            perm[i] = high\n",
    "            high -= 1\n",
    "\n",
    "    perm[n] = low  # or perm[n] = high\n",
    "\n",
    "    return perm\n",
    "\n",
    "#Example\n",
    "\n",
    "s = \"IDID\"\n",
    "\n",
    "result = reconstruct_permutation(s)\n",
    "\n",
    "print(result)"
   ]
  },
  {
   "cell_type": "code",
   "execution_count": null,
   "id": "ecd0f078-ec98-446f-b020-edf597a5d74b",
   "metadata": {},
   "outputs": [],
   "source": []
  },
  {
   "cell_type": "markdown",
   "id": "d0c17ef3-1c36-4f0b-9194-79c7eec78c8d",
   "metadata": {},
   "source": [
    "Q2.Ans"
   ]
  },
  {
   "cell_type": "code",
   "execution_count": 2,
   "id": "40435c90-c8cd-401a-ac03-79791ee3d221",
   "metadata": {},
   "outputs": [
    {
     "name": "stdout",
     "output_type": "stream",
     "text": [
      "True\n"
     ]
    }
   ],
   "source": [
    "def searchMatrix(matrix, target):\n",
    "    m = len(matrix)\n",
    "    n = len(matrix[0])\n",
    "    low, high = 0, m * n - 1\n",
    "\n",
    "    while low <= high:\n",
    "        mid = (low + high) // 2\n",
    "        row = mid // n\n",
    "        col = mid % n\n",
    "        element = matrix[row][col]\n",
    "\n",
    "        if element == target:\n",
    "            return True\n",
    "        elif element < target:\n",
    "            low = mid + 1\n",
    "        else:\n",
    "            high = mid - 1\n",
    "\n",
    "    return False\n",
    "\n",
    "#Example\n",
    "matrix = [[1,3,5,7],[10,11,16,20],[23,30,34,60]]\n",
    "target = 3\n",
    "\n",
    "result = searchMatrix(matrix , target)\n",
    "print(result)"
   ]
  },
  {
   "cell_type": "code",
   "execution_count": null,
   "id": "10eb4149-1af1-4c71-bc42-1733f8373bda",
   "metadata": {},
   "outputs": [],
   "source": []
  },
  {
   "cell_type": "markdown",
   "id": "73322605-00db-4caa-b5bd-d5355850408b",
   "metadata": {},
   "source": [
    "Q3.Ans"
   ]
  },
  {
   "cell_type": "code",
   "execution_count": 3,
   "id": "8f858ce9-3d6b-4c3e-a143-d640bc923fe1",
   "metadata": {},
   "outputs": [
    {
     "name": "stdout",
     "output_type": "stream",
     "text": [
      "False\n"
     ]
    }
   ],
   "source": [
    "def validMountainArray(arr):\n",
    "    n = len(arr)\n",
    "    if n < 3:\n",
    "        return False\n",
    "\n",
    "    left, right = 0, n - 1\n",
    "\n",
    "    while left < right and arr[left] < arr[left + 1]:\n",
    "        left += 1\n",
    "\n",
    "    while left < right and arr[right] < arr[right - 1]:\n",
    "        right -= 1\n",
    "\n",
    "    return left == right and left != 0 and right != n - 1\n",
    "\n",
    "\n",
    "#Example\n",
    "arr = [2,1]\n",
    "result = validMountainArray(arr)\n",
    "print(result)"
   ]
  },
  {
   "cell_type": "code",
   "execution_count": null,
   "id": "c3a8a634-4fe4-4347-ad36-3d8bcf83cd4f",
   "metadata": {},
   "outputs": [],
   "source": []
  },
  {
   "cell_type": "markdown",
   "id": "8d6d617d-c9b7-4124-b0e1-9711b3b84ea3",
   "metadata": {},
   "source": [
    "Q4.Ans"
   ]
  },
  {
   "cell_type": "code",
   "execution_count": 4,
   "id": "7e378e57-b814-4793-8417-b20130cf8b5a",
   "metadata": {},
   "outputs": [
    {
     "name": "stdout",
     "output_type": "stream",
     "text": [
      "2\n"
     ]
    }
   ],
   "source": [
    "def findMaxLength(nums):\n",
    "    max_length = 0\n",
    "    count = 0\n",
    "    count_map = {0: -1}\n",
    "\n",
    "    for i in range(len(nums)):\n",
    "        if nums[i] == 1:\n",
    "            count += 1\n",
    "        else:\n",
    "            count -= 1\n",
    "\n",
    "        if count in count_map:\n",
    "            max_length = max(max_length, i - count_map[count])\n",
    "        else:\n",
    "            count_map[count] = i\n",
    "\n",
    "    return max_length\n",
    "\n",
    "#Example\n",
    "nums = [0,1]\n",
    "result = findMaxLength(nums)\n",
    "print(result)"
   ]
  },
  {
   "cell_type": "code",
   "execution_count": null,
   "id": "3d9e6c1c-507c-4da2-894a-e42d5ab8e14d",
   "metadata": {},
   "outputs": [],
   "source": []
  },
  {
   "cell_type": "markdown",
   "id": "4a925fa5-a87a-4be1-8687-fcacb41a9cd7",
   "metadata": {},
   "source": [
    "Q5.Ans"
   ]
  },
  {
   "cell_type": "code",
   "execution_count": 5,
   "id": "48bcb291-1784-443c-88bb-4f64c9de97d5",
   "metadata": {},
   "outputs": [
    {
     "name": "stdout",
     "output_type": "stream",
     "text": [
      "40\n"
     ]
    }
   ],
   "source": [
    "def minProductSum(nums1, nums2):\n",
    "    nums1.sort()\n",
    "    nums2.sort(reverse=True)\n",
    "    min_product_sum = 0\n",
    "\n",
    "    for i in range(len(nums1)):\n",
    "        min_product_sum += nums1[i] * nums2[i]\n",
    "\n",
    "    return min_product_sum\n",
    "\n",
    "\n",
    "#Example\n",
    "\n",
    "nums1 = [5,3,4,2]\n",
    "nums2 = [4,2,2,5]\n",
    "\n",
    "result = minProductSum(nums1 , nums2)\n",
    "print(result)"
   ]
  },
  {
   "cell_type": "code",
   "execution_count": null,
   "id": "9ef745ca-524b-4ef7-bb3f-073f902c089e",
   "metadata": {},
   "outputs": [],
   "source": []
  },
  {
   "cell_type": "markdown",
   "id": "d23c5d87-dd6e-4eaa-9b80-ef4bf7b850f3",
   "metadata": {},
   "source": [
    "Q6.Ans"
   ]
  },
  {
   "cell_type": "code",
   "execution_count": 20,
   "id": "647d1712-f401-4308-8bf5-f0b38cb74d47",
   "metadata": {},
   "outputs": [
    {
     "name": "stdout",
     "output_type": "stream",
     "text": [
      "[]\n"
     ]
    }
   ],
   "source": [
    "from collections import defaultdict\n",
    "\n",
    "def findOriginalArray(changed):\n",
    "    countMap = defaultdict(int)\n",
    "    for num in changed:\n",
    "        countMap[num] += 1\n",
    "\n",
    "    original = []\n",
    "    for num in changed:\n",
    "        if countMap[num] == 0:\n",
    "            continue\n",
    "\n",
    "        if countMap[num] > 0 and countMap[num/2] > 0:\n",
    "            original.append(num/2)\n",
    "            countMap[num] -= 1\n",
    "            countMap[num/2] -= 1\n",
    "        else:\n",
    "            return []\n",
    "\n",
    "    return original\n",
    "\n",
    "\n",
    "#Example\n",
    "\n",
    "changed = [1,3,4,2,6,8]\n",
    "result = findOriginalArray(changed)\n",
    "print(result)"
   ]
  },
  {
   "cell_type": "code",
   "execution_count": null,
   "id": "0603f48c-0cea-4fb7-b540-574b66c445c3",
   "metadata": {},
   "outputs": [],
   "source": []
  },
  {
   "cell_type": "markdown",
   "id": "42f1e520-c526-4127-992a-87a9d60a6483",
   "metadata": {},
   "source": [
    "Q7.Ans"
   ]
  },
  {
   "cell_type": "code",
   "execution_count": 17,
   "id": "3ad960ce-fee9-4644-8bf4-3ec9f079d365",
   "metadata": {},
   "outputs": [
    {
     "data": {
      "text/plain": [
       "[[1, 2, 3], [8, 9, 4], [7, 6, 5]]"
      ]
     },
     "execution_count": 17,
     "metadata": {},
     "output_type": "execute_result"
    }
   ],
   "source": [
    "\n",
    "class Solution:\n",
    "    def generateMatrix(self, n):\n",
    "        \"\"\"\n",
    "        :type n: int\n",
    "        :rtype: List[List[int]]\n",
    "        \"\"\"\n",
    "        def dirToIndex(x, y, d):\n",
    "            if d == \"r\": return (x, y + 1, d) if y + 1 < n and matrix[x][y + 1] == 0 else (x + 1, y, \"d\")\n",
    "            elif d == \"d\": return (x + 1, y, d) if x + 1 < n and matrix[x + 1][y] == 0 else (x, y - 1, \"l\")\n",
    "            elif d == \"l\": return (x, y - 1, d) if y > 0 and matrix[x][y - 1] == 0 else (x - 1, y, \"u\")\n",
    "            else: return (x - 1, y, d) if x > 0 and matrix[x - 1][y] == 0 else (x, y +1, \"r\")\n",
    "        matrix = [[0 for i in range(1, n + 1)] for j in range(n)]\n",
    "        num, dir, i, j = 1, \"r\", 0, 0\n",
    "        while 0 <= i < n and 0 <= j < n and matrix[i][j] == 0:\n",
    "            matrix[i][j] = num\n",
    "            num += 1\n",
    "            i, j, dir = dirToIndex(i, j, dir)\n",
    "        return matrix   \n",
    "\n",
    "#Example\n",
    "n=3\n",
    "obj=Solution()\n",
    "obj.generateMatrix(n)"
   ]
  },
  {
   "cell_type": "code",
   "execution_count": null,
   "id": "2608ef3a-38e5-497e-bdd3-fda06c2e19ea",
   "metadata": {},
   "outputs": [],
   "source": []
  },
  {
   "cell_type": "markdown",
   "id": "88a5cb3f-5673-433e-b8f9-aa11f5f9329a",
   "metadata": {},
   "source": [
    "Q8.Ans"
   ]
  },
  {
   "cell_type": "code",
   "execution_count": 21,
   "id": "2770b0f3-8353-4e30-aa0a-d5da64af8c89",
   "metadata": {},
   "outputs": [
    {
     "name": "stdout",
     "output_type": "stream",
     "text": [
      "[[7, 0, 0], [-7, 0, 3]]\n"
     ]
    }
   ],
   "source": [
    "def multiply(mat1, mat2):\n",
    "    m, k, n = len(mat1), len(mat1[0]), len(mat2[0])\n",
    "    mat2_transpose = [[mat2[j][i] for j in range(k)] for i in range(n)]\n",
    "    result = [[0] * n for _ in range(m)]\n",
    "\n",
    "    for i in range(m):\n",
    "        for j in range(n):\n",
    "            for p in range(k):\n",
    "                if mat1[i][p] != 0 and mat2_transpose[j][p] != 0:\n",
    "                    result[i][j] += mat1[i][p] * mat2_transpose[j][p]\n",
    "\n",
    "    return result\n",
    "\n",
    "#Example\n",
    "mat1 = [[1,0,0],[-1,0,3]]\n",
    "mat2 = [[7,0,0],[0,0,0],[0,0,1]]\n",
    "\n",
    "output=multiply(mat1 , mat2)\n",
    "print(output)"
   ]
  },
  {
   "cell_type": "code",
   "execution_count": null,
   "id": "7a552fd6-43b9-4093-94f6-1e6b97692fa9",
   "metadata": {},
   "outputs": [],
   "source": []
  }
 ],
 "metadata": {
  "kernelspec": {
   "display_name": "Python 3 (ipykernel)",
   "language": "python",
   "name": "python3"
  },
  "language_info": {
   "codemirror_mode": {
    "name": "ipython",
    "version": 3
   },
   "file_extension": ".py",
   "mimetype": "text/x-python",
   "name": "python",
   "nbconvert_exporter": "python",
   "pygments_lexer": "ipython3",
   "version": "3.10.8"
  }
 },
 "nbformat": 4,
 "nbformat_minor": 5
}

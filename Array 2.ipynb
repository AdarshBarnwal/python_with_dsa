{
 "cells": [
  {
   "cell_type": "markdown",
   "id": "ffa6ad77-d0ad-4ee5-b8bb-2e40c1ccc19e",
   "metadata": {},
   "source": [
    "Q1.Ans"
   ]
  },
  {
   "cell_type": "code",
   "execution_count": 1,
   "id": "d0866174-4847-4717-9fbb-c51d6153ff51",
   "metadata": {},
   "outputs": [
    {
     "name": "stdout",
     "output_type": "stream",
     "text": [
      "4\n"
     ]
    }
   ],
   "source": [
    "def array_pair_sum(nums):\n",
    "    nums.sort() \n",
    "    max_sum = 0\n",
    "    for i in range(0, len(nums), 2):\n",
    "        max_sum += min(nums[i], nums[i+1])\n",
    "    return max_sum\n",
    "#Example \n",
    "nums = [1, 4, 3, 2]\n",
    "print(array_pair_sum(nums))\n"
   ]
  },
  {
   "cell_type": "code",
   "execution_count": null,
   "id": "a17c135a-b7bc-4d55-a8ae-f678593942e7",
   "metadata": {},
   "outputs": [],
   "source": []
  },
  {
   "cell_type": "markdown",
   "id": "e5917340-46c5-4c04-a500-18de1def179d",
   "metadata": {},
   "source": [
    "Q2. Ans"
   ]
  },
  {
   "cell_type": "code",
   "execution_count": 2,
   "id": "3e9e397c-8a28-4291-9ed6-d16ecaa82e8a",
   "metadata": {},
   "outputs": [
    {
     "name": "stdout",
     "output_type": "stream",
     "text": [
      "3\n"
     ]
    }
   ],
   "source": [
    "def max_candies(candyType):\n",
    "    unique_candies = set()\n",
    "    for candy in candyType:\n",
    "        unique_candies.add(candy)\n",
    "    max_eaten = len(candyType) // 2\n",
    "    return min(len(unique_candies), max_eaten)\n",
    "candyType = [1, 1, 2, 2, 3, 3]\n",
    "print(max_candies(candyType))\n"
   ]
  },
  {
   "cell_type": "code",
   "execution_count": null,
   "id": "05809476-c104-4bf5-86e1-ee45415275a5",
   "metadata": {},
   "outputs": [],
   "source": []
  },
  {
   "cell_type": "markdown",
   "id": "1890e1ce-4e29-4392-bbfb-fb0f18a340f4",
   "metadata": {},
   "source": [
    "Q3. Ans"
   ]
  },
  {
   "cell_type": "code",
   "execution_count": 3,
   "id": "85f9ba70-2f5b-4376-8712-03dd2e86f4c2",
   "metadata": {},
   "outputs": [
    {
     "name": "stdout",
     "output_type": "stream",
     "text": [
      "5\n"
     ]
    }
   ],
   "source": [
    "def findLHS(nums):\n",
    "    num_freq = {}\n",
    "    for num in nums:\n",
    "        num_freq[num] = num_freq.get(num, 0) + 1\n",
    "    max_length = 0\n",
    "    for num in num_freq:\n",
    "        if num + 1 in num_freq:\n",
    "            length = num_freq[num] + num_freq[num + 1]\n",
    "            max_length = max(max_length, length)\n",
    "    return max_length\n",
    "nums = [1, 3, 2, 2, 5, 2, 3, 7]\n",
    "print(findLHS(nums))\n"
   ]
  },
  {
   "cell_type": "code",
   "execution_count": null,
   "id": "4cae3d54-66e4-477f-8497-7a048450800c",
   "metadata": {},
   "outputs": [],
   "source": []
  },
  {
   "cell_type": "markdown",
   "id": "6b7266cf-098f-4eca-b10f-04ce5fd87846",
   "metadata": {},
   "source": [
    "Q4.Ans"
   ]
  },
  {
   "cell_type": "code",
   "execution_count": 4,
   "id": "2cdcba24-ed42-4a21-ae6e-a26f23a84774",
   "metadata": {},
   "outputs": [
    {
     "name": "stdout",
     "output_type": "stream",
     "text": [
      "True\n"
     ]
    }
   ],
   "source": [
    "def canPlaceFlowers(flowerbed, n):\n",
    "    count = 0\n",
    "    length = len(flowerbed)\n",
    "    for i in range(length):\n",
    "        if (\n",
    "            flowerbed[i] == 0 and\n",
    "            (i == 0 or flowerbed[i-1] == 0) and\n",
    "            (i == length-1 or flowerbed[i+1] == 0)\n",
    "        ):\n",
    "            count += 1\n",
    "            flowerbed[i] = 1\n",
    "            if count >= n:\n",
    "                return True\n",
    "    return False\n",
    "flowerbed = [1, 0, 0, 0, 1]\n",
    "n = 1\n",
    "print(canPlaceFlowers(flowerbed, n))"
   ]
  },
  {
   "cell_type": "code",
   "execution_count": null,
   "id": "e2bb485c-aed0-42c5-afc5-f7cbee19f773",
   "metadata": {},
   "outputs": [],
   "source": []
  },
  {
   "cell_type": "markdown",
   "id": "9a502acd-c3a0-4870-9547-5e12a4605f5f",
   "metadata": {},
   "source": [
    "Q5.Ans"
   ]
  },
  {
   "cell_type": "code",
   "execution_count": 2,
   "id": "75a50f62-39cf-41d7-89d7-ad0f0d97283b",
   "metadata": {},
   "outputs": [
    {
     "name": "stdout",
     "output_type": "stream",
     "text": [
      "6\n"
     ]
    }
   ],
   "source": [
    "def maximumProduct(nums):\n",
    "    nums.sort()  # Sort the array in ascending order\n",
    "    n = len(nums)\n",
    "    # Compare the product of the last three numbers and the product of the first two numbers and the last number\n",
    "    return max(nums[n-1] * nums[n-2] * nums[n-3], nums[0] * nums[1] * nums[n-1])\n",
    "\n",
    "# Example\n",
    "nums = [1, 2, 3]\n",
    "max_product = maximumProduct(nums)\n",
    "print(max_product)"
   ]
  },
  {
   "cell_type": "code",
   "execution_count": null,
   "id": "82b666a3-7d34-4041-ab3b-dd9814058866",
   "metadata": {},
   "outputs": [],
   "source": []
  },
  {
   "cell_type": "markdown",
   "id": "076b54e9-a617-4180-8528-b643c14d2c1b",
   "metadata": {},
   "source": [
    "Q6. Ans"
   ]
  },
  {
   "cell_type": "code",
   "execution_count": 3,
   "id": "43ea188f-5d66-4600-aaba-89b676a9c93b",
   "metadata": {},
   "outputs": [
    {
     "name": "stdout",
     "output_type": "stream",
     "text": [
      "4\n"
     ]
    }
   ],
   "source": [
    "def search(nums, target):\n",
    "    left = 0\n",
    "    right = len(nums) - 1\n",
    "\n",
    "    while left <= right:\n",
    "        mid = left + (right - left) // 2\n",
    "\n",
    "        if nums[mid] == target:\n",
    "            return mid\n",
    "        elif nums[mid] < target:\n",
    "            left = mid + 1\n",
    "        else:\n",
    "            right = mid - 1\n",
    "\n",
    "    return -1\n",
    "\n",
    "# Example\n",
    "nums = [-1, 0, 3, 5, 9, 12]\n",
    "target = 9\n",
    "result = search(nums, target)\n",
    "print(result)\n"
   ]
  },
  {
   "cell_type": "code",
   "execution_count": null,
   "id": "05ce9490-f819-418a-8177-fe21c7182dc7",
   "metadata": {},
   "outputs": [],
   "source": []
  },
  {
   "cell_type": "markdown",
   "id": "a0f7be6e-4684-4e6b-94e4-6e00ee3064c1",
   "metadata": {},
   "source": [
    "Q7. Ans:-"
   ]
  },
  {
   "cell_type": "code",
   "execution_count": 4,
   "id": "13835354-fccf-481f-8b0a-f1ea453efbfd",
   "metadata": {},
   "outputs": [
    {
     "name": "stdout",
     "output_type": "stream",
     "text": [
      "True\n"
     ]
    }
   ],
   "source": [
    "def Monotonic(nums):\n",
    "    increasing = decreasing = True\n",
    "\n",
    "    for i in range(len(nums) - 1):\n",
    "        if nums[i] > nums[i + 1]:\n",
    "            increasing = False\n",
    "        if nums[i] < nums[i + 1]:\n",
    "            decreasing = False\n",
    "\n",
    "    return increasing or decreasing\n",
    "\n",
    "# Example usage\n",
    "nums = [1, 2, 2, 3]\n",
    "Monotonic = Monotonic(nums)\n",
    "print(Monotonic)\n"
   ]
  },
  {
   "cell_type": "code",
   "execution_count": null,
   "id": "79f30160-5ab9-434d-b0e2-06cf6ee2b5f0",
   "metadata": {},
   "outputs": [],
   "source": []
  },
  {
   "cell_type": "markdown",
   "id": "860bd8be-b937-4fdd-b4ee-cca8dac43658",
   "metadata": {},
   "source": [
    "Q8. Ans"
   ]
  },
  {
   "cell_type": "code",
   "execution_count": 5,
   "id": "8668e55b-e774-4d9a-8efd-557a9a94c7ac",
   "metadata": {},
   "outputs": [
    {
     "name": "stdout",
     "output_type": "stream",
     "text": [
      "0\n"
     ]
    }
   ],
   "source": [
    "def minScore(nums, k):\n",
    "    min_val = float('inf')\n",
    "    max_val = float('-inf')\n",
    "\n",
    "    for num in nums:\n",
    "        min_val = min(min_val, num)\n",
    "        max_val = max(max_val, num)\n",
    "\n",
    "    return max(0, max_val - min_val - 2 * k)\n",
    "\n",
    "# Example\n",
    "nums = [1]\n",
    "k = 0\n",
    "minscore = minScore(nums, k)\n",
    "print(minscore)\n"
   ]
  },
  {
   "cell_type": "code",
   "execution_count": null,
   "id": "f3dbcba9-a015-490c-864b-11ff58e1b073",
   "metadata": {},
   "outputs": [],
   "source": []
  }
 ],
 "metadata": {
  "kernelspec": {
   "display_name": "Python 3 (ipykernel)",
   "language": "python",
   "name": "python3"
  },
  "language_info": {
   "codemirror_mode": {
    "name": "ipython",
    "version": 3
   },
   "file_extension": ".py",
   "mimetype": "text/x-python",
   "name": "python",
   "nbconvert_exporter": "python",
   "pygments_lexer": "ipython3",
   "version": "3.10.8"
  }
 },
 "nbformat": 4,
 "nbformat_minor": 5
}

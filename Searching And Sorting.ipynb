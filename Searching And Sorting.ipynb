{
 "cells": [
  {
   "cell_type": "markdown",
   "id": "eb7d87ae-a290-4286-bde5-69e0a5a9ec9f",
   "metadata": {},
   "source": [
    "### Q1."
   ]
  },
  {
   "cell_type": "code",
   "execution_count": 1,
   "id": "9ee07027-8529-4683-8029-f7b7eec69183",
   "metadata": {},
   "outputs": [
    {
     "name": "stdout",
     "output_type": "stream",
     "text": [
      "[1, 2]\n"
     ]
    }
   ],
   "source": [
    "def twoSum(numbers, target):\n",
    "    index1 = 0\n",
    "    index2 = len(numbers) - 1\n",
    "    \n",
    "    while index1 < index2:\n",
    "        total = numbers[index1] + numbers[index2]\n",
    "        if total == target:\n",
    "            return [index1+1, index2+1]\n",
    "        elif total < target:\n",
    "            index1 += 1\n",
    "        else:\n",
    "            index2 -= 1\n",
    "    \n",
    "    \n",
    "    return []\n",
    "\n",
    "# explain the function\n",
    "numbers = [2, 7, 11, 15]\n",
    "target = 9\n",
    "print(twoSum(numbers, target))"
   ]
  },
  {
   "cell_type": "code",
   "execution_count": null,
   "id": "ec3c6e46-b305-4423-9eb0-b22f25cdb191",
   "metadata": {},
   "outputs": [],
   "source": []
  },
  {
   "cell_type": "markdown",
   "id": "34f10db4-c227-4d10-9677-de426ee6d41c",
   "metadata": {},
   "source": [
    "### Q2."
   ]
  },
  {
   "cell_type": "code",
   "execution_count": 2,
   "id": "e1e8a7db-b30d-4972-8c56-23b4de0d869d",
   "metadata": {},
   "outputs": [
    {
     "name": "stdout",
     "output_type": "stream",
     "text": [
      "[3, 4]\n"
     ]
    }
   ],
   "source": [
    "def searchRange(nums, target):\n",
    "    def find_left(nums, target):\n",
    "        left = 0\n",
    "        right = len(nums) - 1\n",
    "        while left <= right:\n",
    "            mid = left + (right - left) // 2\n",
    "            if nums[mid] < target:\n",
    "                left = mid + 1\n",
    "            else:\n",
    "                right = mid - 1\n",
    "        return left\n",
    "\n",
    "    def find_right(nums, target):\n",
    "        left = 0\n",
    "        right = len(nums) - 1\n",
    "        while left <= right:\n",
    "            mid = left + (right - left) // 2\n",
    "            if nums[mid] <= target:\n",
    "                left = mid + 1\n",
    "            else:\n",
    "                right = mid - 1\n",
    "        return right\n",
    "\n",
    "    left_index = find_left(nums, target)\n",
    "    right_index = find_right(nums, target)\n",
    "\n",
    "    if left_index <= right_index:\n",
    "        return [left_index, right_index]\n",
    "    else:\n",
    "        return [-1, -1]\n",
    "\n",
    "# Explain the function\n",
    "nums = [5, 7, 7, 8, 8, 10]\n",
    "target = 8\n",
    "print(searchRange(nums, target))"
   ]
  },
  {
   "cell_type": "code",
   "execution_count": null,
   "id": "3da0d9ac-4151-4a4d-84d1-cb7c410bb732",
   "metadata": {},
   "outputs": [],
   "source": []
  },
  {
   "cell_type": "markdown",
   "id": "9f718830-3328-4105-98fe-51a5d02b762a",
   "metadata": {},
   "source": [
    "### Q3."
   ]
  },
  {
   "cell_type": "code",
   "execution_count": 3,
   "id": "90a641b3-d2bd-4f3d-9a2d-4abefb1c3ecd",
   "metadata": {},
   "outputs": [
    {
     "name": "stdout",
     "output_type": "stream",
     "text": [
      "2\n"
     ]
    }
   ],
   "source": [
    "def findPeakElement(nums):\n",
    "    left, right = 0, len(nums) - 1\n",
    "    \n",
    "    while left < right:\n",
    "        mid = left + (right - left) // 2\n",
    "        \n",
    "        if nums[mid] < nums[mid + 1]:\n",
    "            left = mid + 1\n",
    "        else:\n",
    "            right = mid\n",
    "    \n",
    "    return left\n",
    "\n",
    "# Explain the function\n",
    "nums = [1, 2, 3, 1]\n",
    "print(findPeakElement(nums))"
   ]
  },
  {
   "cell_type": "code",
   "execution_count": null,
   "id": "61508ec2-8ac6-49e7-97e7-58fa8c9eceb6",
   "metadata": {},
   "outputs": [],
   "source": []
  },
  {
   "cell_type": "markdown",
   "id": "339b24d6-77c4-4c62-b9bc-5523dd4e556d",
   "metadata": {},
   "source": [
    "### Q4."
   ]
  },
  {
   "cell_type": "code",
   "execution_count": 5,
   "id": "e62efc01-bff8-4c68-8c15-2be1112c8ee5",
   "metadata": {},
   "outputs": [
    {
     "name": "stdout",
     "output_type": "stream",
     "text": [
      "2\n",
      "4\n"
     ]
    }
   ],
   "source": [
    "def searchInsert(nums, target):\n",
    "    left, right = 0, len(nums) - 1\n",
    "\n",
    "    while left <= right:\n",
    "        mid = left + (right - left) // 2\n",
    "\n",
    "        if nums[mid] == target:\n",
    "            return mid\n",
    "        elif nums[mid] < target:\n",
    "            left = mid + 1\n",
    "        else:\n",
    "            right = mid - 1\n",
    "\n",
    "    return left\n",
    "\n",
    "# Explain the function\n",
    "nums = [1, 3, 5, 6]\n",
    "target1 = 5\n",
    "target2 = 7\n",
    "print(searchInsert(nums, target1))\n",
    "print(searchInsert(nums, target2))"
   ]
  },
  {
   "cell_type": "code",
   "execution_count": null,
   "id": "c3188c1b-1141-4a00-99a5-cfd25e2083b8",
   "metadata": {},
   "outputs": [],
   "source": []
  },
  {
   "cell_type": "markdown",
   "id": "cc00d47f-4e3f-4e3b-b351-e8b5424449e3",
   "metadata": {},
   "source": [
    "### Q5."
   ]
  },
  {
   "cell_type": "code",
   "execution_count": 6,
   "id": "a2f76e58-6edb-40fd-855e-444a83af92bc",
   "metadata": {},
   "outputs": [
    {
     "name": "stdout",
     "output_type": "stream",
     "text": [
      "4\n"
     ]
    }
   ],
   "source": [
    "def majorityElement(nums):\n",
    "    count = 0\n",
    "    candidate = None\n",
    "\n",
    "    for num in nums:\n",
    "        if count == 0:\n",
    "            candidate = num\n",
    "\n",
    "        if num == candidate:\n",
    "            count += 1\n",
    "        else:\n",
    "            count -= 1\n",
    "\n",
    "    count = 0\n",
    "    for num in nums:\n",
    "        if num == candidate:\n",
    "            count += 1\n",
    "\n",
    "    if count > len(nums) // 2:\n",
    "        return candidate\n",
    "    else:\n",
    "        return None\n",
    "\n",
    "# Explain the function\n",
    "nums = [3, 3, 4, 2, 4, 4, 2, 4, 4]\n",
    "print(majorityElement(nums))"
   ]
  },
  {
   "cell_type": "code",
   "execution_count": null,
   "id": "eb0f1595-347d-4e87-b9f2-de919c8a8ea5",
   "metadata": {},
   "outputs": [],
   "source": []
  },
  {
   "cell_type": "markdown",
   "id": "95e85c72-0cec-4bc7-958e-e9dc5fb2ee10",
   "metadata": {},
   "source": [
    "### Q6."
   ]
  },
  {
   "cell_type": "code",
   "execution_count": 11,
   "id": "3486faf6-4d66-4d6b-b574-9402fa61d09f",
   "metadata": {},
   "outputs": [
    {
     "name": "stdout",
     "output_type": "stream",
     "text": [
      "4\n"
     ]
    }
   ],
   "source": [
    "def isBadVersion(version):\n",
    "    return version >= bad \n",
    "\n",
    "def firstBadVersion(n):\n",
    "    left = 1\n",
    "    right = n\n",
    "\n",
    "    while left < right:\n",
    "        mid = left + (right - left) // 2\n",
    "        if isBadVersion(mid):\n",
    "            right = mid\n",
    "        else:\n",
    "            left = mid + 1\n",
    "\n",
    "    return left\n",
    "\n",
    "# Explain the function\n",
    "n = 5\n",
    "bad = 4\n",
    "print(firstBadVersion(n))"
   ]
  },
  {
   "cell_type": "markdown",
   "id": "b1888998-1238-49c3-be60-ae8dc62607de",
   "metadata": {},
   "source": [
    "The output of the code is 4. This is because the fourth version is the first bad version in the range [1, 5]."
   ]
  },
  {
   "cell_type": "code",
   "execution_count": null,
   "id": "0cf758e8-678d-4dba-8cfb-225a6d7dd490",
   "metadata": {},
   "outputs": [],
   "source": []
  },
  {
   "cell_type": "markdown",
   "id": "e5bc8bd1-7809-439a-af75-ace2f4773a54",
   "metadata": {},
   "source": [
    "### Q7."
   ]
  },
  {
   "cell_type": "code",
   "execution_count": 12,
   "id": "826fd76a-1006-4f2d-9d58-04e2ec3647ea",
   "metadata": {},
   "outputs": [
    {
     "name": "stdout",
     "output_type": "stream",
     "text": [
      "3\n"
     ]
    }
   ],
   "source": [
    "def merge_and_count(arr, left, mid, right):\n",
    "    left_subarray = arr[left:mid + 1]\n",
    "    right_subarray = arr[mid + 1:right + 1]\n",
    "\n",
    "    i = j = 0\n",
    "    count = 0\n",
    "\n",
    "    for k in range(left, right + 1):\n",
    "        if i < len(left_subarray) and (j >= len(right_subarray) or left_subarray[i] <= right_subarray[j]):\n",
    "            arr[k] = left_subarray[i]\n",
    "            i += 1\n",
    "        else:\n",
    "            arr[k] = right_subarray[j]\n",
    "            j += 1\n",
    "            count += len(left_subarray) - i\n",
    "\n",
    "    return count\n",
    "\n",
    "def merge_sort_and_count(arr, left, right):\n",
    "    count = 0\n",
    "\n",
    "    if left < right:\n",
    "        mid = (left + right) // 2\n",
    "        count += merge_sort_and_count(arr, left, mid)\n",
    "        count += merge_sort_and_count(arr, mid + 1, right)\n",
    "        count += merge_and_count(arr, left, mid, right)\n",
    "\n",
    "    return count\n",
    "\n",
    "def inversion_count(arr):\n",
    "    return merge_sort_and_count(arr, 0, len(arr) - 1)\n",
    "\n",
    "# Explain the function\n",
    "arr = [2, 4, 1, 3, 5]\n",
    "print(inversion_count(arr))"
   ]
  },
  {
   "cell_type": "code",
   "execution_count": null,
   "id": "111ff28a-ab25-4fca-b967-c4f7964c8ef8",
   "metadata": {},
   "outputs": [],
   "source": []
  },
  {
   "cell_type": "markdown",
   "id": "8778b941-a15d-4ce4-ac09-9b6e6e5925c9",
   "metadata": {},
   "source": [
    "### Q8."
   ]
  },
  {
   "cell_type": "code",
   "execution_count": 13,
   "id": "90d48695-0ca8-4968-a645-34d106697163",
   "metadata": {},
   "outputs": [
    {
     "name": "stdout",
     "output_type": "stream",
     "text": [
      "[20, 80]\n"
     ]
    }
   ],
   "source": [
    "def find_common_elements(ar1, ar2, ar3):\n",
    "    i, j, k = 0, 0, 0\n",
    "    common_elements = []\n",
    "\n",
    "    while i < len(ar1) and j < len(ar2) and k < len(ar3):\n",
    "        if ar1[i] == ar2[j] == ar3[k]:\n",
    "            common_elements.append(ar1[i])\n",
    "            i += 1\n",
    "            j += 1\n",
    "            k += 1\n",
    "        elif ar1[i] <= ar2[j] and ar1[i] <= ar3[k]:\n",
    "            i += 1\n",
    "        elif ar2[j] <= ar1[i] and ar2[j] <= ar3[k]:\n",
    "            j += 1\n",
    "        else:\n",
    "            k += 1\n",
    "\n",
    "    return common_elements\n",
    "\n",
    "# Explain the function\n",
    "ar1 = [1, 5, 10, 20, 40, 80]\n",
    "ar2 = [6, 7, 20, 80, 100]\n",
    "ar3 = [3, 4, 15, 20, 30, 70, 80, 120]\n",
    "print(find_common_elements(ar1, ar2, ar3))"
   ]
  },
  {
   "cell_type": "code",
   "execution_count": null,
   "id": "a395ca73-5953-4f1c-aea4-13d196912ee2",
   "metadata": {},
   "outputs": [],
   "source": []
  }
 ],
 "metadata": {
  "kernelspec": {
   "display_name": "Python 3 (ipykernel)",
   "language": "python",
   "name": "python3"
  },
  "language_info": {
   "codemirror_mode": {
    "name": "ipython",
    "version": 3
   },
   "file_extension": ".py",
   "mimetype": "text/x-python",
   "name": "python",
   "nbconvert_exporter": "python",
   "pygments_lexer": "ipython3",
   "version": "3.10.8"
  }
 },
 "nbformat": 4,
 "nbformat_minor": 5
}

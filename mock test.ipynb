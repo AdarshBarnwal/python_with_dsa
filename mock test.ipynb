{
 "cells": [
  {
   "cell_type": "markdown",
   "id": "721bed05-4252-40f1-9b91-3bd498a18b04",
   "metadata": {},
   "source": [
    "Q1. Ans"
   ]
  },
  {
   "cell_type": "code",
   "execution_count": null,
   "id": "5f0bf2d1-43bf-4bac-811a-d6901f98dbc7",
   "metadata": {},
   "outputs": [],
   "source": [
    "Move zeroes \n",
    "given an integer array nums,move all 0's to the end of it while maintaining the relative order of the non-zero elements."
   ]
  },
  {
   "cell_type": "code",
   "execution_count": 14,
   "id": "77e4077c-b04a-4331-a0a9-44dc3a9d69b6",
   "metadata": {},
   "outputs": [
    {
     "name": "stdout",
     "output_type": "stream",
     "text": [
      "[1, 3, 12, 0, 0]\n",
      "[0]\n"
     ]
    }
   ],
   "source": [
    "def movezeroes(nums):\n",
    "    left = 0\n",
    "    right = 0\n",
    "    \n",
    "    while right < len(nums):\n",
    "        if nums[right] != 0:\n",
    "            nums[left],nums[right]=nums[right],nums[left]\n",
    "            left += 1\n",
    "        right += 1\n",
    "        \n",
    "#example\n",
    "\n",
    "nums = [0,1,0,3,12]\n",
    "result = movezeroes(nums)\n",
    "print(nums)\n",
    "\n",
    "nums1 = [0]\n",
    "moveZeroes(nums1)\n",
    "print(nums1)"
   ]
  },
  {
   "cell_type": "code",
   "execution_count": null,
   "id": "4ad15f67-0402-41c9-8898-49aba3fbdc63",
   "metadata": {},
   "outputs": [],
   "source": []
  },
  {
   "cell_type": "markdown",
   "id": "18eba829-fade-4688-aed0-03e6e3622359",
   "metadata": {},
   "source": [
    "Q2.Ans"
   ]
  },
  {
   "cell_type": "code",
   "execution_count": null,
   "id": "d8dd737a-f1f6-49f2-9b79-8a37aace8f38",
   "metadata": {},
   "outputs": [],
   "source": [
    "First unique character in astring\n",
    "\n",
    "given a string s, sind the first non-repeating charater in it and return its index if it does not exits, return -1"
   ]
  },
  {
   "cell_type": "code",
   "execution_count": 12,
   "id": "8b3a4bd6-ff36-4423-9242-14595fb1bca9",
   "metadata": {},
   "outputs": [
    {
     "name": "stdout",
     "output_type": "stream",
     "text": [
      "0\n",
      "2\n",
      "-1\n"
     ]
    }
   ],
   "source": [
    "def firstUniqChar(s):\n",
    "    char_count = {}\n",
    "    \n",
    "    # Count the occurrences of each character\n",
    "    for char in s:\n",
    "        char_count[char] = char_count.get(char, 0) + 1\n",
    "    \n",
    "    # Find the index of the first non-repeating character\n",
    "    for i in range(len(s)):\n",
    "        if char_count[s[i]] == 1:\n",
    "            return i\n",
    "    \n",
    "    return -1\n",
    "\n",
    "# Test the function\n",
    "s1 = \"leetcode\"\n",
    "print(firstUniqChar(s1))\n",
    "\n",
    "s2 = \"loveleetcode\"\n",
    "print(firstUniqChar(s2))\n",
    "\n",
    "s3 = \"aabb\"\n",
    "print(firstUniqChar(s3)) \n"
   ]
  },
  {
   "cell_type": "code",
   "execution_count": null,
   "id": "cf0c9b23-0a7e-44ab-ab53-bc0c6700cd2f",
   "metadata": {},
   "outputs": [],
   "source": []
  },
  {
   "cell_type": "code",
   "execution_count": null,
   "id": "4dea766c-ac8b-47a9-8be6-4fed3ef2b003",
   "metadata": {},
   "outputs": [],
   "source": []
  }
 ],
 "metadata": {
  "kernelspec": {
   "display_name": "Python 3 (ipykernel)",
   "language": "python",
   "name": "python3"
  },
  "language_info": {
   "codemirror_mode": {
    "name": "ipython",
    "version": 3
   },
   "file_extension": ".py",
   "mimetype": "text/x-python",
   "name": "python",
   "nbconvert_exporter": "python",
   "pygments_lexer": "ipython3",
   "version": "3.10.8"
  }
 },
 "nbformat": 4,
 "nbformat_minor": 5
}

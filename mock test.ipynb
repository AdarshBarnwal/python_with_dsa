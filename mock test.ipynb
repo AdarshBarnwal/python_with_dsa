{
 "cells": [
  {
   "cell_type": "markdown",
   "id": "721bed05-4252-40f1-9b91-3bd498a18b04",
   "metadata": {},
   "source": [
    "Q1. Ans"
   ]
  },
  {
   "cell_type": "code",
   "execution_count": null,
   "id": "5f0bf2d1-43bf-4bac-811a-d6901f98dbc7",
   "metadata": {},
   "outputs": [],
   "source": [
    "Move zeroes \n",
    "given an integer array nums,move all 0's to the end of it while maintaining the relative order of the non-zero elements."
   ]
  },
  {
   "cell_type": "code",
   "execution_count": 14,
   "id": "77e4077c-b04a-4331-a0a9-44dc3a9d69b6",
   "metadata": {},
   "outputs": [
    {
     "name": "stdout",
     "output_type": "stream",
     "text": [
      "[1, 3, 12, 0, 0]\n",
      "[0]\n"
     ]
    }
   ],
   "source": [
    "def movezeroes(nums):\n",
    "    left = 0\n",
    "    right = 0\n",
    "    \n",
    "    while right < len(nums):\n",
    "        if nums[right] != 0:\n",
    "            nums[left],nums[right]=nums[right],nums[left]\n",
    "            left += 1\n",
    "        right += 1\n",
    "        \n",
    "#example\n",
    "\n",
    "nums = [0,1,0,3,12]\n",
    "result = movezeroes(nums)\n",
    "print(nums)\n",
    "\n",
    "nums1 = [0]\n",
    "moveZeroes(nums1)\n",
    "print(nums1)"
   ]
  }
 ],
 "metadata": {
  "kernelspec": {
   "display_name": "Python 3 (ipykernel)",
   "language": "python",
   "name": "python3"
  },
  "language_info": {
   "codemirror_mode": {
    "name": "ipython",
    "version": 3
   },
   "file_extension": ".py",
   "mimetype": "text/x-python",
   "name": "python",
   "nbconvert_exporter": "python",
   "pygments_lexer": "ipython3",
   "version": "3.10.8"
  }
 },
 "nbformat": 4,
 "nbformat_minor": 5
}

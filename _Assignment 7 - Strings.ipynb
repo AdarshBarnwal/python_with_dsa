{
 "cells": [
  {
   "cell_type": "markdown",
   "id": "3ece95ce-37b0-4507-b697-da4e825c2851",
   "metadata": {},
   "source": [
    "                                                Assignment 7 - Strings"
   ]
  },
  {
   "cell_type": "markdown",
   "id": "a6a2b0af-1754-4c23-bc62-c9e30be8508a",
   "metadata": {},
   "source": [
    "Q.1.Ans:-"
   ]
  },
  {
   "cell_type": "code",
   "execution_count": 1,
   "id": "e0fe96db-cfde-4d3d-9be7-b1b3051e6c90",
   "metadata": {},
   "outputs": [
    {
     "name": "stdout",
     "output_type": "stream",
     "text": [
      "True\n"
     ]
    }
   ],
   "source": [
    "def isIsomorphic(s, t):\n",
    "    if len(s) != len(t):\n",
    "        return False\n",
    "    \n",
    "    s_map = {}  # Dictionary to store character mappings\n",
    "    \n",
    "    for i in range(len(s)):\n",
    "        if s[i] in s_map:\n",
    "            if s_map[s[i]] != t[i]:\n",
    "                return False\n",
    "        else:\n",
    "            if t[i] in s_map.values():\n",
    "                return False\n",
    "            s_map[s[i]] = t[i]\n",
    "    \n",
    "    return True\n",
    "\n",
    "#Example:\n",
    "\n",
    "s = \"egg\"\n",
    "t = \"add\"\n",
    "print(isIsomorphic(s, t))\n",
    "\n",
    "\n",
    "#In this case, the function correctly determines that the strings \"egg\" and \"add\" are isomorphic \n",
    "#because the character mappings 'e' -> 'a' and 'g' -> 'd' satisfy the conditions.\n",
    "\n",
    "\n",
    "\n",
    "\n"
   ]
  },
  {
   "cell_type": "markdown",
   "id": "8889f640-a643-4cf0-a340-734e7bcd7899",
   "metadata": {},
   "source": [
    "Q.2.Ans:-"
   ]
  },
  {
   "cell_type": "code",
   "execution_count": 2,
   "id": "49232985-23dd-467b-a9d9-85e55e99e36e",
   "metadata": {},
   "outputs": [
    {
     "name": "stdout",
     "output_type": "stream",
     "text": [
      "True\n"
     ]
    }
   ],
   "source": [
    "def isStrobogrammatic(num):\n",
    "    left, right = 0, len(num) - 1\n",
    "    \n",
    "    while left <= right:\n",
    "        if num[left] == num[right]:\n",
    "            if num[left] not in ['0', '1', '8']:\n",
    "                return False\n",
    "        elif (num[left] == '6' and num[right] == '9') or (num[left] == '9' and num[right] == '6'):\n",
    "            pass\n",
    "        else:\n",
    "            return False\n",
    "        \n",
    "        left += 1\n",
    "        right -= 1\n",
    "    \n",
    "    return True\n",
    "\n",
    "#Example:-\n",
    "\n",
    "num = \"69\"\n",
    "print(isStrobogrammatic(num))\n",
    "\n",
    "#In this case, the function correctly determines that\n",
    "#the number \"69\" is strobogrammatic because when rotated 180 degrees, it remains the same.\n",
    "\n",
    "\n",
    "\n",
    "\n"
   ]
  },
  {
   "cell_type": "markdown",
   "id": "82a81884-6f33-4412-8d9d-51341d86e2df",
   "metadata": {},
   "source": [
    "Q.3.Ans:-"
   ]
  },
  {
   "cell_type": "code",
   "execution_count": 3,
   "id": "874ca213-93cb-4673-b51f-c1e60e995fbf",
   "metadata": {},
   "outputs": [
    {
     "name": "stdout",
     "output_type": "stream",
     "text": [
      "134\n"
     ]
    }
   ],
   "source": [
    "def addStrings(num1, num2):\n",
    "    p1, p2 = len(num1) - 1, len(num2) - 1\n",
    "    carry = 0\n",
    "    result = \"\"\n",
    "    \n",
    "    while p1 >= 0 or p2 >= 0:\n",
    "        digit1 = int(num1[p1]) if p1 >= 0 else 0\n",
    "        digit2 = int(num2[p2]) if p2 >= 0 else 0\n",
    "        \n",
    "        current_sum = digit1 + digit2 + carry\n",
    "        carry = current_sum // 10\n",
    "        result += str(current_sum % 10)\n",
    "        \n",
    "        p1 -= 1\n",
    "        p2 -= 1\n",
    "    \n",
    "    if carry > 0:\n",
    "        result += str(carry)\n",
    "    \n",
    "    return result[::-1]\n",
    "\n",
    "#Example:-\n",
    "\n",
    "num1 = \"11\"\n",
    "num2 = \"123\"\n",
    "print(addStrings(num1, num2))\n"
   ]
  },
  {
   "cell_type": "markdown",
   "id": "2a073fd6-26fe-4f00-bf98-42ea6836167b",
   "metadata": {},
   "source": [
    "Q.4.Ans:-"
   ]
  },
  {
   "cell_type": "code",
   "execution_count": 4,
   "id": "bfc588f9-736f-4fa6-b061-159b06a8bfd0",
   "metadata": {},
   "outputs": [
    {
     "name": "stdout",
     "output_type": "stream",
     "text": [
      "s'teL ekat edoCteeL tsetnoc\n"
     ]
    }
   ],
   "source": [
    "def reverseWords(s):\n",
    "    words = s.split()  # Split the string into words\n",
    "    reversed_words = [word[::-1] for word in words]  # Reverse each word\n",
    "    \n",
    "    return ' '.join(reversed_words)  # Join the reversed words back together\n",
    "\n",
    "\n",
    "#Example:\n",
    "\n",
    "s = \"Let's take LeetCode contest\"\n",
    "print(reverseWords(s))\n",
    "\n",
    "#In this case, the function correctly reverses the characters in each word of\n",
    "#the sentence while preserving whitespace and initial word order, resulting in \n",
    "#the output \"s'teL ekat edoCteeL tsetnoc\"."
   ]
  },
  {
   "cell_type": "markdown",
   "id": "6445226f-5c1b-4e3c-9868-71a66bc53d09",
   "metadata": {},
   "source": [
    "Q.5.Ans:"
   ]
  },
  {
   "cell_type": "code",
   "execution_count": 5,
   "id": "210fbfad-37b4-4488-b46e-e955c1f709f3",
   "metadata": {},
   "outputs": [
    {
     "name": "stdout",
     "output_type": "stream",
     "text": [
      "bacdfeg\n"
     ]
    }
   ],
   "source": [
    "def reverseStr(s, k):\n",
    "    result = \"\"\n",
    "    n = len(s)\n",
    "    \n",
    "    for i in range(0, n, 2*k):\n",
    "        # Reverse the first k characters\n",
    "        result += s[i:i+k][::-1]\n",
    "        \n",
    "        # Append the remaining characters as they are\n",
    "        result += s[i+k:i+2*k]\n",
    "    \n",
    "    return result\n",
    "\n",
    "\n",
    "#Example:\n",
    "\n",
    "s = \"abcdefg\"\n",
    "k = 2\n",
    "print(reverseStr(s, k))\n",
    "\n",
    "#In this case, the function correctly reverses the first k characters\n",
    "#for every 2k characters in the string s, resulting in the output \"bacdfeg\"."
   ]
  },
  {
   "cell_type": "markdown",
   "id": "4b158111-8d12-41e6-aa8c-01185fe7ba93",
   "metadata": {},
   "source": [
    "Q.6.Ans:"
   ]
  },
  {
   "cell_type": "code",
   "execution_count": 6,
   "id": "57bab3de-e848-49f5-9b1f-aba6f9948cd3",
   "metadata": {},
   "outputs": [
    {
     "name": "stdout",
     "output_type": "stream",
     "text": [
      "True\n"
     ]
    }
   ],
   "source": [
    "def rotateString(s, goal):\n",
    "    if len(s) != len(goal):\n",
    "        return False\n",
    "    \n",
    "    return goal in (s + s)\n",
    "\n",
    "#Example:\n",
    "\n",
    "s = \"abcde\"\n",
    "goal = \"cdeab\"\n",
    "print(rotateString(s, goal))"
   ]
  },
  {
   "cell_type": "markdown",
   "id": "95fc93da-d861-43a1-b5b5-45294d706088",
   "metadata": {},
   "source": [
    "Q.7.Ans:-\n"
   ]
  },
  {
   "cell_type": "code",
   "execution_count": 7,
   "id": "dad507bd-0f76-4f7b-ab95-e62bb323c0cd",
   "metadata": {},
   "outputs": [
    {
     "name": "stdout",
     "output_type": "stream",
     "text": [
      "True\n"
     ]
    }
   ],
   "source": [
    "def backspaceCompare(s, t):\n",
    "    def build_string(string):\n",
    "        stack = []\n",
    "        \n",
    "        for char in string:\n",
    "            if char != '#':\n",
    "                stack.append(char)\n",
    "            elif stack:\n",
    "                stack.pop()\n",
    "        \n",
    "        return ''.join(stack)\n",
    "    \n",
    "    return build_string(s) == build_string(t)\n",
    "\n",
    "#Example:\n",
    "\n",
    "s = \"ab#c\"\n",
    "t = \"ad#c\"\n",
    "print(backspaceCompare(s, t))"
   ]
  },
  {
   "cell_type": "markdown",
   "id": "40d145a8-430a-46e0-abc0-dff61cd5cbcf",
   "metadata": {},
   "source": [
    "Q.8.Ans:-    "
   ]
  },
  {
   "cell_type": "code",
   "execution_count": 8,
   "id": "9758108e-82a3-4c1e-96ec-e619be745fdc",
   "metadata": {},
   "outputs": [
    {
     "name": "stdout",
     "output_type": "stream",
     "text": [
      "True\n"
     ]
    }
   ],
   "source": [
    "def checkStraightLine(coordinates):\n",
    "    if len(coordinates) <= 2:\n",
    "        return True\n",
    "\n",
    "    x0, y0 = coordinates[0]\n",
    "    x1, y1 = coordinates[1]\n",
    "\n",
    "    for i in range(2, len(coordinates)):\n",
    "        xi, yi = coordinates[i]\n",
    "        if (y1 - y0) * (xi - x0) != (yi - y0) * (x1 - x0):\n",
    "            return False\n",
    "\n",
    "    return True\n",
    "\n",
    "# Example input\n",
    "coordinates = [[1, 2], [2, 3], [3, 4], [4, 5], [5, 6], [6, 7]]\n",
    "result = checkStraightLine(coordinates)\n",
    "print(result)"
   ]
  },
  {
   "cell_type": "code",
   "execution_count": null,
   "id": "1de7360e-4d85-49b8-bda3-d7961f0915d2",
   "metadata": {},
   "outputs": [],
   "source": []
  }
 ],
 "metadata": {
  "kernelspec": {
   "display_name": "Python 3 (ipykernel)",
   "language": "python",
   "name": "python3"
  },
  "language_info": {
   "codemirror_mode": {
    "name": "ipython",
    "version": 3
   },
   "file_extension": ".py",
   "mimetype": "text/x-python",
   "name": "python",
   "nbconvert_exporter": "python",
   "pygments_lexer": "ipython3",
   "version": "3.10.8"
  }
 },
 "nbformat": 4,
 "nbformat_minor": 5
}

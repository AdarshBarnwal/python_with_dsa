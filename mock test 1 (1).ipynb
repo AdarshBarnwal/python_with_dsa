{
 "cells": [
  {
   "cell_type": "markdown",
   "id": "41ee518c-5113-458d-acbd-1a233e890100",
   "metadata": {},
   "source": [
    "Q2. Ans"
   ]
  },
  {
   "cell_type": "code",
   "execution_count": null,
   "id": "c7fb522b-51b3-4177-8700-f41b9589fa5e",
   "metadata": {},
   "outputs": [],
   "source": [
    "First unique character in astring\n",
    "\n",
    "given a string s, sind the first non-repeating charater in it and return its index if it does not exits, return -1"
   ]
  },
  {
   "cell_type": "code",
   "execution_count": 1,
   "id": "1271979c-786e-4a03-baae-a62583e96ed1",
   "metadata": {},
   "outputs": [
    {
     "name": "stdout",
     "output_type": "stream",
     "text": [
      "0\n",
      "2\n",
      "-1\n"
     ]
    }
   ],
   "source": [
    "def firstUniqChar(s):\n",
    "    char_count = {}\n",
    "    \n",
    "    # Count the occurrences of each character\n",
    "    for char in s:\n",
    "        char_count[char] = char_count.get(char, 0) + 1\n",
    "    \n",
    "    # Find the index of the first non-repeating character\n",
    "    for i in range(len(s)):\n",
    "        if char_count[s[i]] == 1:\n",
    "            return i\n",
    "    \n",
    "    return -1\n",
    "\n",
    "# Test the function\n",
    "s1 = \"leetcode\"\n",
    "print(firstUniqChar(s1))\n",
    "\n",
    "s2 = \"loveleetcode\"\n",
    "print(firstUniqChar(s2))\n",
    "\n",
    "s3 = \"aabb\"\n",
    "print(firstUniqChar(s3)) \n"
   ]
  },
  {
   "cell_type": "code",
   "execution_count": null,
   "id": "dff5f6a2-e33b-4763-b0a4-0a717f0f626b",
   "metadata": {},
   "outputs": [],
   "source": []
  }
 ],
 "metadata": {
  "kernelspec": {
   "display_name": "Python 3 (ipykernel)",
   "language": "python",
   "name": "python3"
  },
  "language_info": {
   "codemirror_mode": {
    "name": "ipython",
    "version": 3
   },
   "file_extension": ".py",
   "mimetype": "text/x-python",
   "name": "python",
   "nbconvert_exporter": "python",
   "pygments_lexer": "ipython3",
   "version": "3.10.8"
  }
 },
 "nbformat": 4,
 "nbformat_minor": 5
}

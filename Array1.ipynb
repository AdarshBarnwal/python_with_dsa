{
 "cells": [
  {
   "cell_type": "markdown",
   "id": "49a9add9-9dc8-4efd-95fb-916cbbc14a36",
   "metadata": {},
   "source": [
    "Q1. ANS"
   ]
  },
  {
   "cell_type": "code",
   "execution_count": 7,
   "id": "185a1a24-16e9-42e6-afc5-8ed022ed0715",
   "metadata": {},
   "outputs": [
    {
     "name": "stdout",
     "output_type": "stream",
     "text": [
      "[0, 1]\n"
     ]
    }
   ],
   "source": [
    "def two_sum(nums, target):\n",
    "    seen = {}\n",
    "    for i, num in enumerate(nums):\n",
    "        complement = target - num\n",
    "        if complement in seen:\n",
    "            return [ seen[complement],i]\n",
    "        seen[num] = i\n",
    "    return []\n",
    "\n",
    "#Example:-\n",
    "nums = [2,7,11,15]\n",
    "target = 9\n",
    "result = two_sum(nums, target)\n",
    "print(result)"
   ]
  },
  {
   "cell_type": "code",
   "execution_count": null,
   "id": "fbbf5b5f-3db7-43a5-8168-a10d425d3ae5",
   "metadata": {},
   "outputs": [],
   "source": []
  },
  {
   "cell_type": "markdown",
   "id": "2e8c3256-940d-4c82-898d-34ca57efde0e",
   "metadata": {},
   "source": [
    "Q2.ANS"
   ]
  },
  {
   "cell_type": "code",
   "execution_count": 56,
   "id": "a2e68154-821e-4928-b1c6-d7b9da3e5ad2",
   "metadata": {},
   "outputs": [
    {
     "name": "stdout",
     "output_type": "stream",
     "text": [
      "[2, 2] , _*, _*\n",
      "2\n"
     ]
    }
   ],
   "source": [
    "def removeElement(nums, val):\n",
    "    k = 0  # variable to keep track of non-val elements\n",
    "    for i in range(len(nums)):\n",
    "        if nums[i] != val:\n",
    "            nums[k] = nums[i]  # move non-val elements to the beginning of the array\n",
    "            k += 1\n",
    "    return k\n",
    "\n",
    "# Test the function\n",
    "nums = [3, 2, 2, 3]\n",
    "val = 3\n",
    "result = removeElement(nums, val)\n",
    "\n",
    "print(nums[:result], \", _*\"*(len(nums)-result))\n",
    "print(result)\n"
   ]
  },
  {
   "cell_type": "code",
   "execution_count": null,
   "id": "de67082c-0138-450d-b0ad-61253955fe69",
   "metadata": {},
   "outputs": [],
   "source": []
  },
  {
   "cell_type": "markdown",
   "id": "652dd20f-6895-4941-86af-7f298dcf4d48",
   "metadata": {},
   "source": [
    "Q3. Ans"
   ]
  },
  {
   "cell_type": "code",
   "execution_count": 53,
   "id": "16c6af49-1083-48cd-a49b-04a0d839aecd",
   "metadata": {},
   "outputs": [
    {
     "name": "stdout",
     "output_type": "stream",
     "text": [
      "2\n"
     ]
    }
   ],
   "source": [
    "def searchInsert(nums, target):\n",
    "    left, right = 0, len(nums) - 1\n",
    "    \n",
    "    while left <= right:\n",
    "        mid = left + (right - left) // 2\n",
    "        \n",
    "        if nums[mid] == target:\n",
    "            return mid\n",
    "        elif nums[mid] < target:\n",
    "            left = mid + 1\n",
    "        else:\n",
    "            right = mid - 1\n",
    "    \n",
    "    return left\n",
    "\n",
    "# Example\n",
    "nums = [1, 3, 5, 6]\n",
    "target = 5\n",
    "result = searchInsert(nums, target)\n",
    "print(result)\n"
   ]
  },
  {
   "cell_type": "markdown",
   "id": "a3e6ea3d-996a-4410-859e-2a7bf350ee78",
   "metadata": {},
   "source": [
    "Q4. Ans"
   ]
  },
  {
   "cell_type": "code",
   "execution_count": 74,
   "id": "61984dcd-82b2-4762-b519-e296f8642044",
   "metadata": {},
   "outputs": [
    {
     "name": "stdout",
     "output_type": "stream",
     "text": [
      "[1, 2, 4]\n"
     ]
    }
   ],
   "source": [
    "def increment(digits):\n",
    "    carry = 1\n",
    "    for i in range(len(digits)-1, -1, -1):\n",
    "        digits[i] += carry\n",
    "        if digits[i] < 10:\n",
    "            carry = 0\n",
    "            break\n",
    "        digits[i] = 0\n",
    "    if carry == 1:\n",
    "        digits.insert(0, 1)\n",
    "    return digits\n",
    "\n",
    "# example\n",
    "digits = [1, 2, 3]\n",
    "result = increment(digits)\n",
    "print( result)\n"
   ]
  },
  {
   "cell_type": "markdown",
   "id": "ac100930-e33b-4d00-a464-14355c90b25a",
   "metadata": {},
   "source": [
    "Q5. Ans"
   ]
  },
  {
   "cell_type": "code",
   "execution_count": 78,
   "id": "82218a50-a655-4517-8c61-89bfb68e1fd3",
   "metadata": {},
   "outputs": [
    {
     "name": "stdout",
     "output_type": "stream",
     "text": [
      "[1, 2, 3, 2, 5, 6]\n"
     ]
    }
   ],
   "source": [
    "def merge(nums1, m, nums2, n):\n",
    "    p1 = m - 1\n",
    "    p2 = n - 1\n",
    "    p = m+n-1\n",
    "    \n",
    "    while p1 > 0 and p2 >= 0:\n",
    "        if nums[p1] > nums2[p2]:\n",
    "            nums1[p] = nums1[p1]\n",
    "            p1 -= 1\n",
    "        else:\n",
    "            nums1[p] = nums2[p2]\n",
    "            p2 -= 1\n",
    "        p -= 1\n",
    "        \n",
    "    #copy remaining elements from nums2 to nums1\n",
    "    nums1[:p2 + 1] = nums2[ :p2 + 1]\n",
    "    \n",
    "#Example\n",
    "\n",
    "nums1 = [1,2,3,0,0,0]\n",
    "nums2 = [2,5,6]\n",
    "m=3\n",
    "n=3\n",
    "\n",
    "\n",
    "result=merge(nums1,m,nums2,n)\n",
    "print(nums1)"
   ]
  },
  {
   "cell_type": "code",
   "execution_count": null,
   "id": "9ea34114-cb5d-49f5-bc14-47b6ef781be4",
   "metadata": {},
   "outputs": [],
   "source": []
  },
  {
   "cell_type": "markdown",
   "id": "ed59f096-ec72-47c9-bb6c-179919a3030a",
   "metadata": {},
   "source": [
    "Q6. Ans"
   ]
  },
  {
   "cell_type": "code",
   "execution_count": 86,
   "id": "fbeb4b89-1ab1-4fef-ab74-257a42bacc95",
   "metadata": {},
   "outputs": [
    {
     "name": "stdout",
     "output_type": "stream",
     "text": [
      "True\n"
     ]
    }
   ],
   "source": [
    "def contains_duplicate(nums):\n",
    "    seen = set()\n",
    "    for num in nums:\n",
    "        if num in seen:\n",
    "            return True\n",
    "    \n",
    "        seen.add(num)\n",
    "\n",
    "    return False\n",
    "\n",
    "#example\n",
    "nums = [1,2,3,1]\n",
    "result= contains_duplicate(nums)\n",
    "print(result)"
   ]
  },
  {
   "cell_type": "code",
   "execution_count": null,
   "id": "a17fadf0-21bb-4980-bc78-f6d1b1182f6e",
   "metadata": {},
   "outputs": [],
   "source": []
  },
  {
   "cell_type": "markdown",
   "id": "d68bb459-fd7b-4c7f-b8fd-9ad8f1b30aa7",
   "metadata": {},
   "source": [
    "Q7 Ans"
   ]
  },
  {
   "cell_type": "code",
   "execution_count": 87,
   "id": "ebea532a-ac38-46ba-9c53-2cd62dfa306b",
   "metadata": {},
   "outputs": [
    {
     "name": "stdout",
     "output_type": "stream",
     "text": [
      "[1, 3, 12, 0, 0]\n"
     ]
    }
   ],
   "source": [
    "def move_all_Zeroes(nums):\n",
    "    left = 0\n",
    "    for right in range(len(nums)):\n",
    "        if nums[right] != 0:\n",
    "            nums[left], nums[right] = nums[right], nums[left]\n",
    "            left += 1\n",
    "    while left < len(nums):\n",
    "        nums[left] = 0\n",
    "        left += 1\n",
    "\n",
    "# Example\n",
    "nums = [0, 1, 0, 3, 12]\n",
    "move_all_Zeroes(nums)\n",
    "print( nums)\n"
   ]
  },
  {
   "cell_type": "code",
   "execution_count": null,
   "id": "3c1977de-21f6-4b20-8637-bc38c4732059",
   "metadata": {},
   "outputs": [],
   "source": []
  },
  {
   "cell_type": "markdown",
   "id": "a88b3f02-f2be-4e54-88c0-86c37a0e7a15",
   "metadata": {},
   "source": [
    "Q8.Ans"
   ]
  },
  {
   "cell_type": "code",
   "execution_count": 88,
   "id": "32241481-79a1-43dd-b0c0-d9ef7869f704",
   "metadata": {},
   "outputs": [
    {
     "name": "stdout",
     "output_type": "stream",
     "text": [
      "[2, 3]\n"
     ]
    }
   ],
   "source": [
    "def findErrorNums(nums):\n",
    "    seen = set()\n",
    "    duplicate = 0\n",
    "    for num in nums:\n",
    "        if num in seen:\n",
    "            duplicate = num\n",
    "        else:\n",
    "            seen.add(num)\n",
    "    missing = 0\n",
    "    for i in range(1, len(nums) + 1):\n",
    "        if i not in seen:\n",
    "            missing = i\n",
    "            break\n",
    "    return [duplicate, missing]\n",
    "\n",
    "# Example\n",
    "nums = [1, 2, 2, 4]\n",
    "result = findErrorNums(nums)\n",
    "print(result)\n"
   ]
  },
  {
   "cell_type": "code",
   "execution_count": null,
   "id": "88fee8b6-5ae3-43ca-8cd9-d7bbe3ed2954",
   "metadata": {},
   "outputs": [],
   "source": []
  }
 ],
 "metadata": {
  "kernelspec": {
   "display_name": "Python 3 (ipykernel)",
   "language": "python",
   "name": "python3"
  },
  "language_info": {
   "codemirror_mode": {
    "name": "ipython",
    "version": 3
   },
   "file_extension": ".py",
   "mimetype": "text/x-python",
   "name": "python",
   "nbconvert_exporter": "python",
   "pygments_lexer": "ipython3",
   "version": "3.10.8"
  }
 },
 "nbformat": 4,
 "nbformat_minor": 5
}
